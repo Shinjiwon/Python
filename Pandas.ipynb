{
 "cells": [
  {
   "cell_type": "markdown",
   "metadata": {},
   "source": [
    "## Pandas"
   ]
  },
  {
   "cell_type": "markdown",
   "metadata": {},
   "source": [
    "#### Pandas란? 데이터 분석 및 가공에 사용하는 파이썬 라이브러리"
   ]
  },
  {
   "cell_type": "code",
   "execution_count": null,
   "metadata": {},
   "outputs": [],
   "source": [
    "import pandas as pd"
   ]
  },
  {
   "cell_type": "code",
   "execution_count": null,
   "metadata": {},
   "outputs": [],
   "source": [
    "data_frame = pd.read_csv('data/friend_list.csv')\n",
    "data_frame"
   ]
  },
  {
   "cell_type": "markdown",
   "metadata": {},
   "source": [
    "#### DataFrame이란? 행과 열의 구조를 갖는 엑셀과 같은 테이블 형태의 데이터 구조"
   ]
  },
  {
   "cell_type": "code",
   "execution_count": null,
   "metadata": {},
   "outputs": [],
   "source": [
    "# 데이터프레임에서 상위 데이터 5개를 출력. head()\n",
    "data_frame.head()"
   ]
  },
  {
   "cell_type": "code",
   "execution_count": null,
   "metadata": {},
   "outputs": [],
   "source": [
    "data_frame.head(3)"
   ]
  },
  {
   "cell_type": "code",
   "execution_count": null,
   "metadata": {},
   "outputs": [],
   "source": [
    "data_frame.tail(3)"
   ]
  },
  {
   "cell_type": "markdown",
   "metadata": {},
   "source": [
    "#### 시리즈(Series)란? 데이터프레임의 컬럼(열)을 말한다.\n",
    "##### 3개의 시리즈로 구성된 데이터프레임이다. "
   ]
  },
  {
   "cell_type": "code",
   "execution_count": null,
   "metadata": {},
   "outputs": [],
   "source": [
    "type(data_frame) # 변수의 타입 확인"
   ]
  },
  {
   "cell_type": "code",
   "execution_count": null,
   "metadata": {},
   "outputs": [],
   "source": [
    "type(data_frame.name) # 변수의 타입 확인"
   ]
  },
  {
   "cell_type": "code",
   "execution_count": null,
   "metadata": {},
   "outputs": [],
   "source": [
    "data_frame.name"
   ]
  },
  {
   "cell_type": "code",
   "execution_count": null,
   "metadata": {},
   "outputs": [],
   "source": [
    "data_frame['name']"
   ]
  },
  {
   "cell_type": "code",
   "execution_count": null,
   "metadata": {},
   "outputs": [],
   "source": [
    "data_frame"
   ]
  },
  {
   "cell_type": "code",
   "execution_count": null,
   "metadata": {},
   "outputs": [],
   "source": [
    "data_frame.job"
   ]
  },
  {
   "cell_type": "code",
   "execution_count": null,
   "metadata": {},
   "outputs": [],
   "source": [
    "data_frame.job.str.upper()"
   ]
  },
  {
   "cell_type": "code",
   "execution_count": null,
   "metadata": {},
   "outputs": [],
   "source": [
    "data_frame.job = data_frame.job.str.upper()\n",
    "data_frame.head()"
   ]
  },
  {
   "cell_type": "code",
   "execution_count": null,
   "metadata": {},
   "outputs": [],
   "source": [
    "data_frame.age"
   ]
  },
  {
   "cell_type": "markdown",
   "metadata": {},
   "source": [
    "### Pandas는 3가지의 자료구조\n",
    "#### Series, DataFrame, Panel"
   ]
  },
  {
   "cell_type": "code",
   "execution_count": null,
   "metadata": {},
   "outputs": [],
   "source": [
    "# Series 생성\n",
    "data = [1,3,5,7,9] # 리스트 자료형\n",
    "\n",
    "s = pd.Series(data)\n",
    "s"
   ]
  },
  {
   "cell_type": "code",
   "execution_count": null,
   "metadata": {},
   "outputs": [],
   "source": [
    "# DataFrame 생성\n",
    "data = {\n",
    "    'year': [2016, 2017, 2018],\n",
    "    'GDP rate': [2.8, 3.1, 3.0],\n",
    "    'GDP': ['1.00M', '1.7M', '2.6M']\n",
    "} # 딕셔너리 자료형. key → 컬럼, value → 행\n",
    "\n",
    "df = pd.DataFrame(data)\n",
    "df"
   ]
  },
  {
   "cell_type": "code",
   "execution_count": null,
   "metadata": {},
   "outputs": [],
   "source": [
    "# Panel 생성\n",
    "import pandas as pd\n",
    "import numpy as np"
   ]
  },
  {
   "cell_type": "code",
   "execution_count": null,
   "metadata": {},
   "outputs": [],
   "source": [
    "data = np.random.rand(2, 3, 4)\n",
    "data"
   ]
  },
  {
   "cell_type": "code",
   "execution_count": null,
   "metadata": {},
   "outputs": [],
   "source": [
    "p = pd.Panel(data) # Panel()명령어 지원 안됨(확인 할 것)"
   ]
  },
  {
   "cell_type": "code",
   "execution_count": null,
   "metadata": {},
   "outputs": [],
   "source": [
    "# Series s1 과 s2를 각각 생성\n",
    "s1 = pd.core.series.Series(['one', 'two', 'three'])\n",
    "s2 = pd.core.series.Series([1, 2, 3])"
   ]
  },
  {
   "cell_type": "code",
   "execution_count": null,
   "metadata": {},
   "outputs": [],
   "source": [
    "# Series s1, s2를 이용하여 DataFrame 생성하기\n",
    "pd.DataFrame(data=dict(word=s1, num=s2)) # dict() 함수: 딕셔너리로 변환하는 함수"
   ]
  },
  {
   "cell_type": "markdown",
   "metadata": {},
   "source": [
    "### 파일을 데이터프레임으로 불러오기"
   ]
  },
  {
   "cell_type": "markdown",
   "metadata": {},
   "source": [
    "#### pandas는 기본적으로 csv 파일포맷을 지원한다. 구분자로 데이터가 구성되어있는 것은 가능하다."
   ]
  },
  {
   "cell_type": "code",
   "execution_count": null,
   "metadata": {},
   "outputs": [],
   "source": [
    "df = pd.read_csv('data/friend_list.csv')\n",
    "df"
   ]
  },
  {
   "cell_type": "code",
   "execution_count": null,
   "metadata": {},
   "outputs": [],
   "source": [
    "df = pd.read_csv('data/friend_list.txt') # csv파일은 아니지만, 구분자 콤마(,)로 구분되어있어 가능하다.\n",
    "df"
   ]
  },
  {
   "cell_type": "code",
   "execution_count": null,
   "metadata": {},
   "outputs": [],
   "source": [
    "df = pd.read_csv('data/friend_list_tab.txt', delimiter='\\t') # 데이터가 TAB키로 구분되어 있음\n",
    "df"
   ]
  },
  {
   "cell_type": "code",
   "execution_count": null,
   "metadata": {},
   "outputs": [],
   "source": [
    "# 파일에 제목행이 없음\n",
    "df = pd.read_csv('data/friend_list_no_head.csv')\n",
    "df"
   ]
  },
  {
   "cell_type": "code",
   "execution_count": null,
   "metadata": {},
   "outputs": [],
   "source": [
    "# 제목행이 없을 경우 데이터를 제목행으로 사용하는 것을 방지\n",
    "df = pd.read_csv('data/friend_list_no_head.csv', header=None)\n",
    "df"
   ]
  },
  {
   "cell_type": "code",
   "execution_count": null,
   "metadata": {},
   "outputs": [],
   "source": [
    "# 위의 데이터프레임에 제목행을 지정한다.\n",
    "df.columns = ['name', 'age', 'job']"
   ]
  },
  {
   "cell_type": "code",
   "execution_count": null,
   "metadata": {},
   "outputs": [],
   "source": [
    "df"
   ]
  },
  {
   "cell_type": "code",
   "execution_count": null,
   "metadata": {},
   "outputs": [],
   "source": [
    "# 데이터프레임 생성 시 헤더(제목)을 지정하는 경우\n",
    "df = pd.read_csv('data/friend_list_no_head.csv', names=['name', 'age', 'job'])\n",
    "df"
   ]
  },
  {
   "cell_type": "markdown",
   "metadata": {},
   "source": [
    "#### 파이썬 코드로 데이터프레임 생성하기"
   ]
  },
  {
   "cell_type": "code",
   "execution_count": null,
   "metadata": {},
   "outputs": [],
   "source": [
    "# 딕셔너리로 데이터프레임 생성하기(key: 열, value: 행)\n",
    "friend_dic_list = [\n",
    "    {'name': 'Jone', 'age': 20, 'job': 'student'},\n",
    "    {'name': 'Jenny', 'age': 30, 'job': 'developer'},\n",
    "    {'name': 'Nate', 'age': 30, 'job': 'teacher'}\n",
    "]\n",
    "df = pd.DataFrame(friend_dic_list)"
   ]
  },
  {
   "cell_type": "code",
   "execution_count": null,
   "metadata": {},
   "outputs": [],
   "source": [
    "df.head()"
   ]
  },
  {
   "cell_type": "code",
   "execution_count": null,
   "metadata": {},
   "outputs": [],
   "source": [
    "# 데이터프레임의 컬럼순서 변경하기\n",
    "df = df[['age', 'job', 'name']]\n",
    "df"
   ]
  },
  {
   "cell_type": "code",
   "execution_count": null,
   "metadata": {},
   "outputs": [],
   "source": [
    "# 데이터프레임의 컬럼순서 변경하기\n",
    "df = df[['name', 'age', 'job']]\n",
    "df"
   ]
  },
  {
   "cell_type": "code",
   "execution_count": null,
   "metadata": {},
   "outputs": [],
   "source": [
    "# 데이터프레임의 컬럼 제거하기\n",
    "df = df[['name', 'job']]\n",
    "df"
   ]
  },
  {
   "cell_type": "code",
   "execution_count": null,
   "metadata": {},
   "outputs": [],
   "source": [
    "df['job'] # Series 관점으로 정보를 보기"
   ]
  },
  {
   "cell_type": "code",
   "execution_count": null,
   "metadata": {},
   "outputs": [],
   "source": [
    "df[['job']] # 데이터프레임으로 보기"
   ]
  },
  {
   "cell_type": "code",
   "execution_count": null,
   "metadata": {},
   "outputs": [],
   "source": [
    "# list로 데이터프레임 생성하기(list 2차원 구조로 존재해야한다.)\n",
    "data = [1,2,3,4,5]  # 1차원 구조\n",
    "s1 = pd.Series(data)\n",
    "s1"
   ]
  },
  {
   "cell_type": "code",
   "execution_count": null,
   "metadata": {},
   "outputs": [],
   "source": [
    "# 2차원구조의 list로 데이터프레임 생성하기\n",
    "friend_list = [\n",
    "    ['John', 20, 'student'],\n",
    "    ['Jenny', 30, 'developer'],\n",
    "    ['Nate', 30, 'teacher']\n",
    "]\n",
    "# 컬럼\n",
    "colum_name = ['name', 'age', 'job']\n",
    "# 아래 두 문장은 동일하다.\n",
    "df = pd.DataFrame(friend_list, columns=colum_name )\n",
    "# df = pd.DataFrame.from_records(friend_list, columns=colum_name )"
   ]
  },
  {
   "cell_type": "code",
   "execution_count": null,
   "metadata": {},
   "outputs": [],
   "source": [
    "df"
   ]
  },
  {
   "cell_type": "code",
   "execution_count": null,
   "metadata": {},
   "outputs": [],
   "source": [
    "# 제목까지 포함한 리스트로 데이터프레임 생성하기\n",
    "friend_list = [\n",
    "    ['name', ['John', 'Jenny', 'Nate']],\n",
    "    ['age', [20, 30, 30]],\n",
    "    ['job', ['student', 'developer', 'teacher']]\n",
    "]\n",
    "df = pd.DataFrame.from_items(friend_list) # 현재 버전에서 에러발생(체크버전 확인 할 것.)\n",
    "df"
   ]
  },
  {
   "cell_type": "markdown",
   "metadata": {},
   "source": [
    "#### 데이터프레임을 파일로 저장하기"
   ]
  },
  {
   "cell_type": "code",
   "execution_count": null,
   "metadata": {},
   "outputs": [],
   "source": [
    "friend_list = [\n",
    "    ['John', 20, 'student'],\n",
    "    ['Jenny', 30, 'developer'],\n",
    "    ['Nate', 30, 'teacher']\n",
    "]\n",
    "\n",
    "colum_name = ['name', 'age', 'job']\n",
    "\n",
    "df = pd.DataFrame(friend_list, columns=colum_name )"
   ]
  },
  {
   "cell_type": "code",
   "execution_count": null,
   "metadata": {},
   "outputs": [],
   "source": [
    "df"
   ]
  },
  {
   "cell_type": "code",
   "execution_count": null,
   "metadata": {},
   "outputs": [],
   "source": [
    "# 데이터프레임을 파일로 저장하기\n",
    "\n",
    "df.to_csv('data/friend_list_from_df.csv')"
   ]
  },
  {
   "cell_type": "code",
   "execution_count": null,
   "metadata": {},
   "outputs": [],
   "source": [
    "df.to_csv('data/friend_list_from_df.txt')"
   ]
  },
  {
   "cell_type": "code",
   "execution_count": null,
   "metadata": {},
   "outputs": [],
   "source": [
    "df.to_csv('data/friend_list_from_df.csv', header=['name', 'age', 'job'])"
   ]
  },
  {
   "cell_type": "code",
   "execution_count": null,
   "metadata": {},
   "outputs": [],
   "source": [
    "df"
   ]
  },
  {
   "cell_type": "markdown",
   "metadata": {},
   "source": [
    "### 행 선택하기"
   ]
  },
  {
   "cell_type": "code",
   "execution_count": null,
   "metadata": {},
   "outputs": [],
   "source": [
    "friend_list = [\n",
    "    ['John', 20, 'student'],\n",
    "    ['Jenny', 30, 'developer'],\n",
    "    ['Nate', 30, 'teacher']\n",
    "]\n",
    "\n",
    "colum_name = ['name', 'age', 'job']\n",
    "\n",
    "# df = pd.DataFrame(friend_list, columns=colum_name )\n",
    "df = pd.DataFrame.from_records(friend_list, columns=colum_name )"
   ]
  },
  {
   "cell_type": "code",
   "execution_count": null,
   "metadata": {},
   "outputs": [],
   "source": [
    "df"
   ]
  },
  {
   "cell_type": "code",
   "execution_count": null,
   "metadata": {},
   "outputs": [],
   "source": [
    "# 컬럼을 기준으로\n",
    "df[['name']]"
   ]
  },
  {
   "cell_type": "code",
   "execution_count": null,
   "metadata": {},
   "outputs": [],
   "source": [
    "df[['name', 'job']]"
   ]
  },
  {
   "cell_type": "code",
   "execution_count": null,
   "metadata": {},
   "outputs": [],
   "source": [
    "df[['job', 'age']]"
   ]
  },
  {
   "cell_type": "code",
   "execution_count": null,
   "metadata": {},
   "outputs": [],
   "source": [
    "# 행을 기준으로. 인덱스 1에서 인덱스 3을 포함하지 않은 데이터 행을 출력하라. (순차적 의미)\n",
    "df[1:3]"
   ]
  },
  {
   "cell_type": "code",
   "execution_count": null,
   "metadata": {},
   "outputs": [],
   "source": [
    "# 행을 선택적으로 보기. (비순차적 의미)\n",
    "df.loc[[0, 2]]"
   ]
  },
  {
   "cell_type": "markdown",
   "metadata": {},
   "source": [
    "### 컬럼에 필터링 적용하기.(조건식)"
   ]
  },
  {
   "cell_type": "code",
   "execution_count": null,
   "metadata": {},
   "outputs": [],
   "source": [
    "df_filtered = df[df.age > 25] # 조건식이 적용된 데이터프레임"
   ]
  },
  {
   "cell_type": "code",
   "execution_count": null,
   "metadata": {},
   "outputs": [],
   "source": [
    "df_filtered"
   ]
  },
  {
   "cell_type": "code",
   "execution_count": null,
   "metadata": {},
   "outputs": [],
   "source": [
    "# 조건식 사용하기 2\n",
    "df_filtered = df.query('age > 25')\n",
    "df_filtered"
   ]
  },
  {
   "cell_type": "code",
   "execution_count": null,
   "metadata": {},
   "outputs": [],
   "source": [
    "# 조건식 여러개 사용하기\n",
    "df_filtered = df[(df.age > 25) & (df.name == 'Nate')]\n",
    "df_filtered"
   ]
  },
  {
   "cell_type": "code",
   "execution_count": null,
   "metadata": {},
   "outputs": [],
   "source": [
    "df"
   ]
  },
  {
   "cell_type": "code",
   "execution_count": null,
   "metadata": {},
   "outputs": [],
   "source": [
    "# 행, 열 인덱스를 이용한 필터링 하기 df[(행)시작인덱스:끝인덱스, (열)시작인덱스:끝인덱스]\n",
    "df.iloc[:, 0:2]"
   ]
  },
  {
   "cell_type": "code",
   "execution_count": null,
   "metadata": {},
   "outputs": [],
   "source": [
    "df = pd.read_csv('data/friend_list.csv')\n",
    "df"
   ]
  },
  {
   "cell_type": "code",
   "execution_count": null,
   "metadata": {},
   "outputs": [],
   "source": [
    "# 정규식 사용\n",
    "df.filter(regex='e$', axis=1)"
   ]
  },
  {
   "cell_type": "markdown",
   "metadata": {},
   "source": [
    "### 행 삭제하기"
   ]
  },
  {
   "cell_type": "markdown",
   "metadata": {},
   "source": [
    "##### 리스트 자료형을 사용하여 데이터프레임 생성하기(2차원 구조) → [[ ],[ ]]\n",
    "##### 딕셔너리 자료형을 사용하여 데이터프레임 생성하기"
   ]
  },
  {
   "cell_type": "code",
   "execution_count": null,
   "metadata": {},
   "outputs": [],
   "source": [
    "# 딕셔너리로 데이터프레임을 생성\n",
    "# 딕셔너리로 표현할 경우 key는 이름이 동일해야 한다.\n",
    "\n",
    "friend_dict_list = [\n",
    "    \n",
    "    {'age': 20, 'job': 'student'},\n",
    "    {'age': 30, 'job': 'developer'},\n",
    "    {'age': 20, 'job': 'teacher'}\n",
    "]\n",
    "\n",
    "# 데이터프레임 생성 시 데이터행을 가리키는 인덱스가 자동저장되어 있다.\n",
    "df = pd.DataFrame(friend_dict_list, index=['John','Jenny','Nate'])\n",
    "df"
   ]
  },
  {
   "cell_type": "code",
   "execution_count": null,
   "metadata": {},
   "outputs": [],
   "source": [
    "df.drop(['John', 'Nate']) # 'John', 'Nate' 인덱스 행을 삭제한다."
   ]
  },
  {
   "cell_type": "code",
   "execution_count": null,
   "metadata": {},
   "outputs": [],
   "source": [
    "df"
   ]
  },
  {
   "cell_type": "code",
   "execution_count": null,
   "metadata": {},
   "outputs": [],
   "source": [
    "df = df.drop(['John', 'Nate']) # 인덱스 행이 삭제된 상태의 반환 결과를 새로 저장\n",
    "df"
   ]
  },
  {
   "cell_type": "code",
   "execution_count": null,
   "metadata": {},
   "outputs": [],
   "source": [
    "# 다시 데이터프레임 생성\n",
    "\n",
    "friend_dict_list = [\n",
    "    \n",
    "    {'age': 20, 'job': 'student'},\n",
    "    {'age': 30, 'job': 'developer'},\n",
    "    {'age': 20, 'job': 'teacher'}\n",
    "]\n",
    "\n",
    "df = pd.DataFrame(friend_dict_list, index=['John','Jenny','Nate'])\n",
    "df"
   ]
  },
  {
   "cell_type": "code",
   "execution_count": null,
   "metadata": {},
   "outputs": [],
   "source": [
    "df.drop(['John', 'Nate'])\n",
    "df"
   ]
  },
  {
   "cell_type": "code",
   "execution_count": null,
   "metadata": {},
   "outputs": [],
   "source": [
    "df.drop(['John', 'Nate'], inplace=True)\n",
    "df"
   ]
  },
  {
   "cell_type": "code",
   "execution_count": null,
   "metadata": {},
   "outputs": [],
   "source": [
    "friend_dic_list = [\n",
    "    {'name': 'Jone', 'age': 20, 'job': 'student'},\n",
    "    {'name': 'Jenny', 'age': 30, 'job': 'developer'},\n",
    "    {'name': 'Nate', 'age': 30, 'job': 'teacher'}\n",
    "]\n",
    "df = pd.DataFrame(friend_dic_list)"
   ]
  },
  {
   "cell_type": "code",
   "execution_count": null,
   "metadata": {},
   "outputs": [],
   "source": [
    "df"
   ]
  },
  {
   "cell_type": "code",
   "execution_count": null,
   "metadata": {},
   "outputs": [],
   "source": [
    "df = df.drop('age', axis=1) # age 컬럼 삭제하기"
   ]
  },
  {
   "cell_type": "code",
   "execution_count": null,
   "metadata": {},
   "outputs": [],
   "source": [
    "df"
   ]
  },
  {
   "cell_type": "code",
   "execution_count": null,
   "metadata": {},
   "outputs": [],
   "source": [
    "# 데이터프레임 생성하기\n",
    "friend_dic_list = [\n",
    "    {'name': 'Jone', 'age': 20, 'job': 'student'},\n",
    "    {'name': 'Jenny', 'age': 30, 'job': 'developer'},\n",
    "    {'name': 'Nate', 'age': 30, 'job': 'teacher'}\n",
    "]\n",
    "df = pd.DataFrame(friend_dic_list)"
   ]
  },
  {
   "cell_type": "code",
   "execution_count": null,
   "metadata": {},
   "outputs": [],
   "source": [
    "df"
   ]
  },
  {
   "cell_type": "markdown",
   "metadata": {},
   "source": [
    "#### 컬럼 추가, 변경하기"
   ]
  },
  {
   "cell_type": "code",
   "execution_count": null,
   "metadata": {},
   "outputs": [],
   "source": [
    "# 컬럼추가하기\n",
    "df['salary'] = 0"
   ]
  },
  {
   "cell_type": "code",
   "execution_count": null,
   "metadata": {},
   "outputs": [],
   "source": [
    "df"
   ]
  },
  {
   "cell_type": "code",
   "execution_count": null,
   "metadata": {},
   "outputs": [],
   "source": [
    "# 데이터프레임 생성하기\n",
    "friend_dic_list = [\n",
    "    {'name': 'Jone', 'age': 20, 'job': 'student'},\n",
    "    {'name': 'Jenny', 'age': 30, 'job': 'developer'},\n",
    "    {'name': 'Nate', 'age': 30, 'job': 'teacher'}\n",
    "]\n",
    "df = pd.DataFrame(friend_dic_list)"
   ]
  },
  {
   "cell_type": "code",
   "execution_count": null,
   "metadata": {},
   "outputs": [],
   "source": [
    "df"
   ]
  },
  {
   "cell_type": "code",
   "execution_count": null,
   "metadata": {},
   "outputs": [],
   "source": [
    "import numpy as np"
   ]
  },
  {
   "cell_type": "code",
   "execution_count": null,
   "metadata": {},
   "outputs": [],
   "source": [
    "df"
   ]
  },
  {
   "cell_type": "code",
   "execution_count": null,
   "metadata": {},
   "outputs": [],
   "source": [
    "# df['NEW컬럼명'] =  값\n",
    "# job이 student인 경우에는 no, 아닌 경우에는 yes\n",
    "\n",
    "df['salary'] = np.where(df['job'] != 'student', 'yes', 'no')"
   ]
  },
  {
   "cell_type": "code",
   "execution_count": null,
   "metadata": {},
   "outputs": [],
   "source": [
    "df"
   ]
  },
  {
   "cell_type": "code",
   "execution_count": null,
   "metadata": {},
   "outputs": [],
   "source": [
    "# 데이터프레임 생성하기\n",
    "\n",
    "friend_dic_list = [\n",
    "    \n",
    "    {'name': 'John', 'midterm': 95, 'final': 85},\n",
    "    {'name': 'Jenny', 'midterm': 70, 'final': 90},\n",
    "    {'name': 'Nate', 'midterm': 45, 'final': 30}\n",
    "]\n",
    "df = pd.DataFrame(friend_dic_list)"
   ]
  },
  {
   "cell_type": "code",
   "execution_count": null,
   "metadata": {},
   "outputs": [],
   "source": [
    "df"
   ]
  },
  {
   "cell_type": "code",
   "execution_count": null,
   "metadata": {},
   "outputs": [],
   "source": [
    "# 중간고사(midterm) + 기말고사(final) = 합계(total)\n",
    "\n",
    "df['total'] = df['midterm'] + df['final']"
   ]
  },
  {
   "cell_type": "code",
   "execution_count": null,
   "metadata": {},
   "outputs": [],
   "source": [
    "df"
   ]
  },
  {
   "cell_type": "code",
   "execution_count": null,
   "metadata": {},
   "outputs": [],
   "source": [
    "# 평균(average) 추가\n",
    "\n",
    "df['average'] = df['total'] / 2"
   ]
  },
  {
   "cell_type": "code",
   "execution_count": null,
   "metadata": {},
   "outputs": [],
   "source": [
    "df"
   ]
  },
  {
   "cell_type": "code",
   "execution_count": null,
   "metadata": {},
   "outputs": [],
   "source": [
    "# 평균값을 사용하여 등급(grade) 컬럼을 추가\n",
    "# 평균 점수가 90이상 A, 80이상 B, 70이상 C, 나머지 F\n",
    "\n",
    "# 등급을 판단하는 구문\n",
    "\n",
    "grades = []\n",
    "\n",
    "for row in df['average']:\n",
    "    if row >= 90:\n",
    "        grades.append('A')\n",
    "    elif row >= 80:\n",
    "        grades.append('B')\n",
    "    elif row >= 70:\n",
    "        grades.append('C')\n",
    "    else:\n",
    "        grades.append('F')\n",
    "        \n",
    "df['grade'] = grades\n",
    "df"
   ]
  },
  {
   "cell_type": "code",
   "execution_count": null,
   "metadata": {},
   "outputs": [],
   "source": [
    "# 등급을 판단해서 성공, 실패여부 확인\n",
    "def success_or_fail(row):\n",
    "    print(row)\n",
    "    \n",
    "    if row != 'F':\n",
    "        return 'Success'\n",
    "    else:\n",
    "        return 'Fail'"
   ]
  },
  {
   "cell_type": "code",
   "execution_count": null,
   "metadata": {},
   "outputs": [],
   "source": [
    "df['status'] = df.grade.apply(success_or_fail)"
   ]
  },
  {
   "cell_type": "code",
   "execution_count": null,
   "metadata": {},
   "outputs": [],
   "source": [
    "df"
   ]
  },
  {
   "cell_type": "code",
   "execution_count": null,
   "metadata": {},
   "outputs": [],
   "source": [
    "date_list = [\n",
    "    \n",
    "    {'yyyy-mm-dd': '2008-06-27'},\n",
    "    {'yyyy-mm-dd': '2012-09-24'},\n",
    "    {'yyyy-mm-dd': '2000-12-26'}\n",
    "]\n",
    "\n",
    "df = pd.DataFrame(date_list)\n",
    "df"
   ]
  },
  {
   "cell_type": "code",
   "execution_count": null,
   "metadata": {},
   "outputs": [],
   "source": [
    "# 연도를 구하는 함수\n",
    "def extract_year(row):\n",
    "    return row.split('-')[0]"
   ]
  },
  {
   "cell_type": "code",
   "execution_count": null,
   "metadata": {},
   "outputs": [],
   "source": [
    "df['year'] = df['yyyy-mm-dd'].apply(extract_year)"
   ]
  },
  {
   "cell_type": "code",
   "execution_count": null,
   "metadata": {},
   "outputs": [],
   "source": [
    "df"
   ]
  },
  {
   "cell_type": "markdown",
   "metadata": {},
   "source": [
    "### apply()함수에 파라미터 사용하기"
   ]
  },
  {
   "cell_type": "code",
   "execution_count": null,
   "metadata": {},
   "outputs": [],
   "source": [
    "def extract_year(row, cur_year): # 2020 - 2000\n",
    "    return cur_year - int(row)"
   ]
  },
  {
   "cell_type": "code",
   "execution_count": null,
   "metadata": {},
   "outputs": [],
   "source": [
    "df['age'] = df['year'].apply(extract_year, cur_year = 2020)"
   ]
  },
  {
   "cell_type": "code",
   "execution_count": null,
   "metadata": {},
   "outputs": [],
   "source": [
    "df"
   ]
  },
  {
   "cell_type": "markdown",
   "metadata": {},
   "source": [
    "### apply() 함수에 파라미터 여러개 사용하기"
   ]
  },
  {
   "cell_type": "code",
   "execution_count": null,
   "metadata": {},
   "outputs": [],
   "source": [
    "def get_intro(age, prefix, suffix):\n",
    "    return prefix + str(age) + suffix"
   ]
  },
  {
   "cell_type": "code",
   "execution_count": null,
   "metadata": {},
   "outputs": [],
   "source": [
    "df['intro'] = df['age'].apply(get_intro, prefix = '나는 ', suffix = '세 입니다.')\n",
    "df"
   ]
  },
  {
   "cell_type": "markdown",
   "metadata": {},
   "source": [
    "### apply()함수에 여러개의 컬럼 파라미터로 사용하기"
   ]
  },
  {
   "cell_type": "code",
   "execution_count": null,
   "metadata": {},
   "outputs": [],
   "source": [
    "def get_intro2(row):\n",
    "    return \"나는 \" + str(row.year) + \"년도 출생이고, 나이는 \" + str(row.age)"
   ]
  },
  {
   "cell_type": "code",
   "execution_count": null,
   "metadata": {},
   "outputs": [],
   "source": [
    "df.intro = df.apply(get_intro2, axis=1) # 기존 컬럼명을 이용하여 처리"
   ]
  },
  {
   "cell_type": "code",
   "execution_count": null,
   "metadata": {},
   "outputs": [],
   "source": [
    "df"
   ]
  },
  {
   "cell_type": "markdown",
   "metadata": {},
   "source": [
    "### Map() 함수로 컬럼 추가 및 변경하기"
   ]
  },
  {
   "cell_type": "code",
   "execution_count": null,
   "metadata": {},
   "outputs": [],
   "source": [
    "# 연도를 구하는 함수\n",
    "def extract_year(row):\n",
    "    return row.split('-')[0]"
   ]
  },
  {
   "cell_type": "code",
   "execution_count": null,
   "metadata": {},
   "outputs": [],
   "source": [
    "date_list = [\n",
    "    \n",
    "    {'yyyy-mm-dd': '2008-06-27'},\n",
    "    {'yyyy-mm-dd': '2012-09-24'},\n",
    "    {'yyyy-mm-dd': '2000-12-26'}\n",
    "]\n",
    "\n",
    "df = pd.DataFrame(date_list)\n",
    "df"
   ]
  },
  {
   "cell_type": "code",
   "execution_count": null,
   "metadata": {},
   "outputs": [],
   "source": [
    "# apply()함수와 동일하게 사용이 가능.\n",
    "df['year'] = df['yyyy-mm-dd'].map(extract_year)\n",
    "df"
   ]
  },
  {
   "cell_type": "code",
   "execution_count": null,
   "metadata": {},
   "outputs": [],
   "source": [
    "# 데이터프레임 생성하기\n",
    "friend_dic_list = [\n",
    "    {'name': 'Jone', 'age': 20, 'job': 'student'},\n",
    "    {'name': 'Jenny', 'age': 30, 'job': 'developer'},\n",
    "    {'name': 'Nate', 'age': 30, 'job': 'teacher'}\n",
    "]\n",
    "df = pd.DataFrame(friend_dic_list)\n",
    "df"
   ]
  },
  {
   "cell_type": "markdown",
   "metadata": {},
   "source": [
    "#### apply()와 Map()일 다른 사용 예제"
   ]
  },
  {
   "cell_type": "code",
   "execution_count": null,
   "metadata": {},
   "outputs": [],
   "source": [
    "df.job = df['job']. map({'student': 1, 'developer': 2, 'teacher': 3})\n",
    "df"
   ]
  },
  {
   "cell_type": "markdown",
   "metadata": {},
   "source": [
    "### applymap() 함수 사용하기"
   ]
  },
  {
   "cell_type": "code",
   "execution_count": null,
   "metadata": {},
   "outputs": [],
   "source": [
    "# 데이터프레임 전체 요소의 값을 한번에 변경하기\n",
    "x_y = [\n",
    "    {'x': 5.5, 'y': -5.6},\n",
    "    {'x': -5.2, 'y': 5.2},\n",
    "    {'x': -1.6, 'y': -4.5}\n",
    "]\n",
    "\n",
    "df = pd.DataFrame(x_y)\n",
    "df"
   ]
  },
  {
   "cell_type": "code",
   "execution_count": null,
   "metadata": {},
   "outputs": [],
   "source": [
    "df = df.applymap(np.around)\n",
    "df"
   ]
  },
  {
   "cell_type": "code",
   "execution_count": null,
   "metadata": {},
   "outputs": [],
   "source": [
    "# 데이터프레임 생성하기\n",
    "friend_dic_list = [\n",
    "    {'name': 'Jone', 'age': 20, 'job': 'student'},\n",
    "    {'name': 'Jenny', 'age': 30, 'job': 'developer'},\n",
    "    {'name': 'Nate', 'age': 30, 'job': 'teacher'}\n",
    "]\n",
    "df = pd.DataFrame(friend_dic_list)"
   ]
  },
  {
   "cell_type": "code",
   "execution_count": null,
   "metadata": {},
   "outputs": [],
   "source": [
    "df"
   ]
  },
  {
   "cell_type": "code",
   "execution_count": null,
   "metadata": {},
   "outputs": [],
   "source": [
    "# 파일로 생성. 인덱스 포함해서 생성\n",
    "df.to_csv('data/friend_dic_list.csv', index=False)"
   ]
  },
  {
   "cell_type": "code",
   "execution_count": null,
   "metadata": {},
   "outputs": [],
   "source": [
    "df2 = pd.read_csv('data/friend_dic_list.csv')"
   ]
  },
  {
   "cell_type": "code",
   "execution_count": null,
   "metadata": {},
   "outputs": [],
   "source": [
    "df2"
   ]
  },
  {
   "cell_type": "markdown",
   "metadata": {},
   "source": [
    "### 데이터프레임에 행(row) 추가하기"
   ]
  },
  {
   "cell_type": "code",
   "execution_count": null,
   "metadata": {},
   "outputs": [],
   "source": [
    "# 데이터프레임 생성하기\n",
    "friend_dic_list = [\n",
    "    {'name': 'Jone', 'age': 20, 'job': 'student'},\n",
    "    {'name': 'Jenny', 'age': 30, 'job': 'developer'},\n",
    "    {'name': 'Nate', 'age': 30, 'job': 'teacher'}\n",
    "]\n",
    "df = pd.DataFrame(friend_dic_list)"
   ]
  },
  {
   "cell_type": "code",
   "execution_count": null,
   "metadata": {},
   "outputs": [],
   "source": [
    "df"
   ]
  },
  {
   "cell_type": "code",
   "execution_count": null,
   "metadata": {},
   "outputs": [],
   "source": [
    "# 1개의 데이터 행을 구성하고 데이터프레임 생성\n",
    "df2 = pd.DataFrame([['Kim', 35, 'developer']], columns=['name', 'age', 'job'])"
   ]
  },
  {
   "cell_type": "code",
   "execution_count": null,
   "metadata": {},
   "outputs": [],
   "source": [
    "df2"
   ]
  },
  {
   "cell_type": "code",
   "execution_count": null,
   "metadata": {},
   "outputs": [],
   "source": [
    "df = df.append(df2, ignore_index=True)"
   ]
  },
  {
   "cell_type": "code",
   "execution_count": null,
   "metadata": {},
   "outputs": [],
   "source": [
    "df"
   ]
  },
  {
   "cell_type": "code",
   "execution_count": null,
   "metadata": {},
   "outputs": [],
   "source": [
    "# 딕셔너리를 이용하여 데이터프레임 생성\n",
    "student_list = [{'name': 'John', 'major': \"Computer Science\", 'sex': \"male\"},\n",
    "                {'name': 'Nate', 'major': \"Computer Science\", 'sex': \"male\"},\n",
    "                {'name': 'Abraham', 'major': \"Physics\", 'sex': \"male\"},\n",
    "                {'name': 'Brian', 'major': \"Psychology\", 'sex': \"male\"},\n",
    "                {'name': 'Janny', 'major': \"Economics\", 'sex': \"female\"},\n",
    "                {'name': 'Yuna', 'major': \"Economics\", 'sex': \"female\"},\n",
    "                {'name': 'Jeniffer', 'major': \"Computer Science\", 'sex': \"female\"},\n",
    "                {'name': 'Edward', 'major': \"Computer Science\", 'sex': \"male\"},\n",
    "                {'name': 'Zara', 'major': \"Psychology\", 'sex': \"female\"},\n",
    "                {'name': 'Wendy', 'major': \"Economics\", 'sex': \"female\"},\n",
    "                {'name': 'Sera', 'major': \"Psychology\", 'sex': \"female\"}\n",
    "         ]\n",
    "df = pd.DataFrame(student_list, columns = ['name', 'major', 'sex'])\n",
    "df"
   ]
  },
  {
   "cell_type": "code",
   "execution_count": null,
   "metadata": {},
   "outputs": [],
   "source": [
    "# major컬럼을 그룹화\n",
    "groupby_major = df.groupby('major')"
   ]
  },
  {
   "cell_type": "code",
   "execution_count": null,
   "metadata": {},
   "outputs": [],
   "source": [
    "groupby_major.groups"
   ]
  },
  {
   "cell_type": "code",
   "execution_count": null,
   "metadata": {},
   "outputs": [],
   "source": [
    "for name, group in groupby_major:\n",
    "    print(name + \":\" + str(len(group)))\n",
    "    print(group)\n",
    "    print()"
   ]
  },
  {
   "cell_type": "code",
   "execution_count": null,
   "metadata": {},
   "outputs": [],
   "source": [
    "# 그룹화된 정보를 데이터프레임으로 생성하기\n",
    "df_major_cnt =  pd.DataFrame({'count': groupby_major.size()}).reset_index()"
   ]
  },
  {
   "cell_type": "code",
   "execution_count": null,
   "metadata": {},
   "outputs": [],
   "source": [
    "df_major_cnt"
   ]
  },
  {
   "cell_type": "code",
   "execution_count": null,
   "metadata": {},
   "outputs": [],
   "source": [
    "# sex컬럼을 그룹화\n",
    "group_sex = df.groupby('sex')"
   ]
  },
  {
   "cell_type": "code",
   "execution_count": null,
   "metadata": {},
   "outputs": [],
   "source": [
    "group_sex.groups # 그룹화된 요약 정보"
   ]
  },
  {
   "cell_type": "code",
   "execution_count": null,
   "metadata": {},
   "outputs": [],
   "source": [
    "# name: 그릅화에 사용한 데이터, group: 그룹화된 데이터 내역\n",
    "for name, group in group_sex:\n",
    "    print(name + \": \" + str(len(group)))\n",
    "    print(group)\n",
    "    print()"
   ]
  },
  {
   "cell_type": "code",
   "execution_count": null,
   "metadata": {},
   "outputs": [],
   "source": [
    "# 그룹화 정보(group_sex)를 내용으로 데이터프레임 생성\n",
    "df_sex_cnt = pd.DataFrame({'count': group_sex.size()}).reset_index()"
   ]
  },
  {
   "cell_type": "code",
   "execution_count": null,
   "metadata": {},
   "outputs": [],
   "source": [
    "df_sex_cnt"
   ]
  },
  {
   "cell_type": "code",
   "execution_count": null,
   "metadata": {},
   "outputs": [],
   "source": [
    "# 딕셔너리를 이용하여 데이터프레임 생성\n",
    "student_list = [{'name': 'John', 'major': \"Computer Science\", 'sex': \"male\"},\n",
    "                {'name': 'Nate', 'major': \"Computer Science\", 'sex': \"male\"},\n",
    "                {'name': 'Abraham', 'major': \"Physics\", 'sex': \"male\"},\n",
    "                {'name': 'Brian', 'major': \"Psychology\", 'sex': \"male\"},\n",
    "                {'name': 'Janny', 'major': \"Economics\", 'sex': \"female\"},\n",
    "                {'name': 'Yuna', 'major': \"Economics\", 'sex': \"female\"},\n",
    "                {'name': 'Jeniffer', 'major': \"Computer Science\", 'sex': \"female\"},\n",
    "                {'name': 'Edward', 'major': \"Computer Science\", 'sex': \"male\"},\n",
    "                {'name': 'Zara', 'major': \"Psychology\", 'sex': \"female\"},\n",
    "                {'name': 'Wendy', 'major': \"Economics\", 'sex': \"female\"},\n",
    "                {'name': 'Sera', 'major': \"Psychology\", 'sex': \"female\"},\n",
    "                {'name': 'John', 'major': \"Computer Science\", 'sex': \"male\"}\n",
    "         ]\n",
    "df = pd.DataFrame(student_list, columns = ['name', 'major', 'sex'])\n",
    "df"
   ]
  },
  {
   "cell_type": "code",
   "execution_count": null,
   "metadata": {},
   "outputs": [],
   "source": [
    "# 중복된데이터 확인하기\n",
    "df.duplicated()"
   ]
  },
  {
   "cell_type": "code",
   "execution_count": null,
   "metadata": {},
   "outputs": [],
   "source": [
    "# 중복된 데이터 삭제하기\n",
    "df = df.drop_duplicates()\n",
    "df"
   ]
  },
  {
   "cell_type": "code",
   "execution_count": null,
   "metadata": {},
   "outputs": [],
   "source": [
    "# 딕셔너리를 이용하여 데이터프레임 생성\n",
    "student_list = [{'name': 'John', 'major': \"Computer Science\", 'sex': \"male\"},\n",
    "                {'name': 'Nate', 'major': \"Computer Science\", 'sex': \"male\"},\n",
    "                {'name': 'Abraham', 'major': \"Physics\", 'sex': \"male\"},\n",
    "                {'name': 'Brian', 'major': \"Psychology\", 'sex': \"male\"},\n",
    "                {'name': 'Janny', 'major': \"Economics\", 'sex': \"female\"},\n",
    "                {'name': 'Yuna', 'major': \"Economics\", 'sex': \"female\"},\n",
    "                {'name': 'Jeniffer', 'major': \"Computer Science\", 'sex': \"female\"},\n",
    "                {'name': 'Edward', 'major': \"Computer Science\", 'sex': \"male\"},\n",
    "                {'name': 'Zara', 'major': \"Psychology\", 'sex': \"female\"},\n",
    "                {'name': 'Wendy', 'major': \"Economics\", 'sex': \"female\"},\n",
    "                {'name': 'Sera', 'major': \"Psychology\", 'sex': \"female\"},\n",
    "                {'name': 'John', 'major': \"Computer Science\", 'sex': \"male\"}\n",
    "         ]\n",
    "df = pd.DataFrame(student_list, columns = ['name', 'major', 'sex'])\n",
    "df"
   ]
  },
  {
   "cell_type": "code",
   "execution_count": null,
   "metadata": {},
   "outputs": [],
   "source": [
    "# name컬럼에 중복된 데이터 확인\n",
    "df.duplicated(['name'])"
   ]
  },
  {
   "cell_type": "code",
   "execution_count": null,
   "metadata": {},
   "outputs": [],
   "source": [
    "# name컬럼에 중복된 데이터 삭제하기\n",
    "# 중복된 데이터 중 마지막 데이터 유지\n",
    "df.drop_duplicates(['name'], keep='last')"
   ]
  },
  {
   "cell_type": "code",
   "execution_count": null,
   "metadata": {},
   "outputs": [],
   "source": [
    "# # 중복된 데이터 중 첫번 째 데이터 유지\n",
    "df.drop_duplicates(['name'], keep='first')"
   ]
  },
  {
   "cell_type": "markdown",
   "metadata": {},
   "source": [
    "### None 처리하기(DB관점으로 보면 Null의미)"
   ]
  },
  {
   "cell_type": "code",
   "execution_count": null,
   "metadata": {},
   "outputs": [],
   "source": [
    "school_id_list = [{'name': 'John', 'job': \"teacher\", 'age': 40},\n",
    "                {'name': 'Nate', 'job': \"teacher\", 'age': 35},\n",
    "                {'name': 'Yuna', 'job': \"teacher\", 'age': 37},\n",
    "                {'name': 'Abraham', 'job': \"student\", 'age': 10},\n",
    "                {'name': 'Brian', 'job': \"student\", 'age': 12},\n",
    "                {'name': 'Janny', 'job': \"student\", 'age': 11},\n",
    "                {'name': 'Nate', 'job': \"teacher\", 'age': None},\n",
    "                {'name': 'John', 'job': \"student\", 'age': None}\n",
    "         ]\n",
    "df = pd.DataFrame(school_id_list, columns = ['name', 'job', 'age'])\n",
    "df"
   ]
  },
  {
   "cell_type": "code",
   "execution_count": null,
   "metadata": {},
   "outputs": [],
   "source": [
    "df.to_csv('data/school_id_list.csv', index=False)"
   ]
  },
  {
   "cell_type": "markdown",
   "metadata": {},
   "source": [
    "### Null 또는 NaN 정보 확인하기"
   ]
  },
  {
   "cell_type": "code",
   "execution_count": null,
   "metadata": {},
   "outputs": [],
   "source": [
    "df.info()"
   ]
  },
  {
   "cell_type": "code",
   "execution_count": null,
   "metadata": {},
   "outputs": [],
   "source": [
    "df.isna() # 데이터프레임의 기본정보"
   ]
  },
  {
   "cell_type": "code",
   "execution_count": null,
   "metadata": {},
   "outputs": [],
   "source": [
    "df.isnull()"
   ]
  },
  {
   "cell_type": "markdown",
   "metadata": {},
   "source": [
    "### Null 또는 NaN값 변경하기"
   ]
  },
  {
   "cell_type": "code",
   "execution_count": null,
   "metadata": {},
   "outputs": [],
   "source": [
    "temp = df\n",
    "temp['age'] = temp['age'].fillna(0) # Null을 0으로 변경\n",
    "temp"
   ]
  },
  {
   "cell_type": "code",
   "execution_count": null,
   "metadata": {},
   "outputs": [],
   "source": [
    "school_id_list = [{'name': 'John', 'job': \"teacher\", 'age': 40},\n",
    "                {'name': 'Nate', 'job': \"teacher\", 'age': 35},\n",
    "                {'name': 'Yuna', 'job': \"teacher\", 'age': 37},\n",
    "                {'name': 'Abraham', 'job': \"student\", 'age': 10},\n",
    "                {'name': 'Brian', 'job': \"student\", 'age': 12},\n",
    "                {'name': 'Janny', 'job': \"student\", 'age': 11},\n",
    "                {'name': 'Nate', 'job': \"teacher\", 'age': None},\n",
    "                {'name': 'John', 'job': \"student\", 'age': None}\n",
    "         ]\n",
    "df = pd.DataFrame(school_id_list, columns = ['name', 'job', 'age'])\n",
    "df"
   ]
  },
  {
   "cell_type": "code",
   "execution_count": null,
   "metadata": {},
   "outputs": [],
   "source": [
    "# 0으로 설정되어 있는 데이터를 직업군의 성격에 맞게 각각 교사, 학생의 평균나이로 대체\n",
    "df['age'].fillna(df.groupby(\"job\")[\"age\"].transform('median'), inplace=True)"
   ]
  },
  {
   "cell_type": "code",
   "execution_count": null,
   "metadata": {},
   "outputs": [],
   "source": [
    "df"
   ]
  },
  {
   "cell_type": "markdown",
   "metadata": {},
   "source": [
    "### Unique"
   ]
  },
  {
   "cell_type": "code",
   "execution_count": null,
   "metadata": {},
   "outputs": [],
   "source": [
    "job_list = [{'name': 'John', 'job': \"teacher\"},\n",
    "                {'name': 'Nate', 'job': \"teacher\"},\n",
    "                {'name': 'Fred', 'job': \"teacher\"},\n",
    "                {'name': 'Abraham', 'job': \"student\"},\n",
    "                {'name': 'Brian', 'job': \"student\"},\n",
    "                {'name': 'Janny', 'job': \"developer\"},\n",
    "                {'name': 'Nate', 'job': \"teacher\"},\n",
    "                {'name': 'Obrian', 'job': \"dentist\"},\n",
    "                {'name': 'Yuna', 'job': \"teacher\"},\n",
    "                {'name': 'Rob', 'job': \"lawyer\"},\n",
    "                {'name': 'Brian', 'job': \"student\"},\n",
    "                {'name': 'Matt', 'job': \"student\"},\n",
    "                {'name': 'Wendy', 'job': \"banker\"},\n",
    "                {'name': 'Edward', 'job': \"teacher\"},\n",
    "                {'name': 'Ian', 'job': \"teacher\"},\n",
    "                {'name': 'Chris', 'job': \"banker\"},\n",
    "                {'name': 'Philip', 'job': \"lawyer\"},\n",
    "                {'name': 'Janny', 'job': \"basketball player\"},\n",
    "                {'name': 'Gwen', 'job': \"teacher\"},\n",
    "                {'name': 'Jessy', 'job': \"student\"}\n",
    "         ]\n",
    "df = pd.DataFrame(job_list, columns = ['name', 'job'])"
   ]
  },
  {
   "cell_type": "code",
   "execution_count": null,
   "metadata": {},
   "outputs": [],
   "source": [
    "df"
   ]
  },
  {
   "cell_type": "code",
   "execution_count": null,
   "metadata": {},
   "outputs": [],
   "source": [
    "print(df.job.unique()) # 중복된 데이터를 제거하여, 직업군의 종류를 표시함"
   ]
  },
  {
   "cell_type": "code",
   "execution_count": null,
   "metadata": {},
   "outputs": [],
   "source": [
    "# 각 직업별 데이터의 개수를 파악\n",
    "df.job.value_counts()"
   ]
  },
  {
   "cell_type": "code",
   "execution_count": null,
   "metadata": {},
   "outputs": [],
   "source": [
    "# 2개의 데이터프레임 병합하기\n",
    "list1 = [\n",
    "    {'name': 'John', 'job': 'teacher'},\n",
    "    {'name': 'Nate', 'job': 'student'},\n",
    "    {'name': 'Jenny', 'job': 'developer'}\n",
    "]\n",
    "\n",
    "list2 = [\n",
    "    {'name': 'Ed', 'job': 'dentist'},\n",
    "    {'name': 'Jack', 'job': 'farmer'},\n",
    "    {'name': 'Ted', 'job': 'designer'}\n",
    "]\n",
    "\n",
    "df1 = pd.DataFrame(list1)\n",
    "df2 = pd.DataFrame(list2)"
   ]
  },
  {
   "cell_type": "code",
   "execution_count": null,
   "metadata": {},
   "outputs": [],
   "source": [
    "df1"
   ]
  },
  {
   "cell_type": "code",
   "execution_count": null,
   "metadata": {},
   "outputs": [],
   "source": [
    "df2"
   ]
  },
  {
   "cell_type": "code",
   "execution_count": null,
   "metadata": {},
   "outputs": [],
   "source": [
    "frames = [df1, df2] # Series: 데이터 행의 의미, 파이썬의 리스트형을 \n",
    "result = pd.concat(frames, ignore_index=True)\n",
    "result"
   ]
  },
  {
   "cell_type": "code",
   "execution_count": null,
   "metadata": {},
   "outputs": [],
   "source": [
    "# 첫 번째 데이터프레임 두번 째 데이터프레임의 데이터를 추가하기\n",
    "# 2개의 데이터프레임 병합하기\n",
    "list1 = [\n",
    "    {'name': 'John', 'job': 'teacher'},\n",
    "    {'name': 'Nate', 'job': 'student'},\n",
    "    {'name': 'Jenny', 'job': 'developer'}\n",
    "]\n",
    "\n",
    "list2 = [\n",
    "    {'name': 'Ed', 'job': 'dentist'},\n",
    "    {'name': 'Jack', 'job': 'farmer'},\n",
    "    {'name': 'Ted', 'job': 'designer'}\n",
    "]\n",
    "\n",
    "df1 = pd.DataFrame(list1)\n",
    "df2 = pd.DataFrame(list2)"
   ]
  },
  {
   "cell_type": "code",
   "execution_count": null,
   "metadata": {},
   "outputs": [],
   "source": [
    "result = df1.append(df2, ignore_index=True)\n",
    "result"
   ]
  },
  {
   "cell_type": "code",
   "execution_count": null,
   "metadata": {},
   "outputs": [],
   "source": [
    "# 첫 번째 데이터프레임에 두번 째 데이터프레임의 컬럼을 추가하기(합치기)\n",
    "list1 = [\n",
    "    {'name': 'John', 'job': 'teacher'},\n",
    "    {'name': 'Nate', 'job': 'student'},\n",
    "    {'name': 'Jenny', 'job': 'developer'}\n",
    "]\n",
    "\n",
    "list2 = [\n",
    "    {'age': 25, 'country': 'U.S'},\n",
    "    {'age': 30, 'country': 'U.K'},\n",
    "    {'age': 45, 'country': 'Korea'}\n",
    "]\n",
    "\n",
    "df1 = pd.DataFrame(list1)\n",
    "df2 = pd.DataFrame(list2)"
   ]
  },
  {
   "cell_type": "code",
   "execution_count": null,
   "metadata": {},
   "outputs": [],
   "source": [
    "result = pd.concat([df1, df2], axis=1)\n",
    "result"
   ]
  },
  {
   "cell_type": "code",
   "execution_count": null,
   "metadata": {},
   "outputs": [],
   "source": [
    "# 2개의 리스트를 사용하여, 데이터프레임 생성하기\n",
    "label = [1,2,3,4,5]\n",
    "prediction = [1,2,3,4,5]\n",
    "\n",
    "# 딕셔너리로 데이터프레임 생성\n",
    "comparison = pd.DataFrame(\n",
    "        {'label': label, 'prediction': prediction}\n",
    ")"
   ]
  },
  {
   "cell_type": "code",
   "execution_count": null,
   "metadata": {},
   "outputs": [],
   "source": [
    "comparison"
   ]
  },
  {
   "cell_type": "code",
   "execution_count": null,
   "metadata": {},
   "outputs": [],
   "source": []
  }
 ],
 "metadata": {
  "kernelspec": {
   "display_name": "Python 3",
   "language": "python",
   "name": "python3"
  },
  "language_info": {
   "codemirror_mode": {
    "name": "ipython",
    "version": 3
   },
   "file_extension": ".py",
   "mimetype": "text/x-python",
   "name": "python",
   "nbconvert_exporter": "python",
   "pygments_lexer": "ipython3",
   "version": "3.8.3"
  }
 },
 "nbformat": 4,
 "nbformat_minor": 4
}
