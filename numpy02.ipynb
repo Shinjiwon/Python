{
 "cells": [
  {
   "cell_type": "code",
   "execution_count": 68,
   "metadata": {},
   "outputs": [],
   "source": [
    "import numpy as np"
   ]
  },
  {
   "cell_type": "code",
   "execution_count": 32,
   "metadata": {},
   "outputs": [
    {
     "data": {
      "text/plain": [
       "[1, 2, 3, 4, 5]"
      ]
     },
     "execution_count": 32,
     "metadata": {},
     "output_type": "execute_result"
    }
   ],
   "source": [
    "data1 = [1,2,3,4,5] # 리스트 데이터 타입\n",
    "data1"
   ]
  },
  {
   "cell_type": "code",
   "execution_count": 6,
   "metadata": {},
   "outputs": [
    {
     "data": {
      "text/plain": [
       "[1, 2, 3.5, 4]"
      ]
     },
     "execution_count": 6,
     "metadata": {},
     "output_type": "execute_result"
    }
   ],
   "source": [
    "data2 = [1,2,3.5,4]\n",
    "data2"
   ]
  },
  {
   "cell_type": "markdown",
   "metadata": {},
   "source": [
    "# numpy에서는 배열을 생성할 때 리스트형을 기본으로 구성"
   ]
  },
  {
   "cell_type": "code",
   "execution_count": 9,
   "metadata": {},
   "outputs": [],
   "source": [
    "arr1 = np.array(data1)"
   ]
  },
  {
   "cell_type": "code",
   "execution_count": 11,
   "metadata": {},
   "outputs": [
    {
     "data": {
      "text/plain": [
       "array([1, 2, 3, 4, 5])"
      ]
     },
     "execution_count": 11,
     "metadata": {},
     "output_type": "execute_result"
    }
   ],
   "source": [
    "arr1"
   ]
  },
  {
   "cell_type": "code",
   "execution_count": 14,
   "metadata": {},
   "outputs": [
    {
     "data": {
      "text/plain": [
       "(5,)"
      ]
     },
     "execution_count": 14,
     "metadata": {},
     "output_type": "execute_result"
    }
   ],
   "source": [
    "arr1.shape # 튜플 형태로 값을 반환, 배열의 크기 (5,) 1차원 배열 구조의 형태"
   ]
  },
  {
   "cell_type": "code",
   "execution_count": 16,
   "metadata": {},
   "outputs": [
    {
     "data": {
      "text/plain": [
       "5"
      ]
     },
     "execution_count": 16,
     "metadata": {},
     "output_type": "execute_result"
    }
   ],
   "source": [
    "arr1.size # 배열 요소의 크기"
   ]
  },
  {
   "cell_type": "code",
   "execution_count": 17,
   "metadata": {},
   "outputs": [
    {
     "data": {
      "text/plain": [
       "dtype('int32')"
      ]
     },
     "execution_count": 17,
     "metadata": {},
     "output_type": "execute_result"
    }
   ],
   "source": [
    "arr1.dtype"
   ]
  },
  {
   "cell_type": "code",
   "execution_count": 20,
   "metadata": {},
   "outputs": [
    {
     "data": {
      "text/plain": [
       "numpy.ndarray"
      ]
     },
     "execution_count": 20,
     "metadata": {},
     "output_type": "execute_result"
    }
   ],
   "source": [
    "type(arr1) # 파라미터 타입, 넘파이의 배열은 ndarray라고 부른다."
   ]
  },
  {
   "cell_type": "code",
   "execution_count": 21,
   "metadata": {},
   "outputs": [
    {
     "data": {
      "text/plain": [
       "[1, 2, 3.5, 4]"
      ]
     },
     "execution_count": 21,
     "metadata": {},
     "output_type": "execute_result"
    }
   ],
   "source": [
    "data2 = [1,2,3.5,4]\n",
    "data2"
   ]
  },
  {
   "cell_type": "code",
   "execution_count": 23,
   "metadata": {},
   "outputs": [
    {
     "data": {
      "text/plain": [
       "dtype('float64')"
      ]
     },
     "execution_count": 23,
     "metadata": {},
     "output_type": "execute_result"
    }
   ],
   "source": [
    "arr3 = np.array(data2) # [1,2,3,4,5] 리스트 데이터에서 요소가 가장 큰 데이터타입을 기준으로 나머지 형변환\n",
    "arr3.dtype"
   ]
  },
  {
   "cell_type": "code",
   "execution_count": 24,
   "metadata": {},
   "outputs": [
    {
     "data": {
      "text/plain": [
       "array([1. , 2. , 3.5, 4. ])"
      ]
     },
     "execution_count": 24,
     "metadata": {},
     "output_type": "execute_result"
    }
   ],
   "source": [
    "arr3"
   ]
  },
  {
   "cell_type": "code",
   "execution_count": 25,
   "metadata": {},
   "outputs": [
    {
     "data": {
      "text/plain": [
       "[1, 2, 3, 4, 5]"
      ]
     },
     "execution_count": 25,
     "metadata": {},
     "output_type": "execute_result"
    }
   ],
   "source": [
    "data1 = [1,2,3,4,5] # 리스트 데이터 타입\n",
    "data1"
   ]
  },
  {
   "cell_type": "code",
   "execution_count": 26,
   "metadata": {},
   "outputs": [],
   "source": [
    "arr4 = np.array(data1)"
   ]
  },
  {
   "cell_type": "code",
   "execution_count": 27,
   "metadata": {},
   "outputs": [
    {
     "data": {
      "text/plain": [
       "dtype('int32')"
      ]
     },
     "execution_count": 27,
     "metadata": {},
     "output_type": "execute_result"
    }
   ],
   "source": [
    "arr4\n",
    "arr4.dtype"
   ]
  },
  {
   "cell_type": "code",
   "execution_count": 28,
   "metadata": {},
   "outputs": [
    {
     "data": {
      "text/plain": [
       "array([1, 2, 3, 4, 5])"
      ]
     },
     "execution_count": 28,
     "metadata": {},
     "output_type": "execute_result"
    }
   ],
   "source": [
    "arr4 # 1차원 배열구조"
   ]
  },
  {
   "cell_type": "code",
   "execution_count": 30,
   "metadata": {},
   "outputs": [],
   "source": [
    "# 2차원 배열구조 선언, 4행 3열(4*3)\n",
    "arr5 = np.array([\n",
    "            [1,2,3], \n",
    "            [4,5,6], \n",
    "            [7,8,9], \n",
    "            [10,11,12]\n",
    "        ])"
   ]
  },
  {
   "cell_type": "code",
   "execution_count": 31,
   "metadata": {},
   "outputs": [
    {
     "data": {
      "text/plain": [
       "(4, 3)"
      ]
     },
     "execution_count": 31,
     "metadata": {},
     "output_type": "execute_result"
    }
   ],
   "source": [
    "# 2차원 배열의 크기\n",
    "arr5.shape"
   ]
  },
  {
   "cell_type": "code",
   "execution_count": 33,
   "metadata": {},
   "outputs": [
    {
     "data": {
      "text/plain": [
       "12"
      ]
     },
     "execution_count": 33,
     "metadata": {},
     "output_type": "execute_result"
    }
   ],
   "source": [
    "# 튜플의 개수\n",
    "arr5.size"
   ]
  },
  {
   "cell_type": "code",
   "execution_count": 34,
   "metadata": {},
   "outputs": [],
   "source": [
    "# 3차원 배열 선언\n",
    "arr6 = np.array([\n",
    "    [\n",
    "        [1,2,3],\n",
    "        [4,5,6]\n",
    "    ],\n",
    "    [\n",
    "        [3,2,1],\n",
    "        [4,5,6]\n",
    "    ]\n",
    "])"
   ]
  },
  {
   "cell_type": "code",
   "execution_count": 35,
   "metadata": {
    "scrolled": true
   },
   "outputs": [
    {
     "data": {
      "text/plain": [
       "(2, 2, 3)"
      ]
     },
     "execution_count": 35,
     "metadata": {},
     "output_type": "execute_result"
    }
   ],
   "source": [
    "# 배열의 크기 3차원 배열은 튜플의 요소가 3개로 반환 (2, 2, 3) → (면, 행, 열)\n",
    "arr6.shape"
   ]
  },
  {
   "cell_type": "markdown",
   "metadata": {},
   "source": [
    "# ndarray 배열의 기본함수, np.zeros(), np.ones(), np.arange(), np.full() 사용법"
   ]
  },
  {
   "cell_type": "code",
   "execution_count": 37,
   "metadata": {},
   "outputs": [
    {
     "data": {
      "text/plain": [
       "array([0., 0., 0., 0., 0., 0., 0., 0., 0., 0.])"
      ]
     },
     "execution_count": 37,
     "metadata": {},
     "output_type": "execute_result"
    }
   ],
   "source": [
    "testArr = np.zeros(10) # 10개의 공간에 0.0 실수값을 초기화하여 1차원 배열을 생성한다.\n",
    "testArr"
   ]
  },
  {
   "cell_type": "code",
   "execution_count": 39,
   "metadata": {},
   "outputs": [
    {
     "data": {
      "text/plain": [
       "array([[0., 0., 0., 0., 0.],\n",
       "       [0., 0., 0., 0., 0.],\n",
       "       [0., 0., 0., 0., 0.]])"
      ]
     },
     "execution_count": 39,
     "metadata": {},
     "output_type": "execute_result"
    }
   ],
   "source": [
    "testArr2 = np.zeros((3,5)) # 2차원 배열 생성\n",
    "testArr2"
   ]
  },
  {
   "cell_type": "code",
   "execution_count": 40,
   "metadata": {},
   "outputs": [
    {
     "data": {
      "text/plain": [
       "array([[[0., 0., 0., 0.],\n",
       "        [0., 0., 0., 0.],\n",
       "        [0., 0., 0., 0.]],\n",
       "\n",
       "       [[0., 0., 0., 0.],\n",
       "        [0., 0., 0., 0.],\n",
       "        [0., 0., 0., 0.]]])"
      ]
     },
     "execution_count": 40,
     "metadata": {},
     "output_type": "execute_result"
    }
   ],
   "source": [
    "testArr3 = np.zeros((2,3,4))\n",
    "testArr3"
   ]
  },
  {
   "cell_type": "code",
   "execution_count": 41,
   "metadata": {},
   "outputs": [
    {
     "data": {
      "text/plain": [
       "array([1., 1., 1., 1., 1., 1., 1., 1., 1.])"
      ]
     },
     "execution_count": 41,
     "metadata": {},
     "output_type": "execute_result"
    }
   ],
   "source": [
    "testArr4 = np.ones(9) # 요소가 9개에 1.0 실수값으로 초기화된 1차원 배열 생성\n",
    "testArr4"
   ]
  },
  {
   "cell_type": "code",
   "execution_count": 44,
   "metadata": {},
   "outputs": [
    {
     "data": {
      "text/plain": [
       "array([1, 1, 1, 1, 1, 1, 1, 1, 1], dtype=int16)"
      ]
     },
     "execution_count": 44,
     "metadata": {},
     "output_type": "execute_result"
    }
   ],
   "source": [
    "testArr5 = np.ones(9, dtype = np.int16)\n",
    "testArr5"
   ]
  },
  {
   "cell_type": "code",
   "execution_count": 45,
   "metadata": {},
   "outputs": [
    {
     "data": {
      "text/plain": [
       "array([[1., 1., 1.],\n",
       "       [1., 1., 1.]])"
      ]
     },
     "execution_count": 45,
     "metadata": {},
     "output_type": "execute_result"
    }
   ],
   "source": [
    "testArr6 = np.ones((2,3)) # 2차원 배열 생성\n",
    "testArr6"
   ]
  },
  {
   "cell_type": "code",
   "execution_count": 48,
   "metadata": {},
   "outputs": [
    {
     "data": {
      "text/plain": [
       "array([0, 1, 2, 3, 4, 5, 6, 7, 8, 9])"
      ]
     },
     "execution_count": 48,
     "metadata": {},
     "output_type": "execute_result"
    }
   ],
   "source": [
    "testArr7 = np.arange(10) # 0~9까지 데이터를 연속적으로 초기화하여 1차원배열생성\n",
    "testArr7"
   ]
  },
  {
   "cell_type": "code",
   "execution_count": 63,
   "metadata": {},
   "outputs": [
    {
     "data": {
      "text/plain": [
       "array([ 1,  2,  3,  4,  5,  6,  7,  8,  9, 10, 11, 12, 13, 14, 15, 16, 17,\n",
       "       18, 19])"
      ]
     },
     "execution_count": 63,
     "metadata": {},
     "output_type": "execute_result"
    }
   ],
   "source": [
    "testArr8 = np.arange(1,20)\n",
    "testArr8"
   ]
  },
  {
   "cell_type": "code",
   "execution_count": 52,
   "metadata": {},
   "outputs": [
    {
     "data": {
      "text/plain": [
       "array([1, 3, 5, 7, 9])"
      ]
     },
     "execution_count": 52,
     "metadata": {},
     "output_type": "execute_result"
    }
   ],
   "source": [
    "testArr9 = np.arange(1,10,2)\n",
    "testArr9"
   ]
  },
  {
   "cell_type": "code",
   "execution_count": 53,
   "metadata": {},
   "outputs": [
    {
     "data": {
      "text/plain": [
       "array([5, 5, 5, 5, 5, 5, 5, 5, 5, 5])"
      ]
     },
     "execution_count": 53,
     "metadata": {},
     "output_type": "execute_result"
    }
   ],
   "source": [
    "testArr10 = np.full(10,5) # 10은 요소의 개수, 5는 채우는 값\n",
    "testArr10"
   ]
  },
  {
   "cell_type": "code",
   "execution_count": 54,
   "metadata": {},
   "outputs": [
    {
     "data": {
      "text/plain": [
       "array([[7, 7],\n",
       "       [7, 7]])"
      ]
     },
     "execution_count": 54,
     "metadata": {},
     "output_type": "execute_result"
    }
   ],
   "source": [
    "testArr11 = np.full((2,2), 7) # 2차원 배열 구조로 생성.\n",
    "testArr11"
   ]
  },
  {
   "cell_type": "markdown",
   "metadata": {},
   "source": [
    "np.eye() 단위행렬 구조로 배열생성"
   ]
  },
  {
   "cell_type": "code",
   "execution_count": 60,
   "metadata": {},
   "outputs": [
    {
     "data": {
      "text/plain": [
       "array([[1., 0., 0., 0., 0.],\n",
       "       [0., 1., 0., 0., 0.],\n",
       "       [0., 0., 1., 0., 0.],\n",
       "       [0., 0., 0., 1., 0.],\n",
       "       [0., 0., 0., 0., 1.]])"
      ]
     },
     "execution_count": 60,
     "metadata": {},
     "output_type": "execute_result"
    }
   ],
   "source": [
    "testArr12 = np.eye(5)\n",
    "testArr12"
   ]
  },
  {
   "cell_type": "markdown",
   "metadata": {},
   "source": [
    "np.empty(): 초기화는 하지 않고 기존 메모리를 참조하는 값을 사용"
   ]
  },
  {
   "cell_type": "code",
   "execution_count": 61,
   "metadata": {},
   "outputs": [
    {
     "data": {
      "text/plain": [
       "array([[0.00000000e+000, 0.00000000e+000],\n",
       "       [0.00000000e+000, 0.00000000e+000],\n",
       "       [0.00000000e+000, 6.87739379e-321],\n",
       "       [2.37663529e-312, 8.90060779e-307]])"
      ]
     },
     "execution_count": 61,
     "metadata": {},
     "output_type": "execute_result"
    }
   ],
   "source": [
    "testArr13 = np.empty((4,2))\n",
    "testArr13"
   ]
  },
  {
   "cell_type": "markdown",
   "metadata": {},
   "source": [
    "# like 함수 np.zeros_like(), mp.ones_like(), np.empty_like()"
   ]
  },
  {
   "cell_type": "code",
   "execution_count": 65,
   "metadata": {},
   "outputs": [
    {
     "data": {
      "text/plain": [
       "array([[0, 0, 0],\n",
       "       [0, 0, 0]])"
      ]
     },
     "execution_count": 65,
     "metadata": {},
     "output_type": "execute_result"
    }
   ],
   "source": [
    "# 2차원 배열구조만 사용하여, 0값을 채우기\n",
    "testArr14 = np.zeros_like([\n",
    "    [1,2,3],\n",
    "    [4,5,6]\n",
    "])\n",
    "testArr14"
   ]
  },
  {
   "cell_type": "code",
   "execution_count": 66,
   "metadata": {},
   "outputs": [
    {
     "data": {
      "text/plain": [
       "array([[1, 1, 1],\n",
       "       [1, 1, 1]])"
      ]
     },
     "execution_count": 66,
     "metadata": {},
     "output_type": "execute_result"
    }
   ],
   "source": [
    "# 현재 배열구조를 사용하여 1로 초기화하는 기능\n",
    "testArr15 = np.ones_like([\n",
    "    [1,2,3],\n",
    "    [4,5,6]\n",
    "])\n",
    "testArr15"
   ]
  },
  {
   "cell_type": "code",
   "execution_count": 68,
   "metadata": {},
   "outputs": [
    {
     "data": {
      "text/plain": [
       "array([[9, 9, 9],\n",
       "       [9, 9, 9]])"
      ]
     },
     "execution_count": 68,
     "metadata": {},
     "output_type": "execute_result"
    }
   ],
   "source": [
    "# 현재 배열구조를 사용하여 값을 채우는 기능\n",
    "testArr16 = np.full_like([\n",
    "    [1,2,3],\n",
    "    [4,5,6]\n",
    "], 9)\n",
    "testArr16"
   ]
  },
  {
   "cell_type": "markdown",
   "metadata": {},
   "source": [
    "np.linspace() 0~1 범위의 값을 5개의 균일한 값으로 표현"
   ]
  },
  {
   "cell_type": "code",
   "execution_count": 2,
   "metadata": {},
   "outputs": [
    {
     "data": {
      "text/plain": [
       "array([0.  , 0.25, 0.5 , 0.75, 1.  ])"
      ]
     },
     "execution_count": 2,
     "metadata": {},
     "output_type": "execute_result"
    }
   ],
   "source": [
    "testArr17 = np.linspace(0, 1, 5)\n",
    "testArr17"
   ]
  },
  {
   "cell_type": "markdown",
   "metadata": {},
   "source": [
    "# 시각화 기능 제공"
   ]
  },
  {
   "cell_type": "code",
   "execution_count": 3,
   "metadata": {},
   "outputs": [
    {
     "data": {
      "image/png": "[encoded data removed]",
      "text/plain": [
       "<Figure size 432x288 with 1 Axes>"
      ]
     },
     "metadata": {
      "needs_background": "light"
     },
     "output_type": "display_data"
    }
   ],
   "source": [
    "import matplotlib.pyplot as plt\n",
    "plt.plot(testArr17, 'o')\n",
    "plt.show()"
   ]
  },
  {
   "cell_type": "code",
   "execution_count": 10,
   "metadata": {},
   "outputs": [
    {
     "data": {
      "text/plain": [
       "array([0., 2., 4., 6., 8.])"
      ]
     },
     "execution_count": 10,
     "metadata": {},
     "output_type": "execute_result"
    }
   ],
   "source": [
    "testArr18 = np.arange(0,10,2, np.float)\n",
    "testArr18"
   ]
  },
  {
   "cell_type": "code",
   "execution_count": 24,
   "metadata": {},
   "outputs": [
    {
     "data": {
      "image/png": "[encoded data removed]",
      "text/plain": [
       "<Figure size 432x288 with 1 Axes>"
      ]
     },
     "metadata": {
      "needs_background": "light"
     },
     "output_type": "display_data"
    }
   ],
   "source": [
    "plt.plot(testArr18, '*')\n",
    "plt.show()"
   ]
  },
  {
   "cell_type": "markdown",
   "metadata": {},
   "source": [
    "# 배열의 사칙연산"
   ]
  },
  {
   "cell_type": "code",
   "execution_count": 14,
   "metadata": {},
   "outputs": [],
   "source": [
    "# 기본은 동일한 배열끼리 연산한다.\n",
    "# 2*3 행열\n",
    "temp1 = np.array([\n",
    "    [1,2,3],\n",
    "    [4,5,6]\n",
    "])"
   ]
  },
  {
   "cell_type": "code",
   "execution_count": 15,
   "metadata": {},
   "outputs": [],
   "source": [
    "# 2*3 행열\n",
    "temp2 = np.array([\n",
    "    [10,20,30],\n",
    "    [40,50,60]\n",
    "])"
   ]
  },
  {
   "cell_type": "code",
   "execution_count": 17,
   "metadata": {},
   "outputs": [
    {
     "data": {
      "text/plain": [
       "array([[11, 22, 33],\n",
       "       [44, 55, 66]])"
      ]
     },
     "execution_count": 17,
     "metadata": {},
     "output_type": "execute_result"
    }
   ],
   "source": [
    "# 덧셈\n",
    "temp1 + temp2"
   ]
  },
  {
   "cell_type": "code",
   "execution_count": 18,
   "metadata": {},
   "outputs": [
    {
     "data": {
      "text/plain": [
       "array([[ 9, 18, 27],\n",
       "       [36, 45, 54]])"
      ]
     },
     "execution_count": 18,
     "metadata": {},
     "output_type": "execute_result"
    }
   ],
   "source": [
    "# 뺄셈\n",
    "temp2 - temp1"
   ]
  },
  {
   "cell_type": "code",
   "execution_count": 19,
   "metadata": {},
   "outputs": [
    {
     "data": {
      "text/plain": [
       "array([[ 10,  40,  90],\n",
       "       [160, 250, 360]])"
      ]
     },
     "execution_count": 19,
     "metadata": {},
     "output_type": "execute_result"
    }
   ],
   "source": [
    "# 곱셈\n",
    "temp1 * temp2"
   ]
  },
  {
   "cell_type": "code",
   "execution_count": 21,
   "metadata": {},
   "outputs": [
    {
     "data": {
      "text/plain": [
       "array([[0.1, 0.1, 0.1],\n",
       "       [0.1, 0.1, 0.1]])"
      ]
     },
     "execution_count": 21,
     "metadata": {},
     "output_type": "execute_result"
    }
   ],
   "source": [
    "# 나눗셈\n",
    "temp1 / temp2"
   ]
  },
  {
   "cell_type": "code",
   "execution_count": 26,
   "metadata": {},
   "outputs": [],
   "source": [
    "# array의 브로드캐스트\n",
    "# 배열연산은 일반적으로 배열의 크기가 동일해야 한다.\n",
    "# 배열의 크기가 서로 다른 연산을 지원한다. (브로드캐스트)"
   ]
  },
  {
   "cell_type": "code",
   "execution_count": 27,
   "metadata": {},
   "outputs": [
    {
     "data": {
      "text/plain": [
       "(2, 3)"
      ]
     },
     "execution_count": 27,
     "metadata": {},
     "output_type": "execute_result"
    }
   ],
   "source": [
    "temp3 = np.array([\n",
    "    [1,2,3],\n",
    "    [4,5,6]\n",
    "])\n",
    "temp3.shape"
   ]
  },
  {
   "cell_type": "code",
   "execution_count": 30,
   "metadata": {},
   "outputs": [
    {
     "data": {
      "text/plain": [
       "(3,)"
      ]
     },
     "execution_count": 30,
     "metadata": {},
     "output_type": "execute_result"
    }
   ],
   "source": [
    "temp4 = np.array([10,11,12])\n",
    "temp4.shape"
   ]
  },
  {
   "cell_type": "code",
   "execution_count": 29,
   "metadata": {},
   "outputs": [
    {
     "data": {
      "text/plain": [
       "array([[11, 13, 15],\n",
       "       [14, 16, 18]])"
      ]
     },
     "execution_count": 29,
     "metadata": {},
     "output_type": "execute_result"
    }
   ],
   "source": [
    "temp3 + temp4 # 서로 다른 배열연산 시 결과는 2차원 배열구조가 된다. (배열의 크기가 큰 것이 결과의 구조를 갖는다.)"
   ]
  },
  {
   "cell_type": "code",
   "execution_count": 31,
   "metadata": {},
   "outputs": [
    {
     "data": {
      "text/plain": [
       "array([[2, 3, 4],\n",
       "       [5, 6, 7]])"
      ]
     },
     "execution_count": 31,
     "metadata": {},
     "output_type": "execute_result"
    }
   ],
   "source": [
    "temp3 + 1 # 모든 요소에 연산이 진행된다."
   ]
  },
  {
   "cell_type": "code",
   "execution_count": 32,
   "metadata": {},
   "outputs": [
    {
     "data": {
      "text/plain": [
       "array([[ 1,  4,  9],\n",
       "       [16, 25, 36]], dtype=int32)"
      ]
     },
     "execution_count": 32,
     "metadata": {},
     "output_type": "execute_result"
    }
   ],
   "source": [
    "temp3 ** 2 # 거듭제곱"
   ]
  },
  {
   "cell_type": "markdown",
   "metadata": {},
   "source": [
    "# 난수기반의 배열생성"
   ]
  },
  {
   "cell_type": "markdown",
   "metadata": {},
   "source": [
    "numpy는 난수 발생 및 열 생성을 하는 모듈을 제공한다. 모듈 이름은 numpy.random\n",
    "\n",
    "함수는 np.random.normal, np.random.rand, np.random,randn, np.random.randint, no.random.random"
   ]
  },
  {
   "cell_type": "code",
   "execution_count": 34,
   "metadata": {},
   "outputs": [
    {
     "data": {
      "text/plain": [
       "array([[-0.12482843,  1.01940758,  0.56152986],\n",
       "       [ 1.63298939, -0.3604852 , -0.60115558]])"
      ]
     },
     "execution_count": 34,
     "metadata": {},
     "output_type": "execute_result"
    }
   ],
   "source": [
    "# normal(): 0.0~1 범위의 값을 무작위로 추출하는 기능\n",
    "mean = 0\n",
    "std = 1\n",
    "a = np.random.normal(mean, std, (2,3))\n",
    "a"
   ]
  },
  {
   "cell_type": "code",
   "execution_count": 4,
   "metadata": {},
   "outputs": [
    {
     "data": {
      "text/plain": [
       "array([ 0.6486007 ,  0.8789509 , -0.98619422, ..., -0.51190702,\n",
       "        0.37405012,  1.00691346])"
      ]
     },
     "execution_count": 4,
     "metadata": {},
     "output_type": "execute_result"
    }
   ],
   "source": [
    "data = np.random.normal(0, 1, 10000)\n",
    "data"
   ]
  },
  {
   "cell_type": "code",
   "execution_count": 5,
   "metadata": {},
   "outputs": [
    {
     "data": {
      "image/png": "[encoded data removed]",
      "text/plain": [
       "<Figure size 432x288 with 1 Axes>"
      ]
     },
     "metadata": {
      "needs_background": "light"
     },
     "output_type": "display_data"
    }
   ],
   "source": [
    "# 10000개의 배열 데이터를 100구간으로 구분해서 정규분포형태를 히스토그램으로 표현한 차트\n",
    "import matplotlib.pyplot as plt\n",
    "plt.hist(data, bins=100)\n",
    "plt.show()"
   ]
  },
  {
   "cell_type": "code",
   "execution_count": 8,
   "metadata": {},
   "outputs": [
    {
     "data": {
      "text/plain": [
       "array([[0.09056024, 0.38678497],\n",
       "       [0.12305249, 0.24299541],\n",
       "       [0.93882187, 0.07790405]])"
      ]
     },
     "execution_count": 8,
     "metadata": {},
     "output_type": "execute_result"
    }
   ],
   "source": [
    "# 균등한 비율로 표본 추출\n",
    "temp1 = np.random.rand(3,2) # 2차원 구조\n",
    "temp1"
   ]
  },
  {
   "cell_type": "code",
   "execution_count": 12,
   "metadata": {},
   "outputs": [
    {
     "data": {
      "text/plain": [
       "array([6.93167207e-01, 9.39299227e-01, 2.86601057e-01, 8.90660833e-02,\n",
       "       3.10873726e-01, 8.61454944e-01, 6.59930654e-01, 9.22953542e-01,\n",
       "       9.90235378e-01, 5.88056737e-01, 4.49920973e-01, 9.20671771e-01,\n",
       "       6.91531230e-01, 8.11068013e-01, 7.50789798e-01, 4.66530215e-01,\n",
       "       4.33632802e-01, 3.00990313e-01, 4.65907292e-02, 5.48538881e-01,\n",
       "       6.77292878e-01, 9.35401851e-01, 7.22948203e-01, 3.81871616e-01,\n",
       "       1.62283544e-01, 6.93176426e-01, 7.11749890e-01, 3.65005201e-01,\n",
       "       1.49798766e-01, 7.72691704e-01, 8.96469200e-01, 3.38754625e-01,\n",
       "       3.98594205e-01, 2.33098185e-01, 1.54826005e-01, 8.70256520e-01,\n",
       "       1.56810303e-02, 5.16273000e-01, 4.14685702e-01, 6.98766529e-01,\n",
       "       2.43499273e-01, 4.77334263e-01, 1.41804046e-01, 2.95967898e-01,\n",
       "       8.64250284e-01, 8.05817959e-01, 7.83927326e-01, 9.34682042e-01,\n",
       "       5.22536542e-01, 1.78342422e-01, 6.01999778e-01, 5.20140241e-02,\n",
       "       3.99643329e-01, 5.74560373e-01, 6.76693841e-05, 2.54065785e-02,\n",
       "       9.20148012e-01, 1.03094531e-01, 9.74820434e-01, 5.36479238e-01,\n",
       "       7.64393917e-01, 3.08118192e-01, 4.86145201e-01, 1.85355533e-01,\n",
       "       4.13894534e-01, 1.30202971e-01, 2.07913720e-02, 4.73165474e-01,\n",
       "       6.94577264e-01, 5.26345133e-01, 5.69317613e-01, 9.07971852e-01,\n",
       "       3.43847209e-01, 7.30221337e-01, 9.71575318e-01, 2.29411873e-01,\n",
       "       9.41460337e-01, 1.01976779e-01, 1.65490778e-01, 4.65447311e-01,\n",
       "       4.18400039e-01, 5.43957617e-01, 2.28786887e-01, 5.77867317e-01,\n",
       "       5.87635095e-01, 8.98139665e-01, 1.45062648e-01, 7.33222164e-01,\n",
       "       4.31667104e-01, 4.75682337e-02, 9.71143495e-01, 7.21703596e-01,\n",
       "       2.73868245e-01, 7.55771707e-01, 9.16352241e-01, 8.17590636e-01,\n",
       "       5.46602307e-01, 9.18228121e-01, 5.36464957e-01, 7.46114040e-01,\n",
       "       8.77255418e-02, 7.86899386e-01, 7.89351587e-01, 9.81004389e-01,\n",
       "       1.92655986e-01, 2.14179719e-01, 7.10913774e-01, 3.90058896e-01,\n",
       "       7.87905165e-01, 2.26797906e-01, 8.20273571e-02, 6.33466710e-01,\n",
       "       8.98639672e-01, 2.46471761e-01, 2.68671367e-02, 3.70379547e-01,\n",
       "       6.57670602e-02, 1.88274779e-01, 8.44244322e-01, 6.39938374e-02,\n",
       "       4.39939581e-01, 7.54012193e-01, 1.36003479e-01, 8.44390073e-01,\n",
       "       2.95070384e-01, 4.06034197e-02, 3.79732930e-01, 1.34717634e-01,\n",
       "       6.82658731e-01, 1.25371173e-01, 3.74606860e-01, 4.72541923e-01,\n",
       "       5.79781750e-01, 7.73514470e-01, 8.50154108e-01, 1.85213402e-01,\n",
       "       7.56064086e-02, 1.55151847e-01, 4.79954016e-01, 9.82203905e-02,\n",
       "       2.82494744e-01, 8.25912104e-01, 7.24970134e-01, 5.57847633e-01,\n",
       "       8.94191675e-01, 1.23535049e-01, 6.64869851e-01, 9.44163691e-01,\n",
       "       1.81212446e-01, 9.81384779e-01, 2.44819201e-01, 9.21051310e-01,\n",
       "       6.33269237e-01, 5.54992430e-02, 7.12873619e-01, 3.73420055e-01,\n",
       "       7.05221814e-01, 3.22968171e-01, 8.15100739e-01, 1.00036221e-01,\n",
       "       8.46143340e-01, 2.57714841e-01, 5.38126613e-01, 6.78407027e-01,\n",
       "       1.95097571e-01, 6.90264167e-01, 8.18413549e-01, 7.37469577e-01,\n",
       "       1.15854260e-01, 9.00002525e-01, 3.07474103e-01, 6.15133300e-01,\n",
       "       4.77707582e-01, 9.75081556e-01, 8.34006883e-01, 1.89776281e-01,\n",
       "       6.68504215e-02, 5.75970328e-01, 7.90744213e-01, 6.82976312e-01,\n",
       "       4.09574698e-01, 6.80502021e-01, 5.18737401e-01, 3.54782287e-01,\n",
       "       9.51174376e-01, 9.65290374e-01, 1.65705459e-01, 9.43661927e-01,\n",
       "       5.20432060e-02, 6.83562471e-01, 5.61786725e-01, 2.33540781e-01,\n",
       "       6.79569095e-01, 4.77778131e-01, 8.39155968e-01, 4.70897663e-01,\n",
       "       7.55308627e-01, 1.88535419e-01, 8.65268542e-01, 4.44009820e-04,\n",
       "       9.39722652e-01, 3.12963475e-01, 8.80906822e-01, 8.50272874e-01,\n",
       "       3.69806783e-01, 6.70951381e-01, 9.93802217e-01, 2.42397998e-01,\n",
       "       1.24371347e-01, 1.47524828e-01, 3.54900878e-01, 9.86427283e-01,\n",
       "       9.31777493e-02, 5.64173383e-01, 7.97941301e-01, 8.12767339e-02,\n",
       "       1.37147909e-01, 8.89343755e-01, 6.50151974e-01, 9.11523777e-01,\n",
       "       3.22049214e-01, 1.03581838e-01, 4.66466112e-01, 9.79191271e-01,\n",
       "       7.37425056e-01, 4.34606782e-01, 2.02171817e-01, 7.57999916e-01,\n",
       "       3.32564621e-01, 3.00288556e-01, 1.84443760e-01, 1.25893261e-01,\n",
       "       9.87104429e-01, 9.43431457e-01, 6.71247585e-02, 9.03940520e-01,\n",
       "       9.59871632e-01, 9.24550096e-01, 9.80790774e-01, 9.25610761e-01,\n",
       "       2.59162994e-01, 3.36608540e-01, 7.40523744e-01, 6.93716858e-01,\n",
       "       2.20349580e-01, 2.47663205e-01, 9.99628615e-01, 6.84392584e-01,\n",
       "       4.93904441e-01, 3.28616931e-01, 9.29164292e-01, 5.81122813e-01,\n",
       "       6.55913824e-01, 7.53390711e-02, 4.40925370e-01, 7.87188702e-01,\n",
       "       9.37533582e-02, 4.53345510e-01, 3.52047738e-02, 5.68108644e-01,\n",
       "       6.18628928e-01, 5.29711690e-01, 8.77370950e-01, 3.90965538e-01,\n",
       "       6.82518572e-01, 5.65671949e-01, 4.41986982e-01, 1.99824925e-02,\n",
       "       7.30513909e-01, 1.44937734e-01, 6.38998201e-01, 6.06461959e-02,\n",
       "       1.07669894e-01, 7.21834326e-01, 7.76437214e-01, 9.84456178e-01,\n",
       "       3.14762227e-01, 8.28778377e-01, 5.24058974e-02, 5.03559231e-01,\n",
       "       9.85331729e-01, 4.83812246e-01, 5.57283487e-01, 5.16142631e-01,\n",
       "       9.75498912e-01, 8.54682332e-01, 8.45173691e-02, 2.59091716e-01,\n",
       "       3.69976497e-02, 4.80037617e-01, 9.42033561e-01, 4.03455122e-01,\n",
       "       8.43908591e-01, 4.50177047e-01, 2.83543722e-01, 8.11454469e-01,\n",
       "       3.73107090e-01, 3.69094663e-01, 3.98686988e-02, 1.91020739e-01,\n",
       "       3.80910678e-01, 7.02718531e-01, 4.70062546e-01, 5.55332791e-01,\n",
       "       9.48659829e-01, 2.63820100e-01, 1.67683050e-02, 8.40841740e-01,\n",
       "       1.49042097e-01, 8.32502511e-01, 9.96262918e-01, 6.86229423e-01,\n",
       "       8.24039851e-01, 6.05535679e-01, 2.37963707e-01, 2.98928742e-01,\n",
       "       3.22837198e-01, 6.40302578e-02, 4.73256340e-01, 9.88716861e-01,\n",
       "       7.26219246e-01, 5.77659752e-01, 7.90573901e-01, 7.34718050e-01,\n",
       "       6.69102212e-01, 1.36648750e-01, 9.96611962e-01, 9.80486992e-01,\n",
       "       5.61911740e-01, 1.56665507e-01, 5.20091131e-01, 6.31159865e-01,\n",
       "       9.69038418e-02, 5.79739245e-01, 4.00967212e-01, 5.75981578e-01,\n",
       "       8.06074954e-01, 5.66752802e-01, 6.81569209e-01, 8.08611115e-01,\n",
       "       4.38367072e-01, 8.16994464e-01, 1.16085176e-01, 1.83437272e-01,\n",
       "       5.80740078e-02, 8.63061304e-01, 1.03966197e-01, 2.90510241e-01,\n",
       "       9.59966269e-01, 1.53432733e-01, 4.96524593e-01, 5.32833758e-01,\n",
       "       9.24267061e-01, 4.30160016e-01, 9.43111968e-01, 3.52177275e-01,\n",
       "       4.64207081e-01, 1.87356562e-01, 3.80147041e-01, 5.00027613e-01,\n",
       "       3.80815634e-01, 2.32906032e-01, 1.64523133e-01, 7.69664355e-01,\n",
       "       9.86769829e-01, 4.75087053e-01, 4.96939984e-01, 3.11124505e-01,\n",
       "       4.08628788e-01, 3.23146197e-02, 5.61206556e-01, 8.59943442e-01,\n",
       "       2.24616235e-01, 9.12863381e-01, 6.74816447e-01, 6.66580828e-01,\n",
       "       8.39738203e-02, 2.22720936e-01, 5.84440821e-01, 6.31102726e-01,\n",
       "       2.62840150e-01, 6.82815059e-01, 7.25597438e-01, 6.63038982e-01,\n",
       "       4.07610004e-01, 7.38649577e-01, 5.69795365e-02, 5.79910544e-01,\n",
       "       7.13147075e-01, 2.53314781e-01, 2.78150719e-01, 5.43874946e-01,\n",
       "       5.54593999e-02, 2.88585097e-01, 1.35429176e-01, 7.11841815e-01,\n",
       "       3.69933223e-01, 8.44669877e-01, 5.93969819e-01, 8.77052826e-01,\n",
       "       4.12915689e-01, 1.67544137e-03, 7.88559380e-01, 3.49596167e-01,\n",
       "       4.95437236e-01, 8.70622623e-01, 1.10447845e-02, 1.61051461e-01,\n",
       "       8.19936273e-01, 2.00853699e-01, 3.71192070e-01, 6.70206807e-01,\n",
       "       5.61615155e-01, 5.33679051e-01, 9.10276683e-01, 5.00394622e-01,\n",
       "       4.05128857e-01, 7.10918944e-01, 1.98797643e-01, 7.47037746e-01,\n",
       "       1.92882109e-01, 2.58743472e-01, 8.90184075e-01, 4.05921059e-01,\n",
       "       4.71752879e-01, 8.15020301e-01, 2.94111927e-01, 2.47680693e-01,\n",
       "       4.75777904e-01, 6.54986378e-01, 3.95285275e-02, 8.75717647e-01,\n",
       "       3.85881918e-02, 7.33430895e-01, 2.96412326e-01, 7.86949195e-01,\n",
       "       6.06209588e-01, 9.32535931e-01, 9.15544152e-01, 5.01375041e-01,\n",
       "       6.98951128e-01, 5.21629263e-01, 2.58651312e-01, 7.62190465e-01,\n",
       "       1.72221971e-01, 6.73028036e-01, 3.29325180e-01, 2.79223849e-01,\n",
       "       7.42062649e-01, 1.24038971e-01, 6.58588358e-01, 2.47743557e-01,\n",
       "       5.04218634e-01, 5.13380081e-01, 7.39818023e-01, 4.20174657e-01,\n",
       "       1.10897137e-01, 3.85392448e-01, 3.56320132e-01, 8.17614907e-01,\n",
       "       2.44253673e-01, 7.73400118e-01, 4.31259595e-02, 8.73355537e-01,\n",
       "       3.05618251e-01, 9.37684198e-01, 4.24581310e-01, 4.65319480e-01,\n",
       "       2.99774736e-01, 1.07277763e-01, 8.97047533e-01, 8.93327401e-01,\n",
       "       7.81110529e-02, 2.81280018e-01, 1.58481772e-01, 5.71651731e-01,\n",
       "       5.91833196e-01, 2.70304769e-02, 1.20333632e-01, 9.29733771e-01,\n",
       "       3.83215638e-01, 4.18763509e-02, 9.90865815e-01, 3.36471074e-01,\n",
       "       4.30266135e-01, 3.23009444e-01, 9.10069022e-01, 8.07736356e-01,\n",
       "       3.78559581e-01, 9.18782337e-01, 2.23986824e-01, 9.89932545e-02,\n",
       "       6.00456474e-01, 3.54119320e-01, 1.63664614e-01, 1.83822996e-01,\n",
       "       6.69709896e-01, 7.03357635e-01, 8.61118202e-01, 9.68355894e-01,\n",
       "       5.46610293e-01, 4.66028619e-01, 2.82871576e-01, 7.61991378e-01,\n",
       "       1.68060263e-01, 4.94968497e-02, 6.10584394e-02, 8.48234056e-01,\n",
       "       5.15747724e-02, 3.76286456e-01, 7.67646861e-02, 7.15198238e-01,\n",
       "       5.76511628e-01, 4.66233612e-01, 6.56243635e-01, 9.74559347e-01,\n",
       "       3.52256349e-01, 2.75826460e-01, 7.58241756e-01, 1.86290180e-01,\n",
       "       5.25605398e-01, 3.18753339e-03, 5.56422977e-01, 8.39886265e-01,\n",
       "       7.00084175e-01, 6.97058721e-01, 7.20249335e-01, 8.17213959e-01,\n",
       "       2.56394938e-01, 2.03591403e-01, 9.44464521e-01, 2.28795571e-01,\n",
       "       4.45616038e-01, 5.19386389e-01, 8.38917122e-01, 3.11930490e-01,\n",
       "       2.37506002e-02, 2.55009969e-01, 4.88127953e-01, 4.96030976e-01,\n",
       "       2.64749826e-01, 7.07198553e-01, 4.10095591e-01, 5.14395913e-01,\n",
       "       7.30010536e-01, 7.63790852e-01, 9.18288665e-01, 7.36155085e-01,\n",
       "       1.32679148e-01, 2.85991457e-01, 9.48883202e-01, 1.44658053e-01,\n",
       "       8.95608060e-01, 5.34230776e-01, 1.26546025e-01, 7.75976532e-01,\n",
       "       2.62646399e-01, 1.25364431e-01, 3.33159155e-01, 5.24533422e-01,\n",
       "       5.53847633e-01, 4.67458062e-01, 7.37042729e-01, 4.07051703e-01,\n",
       "       3.47992857e-01, 5.59593208e-01, 9.60249352e-01, 4.49371170e-01,\n",
       "       3.06764883e-01, 4.46518172e-01, 4.82425990e-01, 1.03022860e-01,\n",
       "       2.46031921e-01, 8.43608032e-01, 4.04244350e-01, 3.50047254e-01,\n",
       "       7.68227426e-01, 8.14968844e-01, 1.59139034e-02, 9.43423640e-01,\n",
       "       8.24782818e-01, 8.99589469e-01, 7.87443633e-01, 6.00021359e-01,\n",
       "       1.51057457e-01, 6.35036921e-01, 2.12017693e-01, 4.83702062e-01,\n",
       "       1.15330057e-01, 8.37471712e-01, 3.12928334e-01, 9.52372298e-01,\n",
       "       6.84500393e-01, 6.04424417e-01, 5.57758354e-01, 7.57811592e-01,\n",
       "       1.56826966e-01, 2.26070991e-01, 9.53024407e-01, 9.96142737e-01,\n",
       "       7.36403951e-01, 2.60820321e-01, 1.99051252e-01, 4.81325193e-01,\n",
       "       7.10971891e-01, 3.20821005e-02, 2.18833365e-02, 9.65028765e-01,\n",
       "       3.05590506e-01, 4.00059604e-01, 2.80577909e-02, 7.36247097e-01,\n",
       "       9.17833383e-01, 3.26823676e-01, 3.05479658e-01, 9.90425057e-01,\n",
       "       7.60513474e-01, 9.79982733e-01, 8.20662607e-01, 5.98509842e-01,\n",
       "       3.35479453e-01, 4.95876106e-01, 6.36935511e-01, 7.71821875e-01,\n",
       "       7.66570560e-01, 7.84290574e-01, 9.67029728e-01, 4.09107736e-01,\n",
       "       3.15025906e-01, 8.96702874e-02, 2.73719835e-01, 2.88261396e-01,\n",
       "       4.21478412e-01, 4.01581950e-01, 3.48146917e-01, 4.43294160e-01,\n",
       "       7.79904506e-01, 9.54878201e-01, 5.89744855e-01, 8.03981082e-01,\n",
       "       7.96174149e-01, 3.23694196e-01, 4.38346677e-01, 9.04474678e-01,\n",
       "       3.06147781e-01, 5.07192574e-01, 3.36367994e-01, 9.36539628e-01,\n",
       "       3.01175158e-01, 3.03855301e-01, 5.45305883e-01, 3.83443434e-01,\n",
       "       5.69968246e-01, 6.10600074e-01, 9.29367880e-01, 4.63055915e-01,\n",
       "       1.36212281e-01, 3.10614294e-01, 6.90152160e-01, 7.10879947e-02,\n",
       "       4.50189469e-01, 3.16066916e-01, 3.61837515e-01, 4.53907279e-01,\n",
       "       9.38375348e-01, 1.68269712e-01, 6.14432008e-01, 6.42155691e-01,\n",
       "       7.28950125e-01, 4.95803089e-01, 5.21669621e-01, 5.83032966e-01,\n",
       "       4.91665189e-01, 8.21398780e-01, 8.59389666e-01, 3.08744770e-01,\n",
       "       5.06216647e-01, 1.36464241e-01, 2.04937578e-01, 6.93364763e-01,\n",
       "       1.65436142e-01, 5.40467884e-01, 7.86564389e-01, 3.19750750e-02,\n",
       "       9.18389547e-01, 2.06890251e-01, 3.17868272e-01, 4.23729506e-01,\n",
       "       1.13663872e-01, 4.58777245e-01, 9.59792702e-01, 6.11354372e-01,\n",
       "       5.02019998e-02, 6.01525584e-01, 8.05946303e-02, 6.72786126e-01,\n",
       "       1.17414584e-01, 8.77913413e-01, 4.07529204e-01, 9.38568928e-01,\n",
       "       2.56652829e-01, 3.51089092e-01, 7.20119329e-01, 1.22594178e-01,\n",
       "       8.28127758e-01, 6.60178635e-02, 9.52020341e-01, 7.76908008e-03,\n",
       "       5.46436412e-01, 6.06716173e-01, 1.85144685e-01, 4.27124259e-01,\n",
       "       8.42591365e-01, 9.31871760e-01, 1.48644818e-01, 9.05459279e-01,\n",
       "       3.72344291e-01, 7.69382197e-02, 3.89784306e-01, 2.41209437e-01,\n",
       "       6.16975686e-01, 6.65584288e-01, 5.10383493e-01, 4.86132002e-01,\n",
       "       7.29300638e-01, 8.35023382e-01, 5.51925401e-01, 7.99100293e-01,\n",
       "       1.61711688e-01, 9.52875416e-01, 2.60358112e-01, 8.81132003e-01,\n",
       "       8.75616368e-01, 3.45794539e-01, 4.19898999e-01, 6.68949028e-01,\n",
       "       9.72104653e-01, 3.91330329e-01, 3.77286155e-01, 6.63216906e-01,\n",
       "       6.18420167e-01, 7.65524674e-03, 4.82363526e-01, 7.91331696e-01,\n",
       "       8.25012579e-01, 1.02895664e-01, 3.54809556e-01, 1.32512330e-01,\n",
       "       7.18657338e-01, 6.47754237e-01, 2.57675266e-01, 9.83685386e-01,\n",
       "       1.76204894e-01, 2.05070272e-01, 5.24925908e-01, 5.80140617e-01,\n",
       "       8.23500185e-01, 6.99386864e-01, 5.43658421e-01, 8.28585187e-01,\n",
       "       7.26040018e-01, 7.72251176e-01, 8.07594142e-01, 8.98400483e-01,\n",
       "       4.04922246e-01, 8.83182377e-01, 2.58838056e-01, 2.10881187e-01,\n",
       "       5.22115518e-02, 5.51930308e-01, 1.56215038e-01, 1.66926740e-01,\n",
       "       3.24157658e-01, 8.55989938e-01, 8.90875103e-01, 1.95683391e-02,\n",
       "       2.77412250e-01, 3.31376744e-01, 9.19916788e-01, 2.49042043e-01,\n",
       "       6.56823547e-01, 9.42950660e-01, 3.44847366e-02, 4.32664936e-01,\n",
       "       2.42658843e-02, 8.59213575e-01, 3.06540628e-02, 6.84442317e-01,\n",
       "       3.45754613e-01, 4.98131059e-01, 1.30259388e-01, 8.37086879e-01,\n",
       "       1.21918526e-01, 2.83312942e-01, 2.09120402e-01, 1.65818133e-03,\n",
       "       1.58339730e-01, 4.68586862e-01, 2.40256289e-01, 6.22936868e-01,\n",
       "       8.40597020e-01, 9.16040607e-01, 9.33702542e-01, 7.44833006e-01,\n",
       "       8.35298457e-01, 4.24865831e-01, 7.70084289e-01, 4.32625205e-01,\n",
       "       3.13790778e-01, 6.75331138e-01, 2.04576537e-02, 2.95854384e-01,\n",
       "       5.56022210e-01, 6.34841274e-01, 1.43846974e-01, 4.50924637e-01,\n",
       "       1.92819366e-01, 5.04773906e-01, 9.19011173e-01, 6.55373674e-01,\n",
       "       8.94377777e-01, 3.72959824e-02, 6.74944071e-01, 1.90501799e-01,\n",
       "       5.48585955e-01, 6.45572213e-01, 1.68802524e-02, 8.37849586e-01,\n",
       "       8.47678098e-01, 9.45312570e-01, 8.69227205e-01, 5.65592638e-01,\n",
       "       4.53876802e-01, 2.39866068e-01, 1.88901431e-01, 4.73022439e-01,\n",
       "       2.88569528e-01, 2.21350992e-02, 9.14349631e-01, 7.86372779e-01,\n",
       "       3.37705720e-01, 4.36705318e-01, 4.09609869e-01, 4.39325274e-01,\n",
       "       6.57396632e-01, 3.42950506e-01, 5.81823271e-02, 7.97408782e-01,\n",
       "       4.06812976e-01, 5.64915612e-01, 2.79120287e-01, 6.12326832e-02,\n",
       "       4.74804024e-01, 3.91468297e-01, 4.88584517e-02, 8.98790203e-01,\n",
       "       1.04301664e-01, 8.09099436e-01, 9.93475023e-01, 9.13416319e-01,\n",
       "       2.08883053e-01, 2.53497876e-01, 9.64057405e-01, 4.01097354e-01,\n",
       "       1.98717119e-01, 4.90635276e-01, 2.89635118e-01, 6.71107022e-01,\n",
       "       9.22616851e-01, 4.34955973e-01, 9.65766753e-01, 3.63369255e-01,\n",
       "       4.37891488e-01, 4.23108350e-01, 6.53100628e-02, 3.02303195e-01,\n",
       "       6.84635233e-01, 4.15078164e-01, 9.22128862e-01, 9.23766611e-01,\n",
       "       8.78143258e-02, 5.47064216e-02, 4.78961671e-01, 2.21387086e-01,\n",
       "       5.53811373e-02, 9.04583840e-01, 4.11962410e-01, 2.50991177e-01,\n",
       "       2.63835462e-01, 6.84923930e-02, 3.68228075e-01, 3.56321040e-01,\n",
       "       9.02812402e-01, 2.40786175e-02, 1.31856683e-01, 2.97673723e-01,\n",
       "       3.01032990e-01, 1.73212078e-01, 3.63521585e-01, 7.61392848e-01,\n",
       "       6.18942325e-01, 1.56762723e-01, 4.39914508e-01, 9.68312927e-01,\n",
       "       2.24353946e-01, 9.34286393e-01, 6.87429490e-01, 5.06281199e-01,\n",
       "       9.64849209e-01, 8.96196239e-03, 2.16157958e-01, 3.16446009e-01,\n",
       "       3.51519008e-01, 1.04870130e-01, 1.60669933e-01, 2.64874542e-01,\n",
       "       6.82456345e-01, 3.32374590e-01, 7.16128187e-01, 2.63786050e-01,\n",
       "       3.57800108e-01, 1.69352887e-01, 9.06384177e-01, 9.95045674e-01,\n",
       "       7.06766534e-01, 2.03878233e-01, 9.35028603e-01, 2.58386947e-01,\n",
       "       3.00850682e-01, 8.55366750e-01, 6.73797573e-02, 2.26760793e-01,\n",
       "       8.45967914e-01, 9.32396090e-01, 4.76552196e-01, 3.51596784e-01,\n",
       "       2.34649394e-01, 1.02004204e-01, 5.44742782e-01, 7.10786641e-01,\n",
       "       5.52820313e-01, 4.83106419e-01, 8.73707603e-01, 9.11654641e-01,\n",
       "       9.51594369e-01, 2.30319059e-01, 2.95942417e-01, 5.76919822e-01,\n",
       "       4.26636231e-01, 4.55825025e-01, 4.19927677e-01, 3.70106307e-02,\n",
       "       3.56705248e-02, 5.98832651e-01, 4.64704439e-01, 4.37218377e-01,\n",
       "       9.14006212e-01, 8.81164791e-01, 3.61458600e-01, 4.25169677e-01,\n",
       "       1.93196167e-01, 9.43724529e-01, 5.65284056e-01, 9.67120990e-02,\n",
       "       6.64053393e-01, 1.89299891e-01, 1.23255747e-02, 6.67846408e-01,\n",
       "       4.35246822e-01, 8.84882522e-01, 5.23079797e-01, 2.16529717e-01,\n",
       "       5.14472277e-01, 7.27617719e-01, 8.19923516e-01, 5.17758598e-01,\n",
       "       2.00895892e-01, 7.07595872e-01, 9.83376836e-01, 5.77142785e-01,\n",
       "       4.60060653e-01, 6.17345009e-01, 7.96342970e-01, 4.92511827e-01,\n",
       "       8.70150570e-01, 2.93793522e-01, 6.42299849e-02, 6.35676982e-01,\n",
       "       5.21277286e-02, 2.54181884e-01, 2.30675499e-01, 2.09461501e-01,\n",
       "       9.64756355e-01, 4.37476470e-01, 5.06152176e-01, 9.75327655e-01,\n",
       "       6.17611617e-01, 2.56043756e-01, 9.40395979e-01, 2.49236765e-01])"
      ]
     },
     "execution_count": 12,
     "metadata": {},
     "output_type": "execute_result"
    }
   ],
   "source": [
    "temp2 = np.random.rand(1000) # 1차원 구조\n",
    "temp2"
   ]
  },
  {
   "cell_type": "code",
   "execution_count": 14,
   "metadata": {},
   "outputs": [
    {
     "data": {
      "text/plain": [
       "array([[ 0.67878378, -0.27983465, -0.57920401, -1.61517303],\n",
       "       [-0.16800266, -0.80799271, -0.87899152,  1.09145534]])"
      ]
     },
     "execution_count": 14,
     "metadata": {},
     "output_type": "execute_result"
    }
   ],
   "source": [
    "# 표준 정규분포에서 표본추출\n",
    "temp3 = np.random.randn(2, 4)\n",
    "temp3"
   ]
  },
  {
   "cell_type": "code",
   "execution_count": 15,
   "metadata": {},
   "outputs": [
    {
     "data": {
      "text/plain": [
       "array([ 7.23360934e-01,  6.65316829e-02,  6.89742213e-01, -1.35830303e+00,\n",
       "       -8.36093030e-02,  1.62294176e+00,  1.03947737e+00,  5.54243001e-02,\n",
       "        8.96701181e-01, -9.96237901e-01, -3.71637185e-01, -2.94796074e-01,\n",
       "        1.61875927e-01, -6.05924944e-01, -4.93491745e-01, -4.20137226e-01,\n",
       "       -4.97119517e-01,  4.35867818e-01,  6.19363301e-01,  6.23894182e-01,\n",
       "        1.78739889e-01, -6.50759558e-01,  1.86461957e-01, -1.26569496e+00,\n",
       "       -5.51008847e-01,  1.68010388e-01,  1.20164466e-01, -3.38755205e-01,\n",
       "        1.46806696e+00, -1.08623854e-01,  1.07636881e-01, -5.08836673e-01,\n",
       "       -2.41189014e-01, -1.29226394e+00,  1.24594603e+00, -2.90041685e-01,\n",
       "       -5.49193565e-01, -1.55252324e+00,  4.40155191e-01, -7.92044568e-01,\n",
       "        1.05938739e+00,  4.74145817e-01,  9.48526342e-01, -3.28941077e-02,\n",
       "       -6.19436866e-01, -4.64810716e-01,  8.61922722e-01, -4.99366971e-01,\n",
       "        1.04386694e+00, -8.81751105e-01,  2.31865704e-02, -4.28005113e-01,\n",
       "       -2.50908075e-01, -1.49739786e+00, -6.80450888e-02, -1.82765517e-01,\n",
       "        1.16701672e-01,  5.35990707e-01, -8.12174658e-01,  6.57021785e-01,\n",
       "       -1.67906495e-01,  7.70870826e-01,  9.26955393e-01, -1.15338222e-01,\n",
       "        4.18740352e-01, -3.14358979e-01, -9.00892418e-01, -1.53835780e+00,\n",
       "       -6.78124412e-01,  1.85220789e-01, -4.60589274e-01, -1.07205659e+00,\n",
       "       -5.11059325e-01, -6.82532032e-01,  2.85429776e+00, -1.14469934e+00,\n",
       "       -5.36430477e-01, -1.17511470e+00,  1.35943971e+00, -2.78792584e-01,\n",
       "       -1.77749689e+00, -1.40355415e+00,  6.52740923e-01,  9.70691255e-02,\n",
       "       -4.79569768e-02,  1.84461448e-02,  1.18369278e+00,  1.04296019e+00,\n",
       "       -4.02660589e-01,  5.99094787e-01, -9.29855374e-01,  1.54756636e+00,\n",
       "       -6.27231093e-02,  1.31676696e+00,  1.14632143e+00, -7.82555210e-01,\n",
       "        2.34097122e-01,  1.58298666e+00, -2.85452082e-01, -6.71122348e-01,\n",
       "        6.78824208e-01, -1.06535417e-01,  8.45889563e-01,  1.03794165e+00,\n",
       "       -6.13247632e-02,  1.44206941e+00, -8.97082563e-01,  1.07275804e-01,\n",
       "        1.05727878e+00,  8.45548873e-01,  1.02410323e+00,  1.92271006e-01,\n",
       "       -1.02981325e+00, -3.82807500e-01, -4.57903345e-01,  6.77255601e-01,\n",
       "        1.58074704e+00,  4.46816616e-01,  1.01478436e+00,  3.49983909e-02,\n",
       "        1.06816561e+00, -3.23839698e-01,  1.44862448e-01, -1.61835336e-01,\n",
       "       -9.08677933e-01, -7.34031195e-01, -4.20611117e-02, -3.90445742e-01,\n",
       "        2.13728197e-02,  1.18526251e+00, -9.95375257e-01, -6.89662278e-01,\n",
       "        6.36259194e-01,  4.25313716e-01, -1.11537637e+00,  3.14497533e+00,\n",
       "       -1.03933606e+00, -1.77223949e+00, -7.11510399e-01,  5.74018254e-01,\n",
       "       -3.29630600e-01, -6.33113313e-02,  1.47718037e-01, -5.04884019e-01,\n",
       "        1.18479279e-01, -8.19616367e-01,  3.37782744e-01,  5.44188463e-02,\n",
       "       -3.40113146e-01,  4.41723017e-01, -3.11644485e-01, -4.08669689e-02,\n",
       "        5.96720825e-01,  1.90714689e+00, -4.55935549e-01, -4.47202956e-01,\n",
       "        1.20680230e-01, -4.73559662e-01,  5.21339939e-01, -1.52632381e+00,\n",
       "       -1.32322356e+00,  5.08490883e-01, -3.43210001e-01,  1.45903740e+00,\n",
       "        5.55623943e-02, -9.25299543e-01,  8.27581999e-01, -5.09046847e-02,\n",
       "       -6.91249235e-01, -8.53296315e-02,  3.72067173e-01, -1.03645014e+00,\n",
       "        1.36241965e+00, -4.24430479e-01,  2.32636302e-01,  3.55667027e-01,\n",
       "       -8.17428216e-01, -2.29384974e+00,  1.48954426e+00,  4.71317269e-01,\n",
       "        1.58720698e+00,  4.89717481e-01,  2.38389469e-01, -5.69815174e-01,\n",
       "        2.52882866e-01, -4.46055456e-01,  1.29327780e+00, -1.33550827e+00,\n",
       "        9.89709462e-01, -1.02091562e+00,  2.00896424e-01,  2.67041786e-01,\n",
       "       -7.73477566e-02, -4.10103278e-03, -4.17560970e-01, -4.11911988e-01,\n",
       "       -3.24930763e-01,  1.38426068e+00, -5.70602198e-01, -1.73867510e+00,\n",
       "        1.07175114e+00, -1.49074334e+00,  3.21635781e-01, -7.41826189e-01,\n",
       "       -6.25385865e-01,  8.90282098e-01, -9.09109512e-01,  3.58761576e-01,\n",
       "       -1.28083146e-01, -2.61417176e-02, -9.14735370e-01, -2.99600383e-01,\n",
       "        9.47485009e-02,  1.95286705e-01, -1.05145001e+00, -2.41593111e+00,\n",
       "       -8.90969241e-03, -6.65655030e-01, -1.34785081e+00, -7.35680181e-01,\n",
       "       -2.33199831e+00,  4.08359481e-01, -7.08901512e-02,  1.08033968e+00,\n",
       "       -9.42114001e-02, -1.96322492e-01, -8.29678542e-02,  1.29650306e+00,\n",
       "        6.01045231e-02, -2.25121845e-01,  7.08048868e-01,  1.74484294e+00,\n",
       "       -1.74386508e+00, -2.15207035e+00, -3.17514454e-01, -2.18122490e+00,\n",
       "        3.08670880e-01, -1.31016872e-03, -6.50979308e-01, -6.67521412e-01,\n",
       "       -4.94580027e-02, -1.51603066e+00, -1.14943262e-01,  5.07558767e-01,\n",
       "        1.21654284e+00, -1.53077139e-01,  1.77681855e-01, -1.08109580e+00,\n",
       "       -3.30285102e-01,  1.17923767e+00,  9.78261752e-01,  1.07831024e-01,\n",
       "       -5.48044309e-01,  1.35864592e+00, -3.32505767e-01,  2.63808868e-01,\n",
       "       -5.42196451e-01,  1.06543374e+00, -2.03401236e-01,  1.40751892e+00,\n",
       "        1.61370050e+00,  7.45281761e-01, -4.94807650e-01,  1.89441658e-02,\n",
       "        1.57379586e+00,  7.66967040e-01, -2.67179349e-01, -1.55590325e+00,\n",
       "       -8.73895848e-01,  1.16374074e-01, -2.60316724e-01,  1.45659282e+00,\n",
       "        3.11735130e-01, -2.06542839e+00, -7.16768203e-01, -3.61282627e-03,\n",
       "       -1.45339722e-01, -6.33902699e-01, -1.09413692e+00, -6.90165437e-01,\n",
       "        7.39209625e-01,  6.95123709e-01,  5.16420533e-01,  1.86165890e+00,\n",
       "        1.17454755e+00, -6.00885802e-02,  2.48911646e-02, -1.41156924e+00,\n",
       "        5.56955622e-01, -7.79258526e-01, -1.20867451e+00,  3.55530076e-01,\n",
       "       -1.29103327e+00,  6.29149015e-01,  1.09390664e+00, -1.25195489e+00,\n",
       "       -3.99809998e-01, -7.17083199e-01, -4.33709527e-01,  2.97740177e-01,\n",
       "        1.48640509e+00,  1.18752132e+00,  3.06766004e-01, -9.83871641e-01,\n",
       "        2.17710520e+00, -7.81671736e-02, -7.33656129e-01,  1.27185733e+00,\n",
       "       -1.78670259e+00, -1.14832480e+00,  1.95265128e-01, -1.97014138e-01,\n",
       "       -1.35905699e-02,  8.45168052e-01,  5.18490603e-01,  8.13798212e-02,\n",
       "        4.08297790e-01,  1.95645709e+00, -1.28212246e+00, -1.15956421e+00,\n",
       "       -1.84579605e-01, -4.70070511e-02, -1.72853014e+00, -1.67965598e+00,\n",
       "        6.16321128e-02,  9.11344848e-01,  7.97863402e-01,  3.33679352e-01,\n",
       "       -4.89754761e-01,  5.73453254e-01, -8.93673889e-01,  1.46227883e-01,\n",
       "       -2.04008088e-01, -2.60612218e-01, -4.46857603e-01, -5.89671236e-02,\n",
       "       -1.43993698e+00,  2.26216116e-01, -8.16106722e-01,  8.07021164e-01,\n",
       "       -2.67738844e-02, -2.02361672e-01, -3.34180151e-01,  7.53295615e-02,\n",
       "        7.59897595e-01, -1.38302127e+00, -3.43063780e-01,  4.02380076e-01,\n",
       "       -1.95936704e+00, -1.40804076e+00,  6.18767345e-01,  6.40926379e-01,\n",
       "       -1.12285012e+00, -1.56426343e+00, -3.55589266e-02,  1.69999531e+00,\n",
       "       -3.21105784e-01,  6.88816853e-01,  1.76206519e+00,  7.85615389e-01,\n",
       "        9.56161974e-01, -8.27236992e-01, -6.31908766e-03,  6.78172116e-01,\n",
       "       -3.51722967e-01,  4.86758704e-01, -1.02920806e+00,  1.29421646e+00,\n",
       "        1.24878720e+00,  1.33808603e+00,  1.15048360e+00, -1.14245817e-01,\n",
       "       -2.29553874e-01,  1.44044201e-01, -8.14602269e-01, -1.74385805e+00,\n",
       "       -1.07805528e+00, -2.77588342e-01, -7.54748409e-01, -4.08730521e-01,\n",
       "        6.29488864e-01,  9.86309052e-01, -1.84069548e+00,  1.13296113e-01,\n",
       "        1.28833503e+00,  7.76650424e-01,  1.43876335e+00,  8.27245735e-01,\n",
       "        1.99262200e-01,  1.89625943e-02,  4.46122024e-01,  1.08428603e+00,\n",
       "       -6.49752343e-01,  1.19998755e-01,  1.04311596e-01, -7.30019219e-01,\n",
       "        3.01738566e-01,  1.37999297e+00, -4.83955792e-01,  4.13102014e-01,\n",
       "        5.69304746e-01,  7.11580664e-01,  1.05262750e-01, -4.82128518e-01,\n",
       "        1.76300602e-01,  9.23288516e-01,  4.84896397e-01,  4.24200461e-01,\n",
       "       -6.54479222e-01,  5.91221716e-01, -1.14192945e+00,  4.96355614e-01,\n",
       "       -1.05879723e+00, -3.91442064e-01, -7.18213702e-01,  1.87705783e+00,\n",
       "       -1.08060006e+00, -2.19615612e-01,  7.75251374e-01,  2.88968997e-02,\n",
       "       -8.02457864e-01, -6.70760088e-01, -5.93863127e-02, -2.79060552e-02,\n",
       "        1.31007637e+00, -4.48195688e-01, -5.17149072e-01,  7.30697579e-01,\n",
       "        2.02986975e+00, -1.65044288e+00,  6.58284041e-01,  1.01496838e+00,\n",
       "       -1.26151909e+00, -1.31194821e+00, -2.16213824e+00, -2.03654782e+00,\n",
       "       -1.05456331e+00, -9.36500021e-01,  1.26768627e+00,  6.36195069e-01,\n",
       "       -1.04795398e-01,  9.09513686e-01,  1.75033380e-01,  5.19401116e-01,\n",
       "       -6.48899405e-01, -2.43839986e-01,  1.38519068e+00,  4.37396246e-01,\n",
       "        2.70699866e+00,  2.88378176e-01, -1.16709299e+00, -4.97691826e-01,\n",
       "       -2.15830955e+00, -1.37045973e+00, -2.71546282e-01,  1.84164814e+00,\n",
       "        7.35971613e-01,  3.88416230e-01, -8.33220785e-01, -1.23768764e+00,\n",
       "        1.18534776e-01, -1.83192628e+00, -1.55264990e+00,  2.53082707e-01,\n",
       "        5.05102802e-01, -3.40489354e-01,  7.44056617e-01,  1.82728364e+00,\n",
       "       -3.80663122e-01, -1.65456576e+00, -9.57075410e-01, -1.06165606e+00,\n",
       "       -4.63084077e-01,  1.51570414e-01,  1.68899625e-01, -2.42163817e+00,\n",
       "        1.02330057e+00, -5.31484137e-01,  7.29520590e-01,  1.86780177e+00,\n",
       "        1.16700781e+00,  9.99754792e-01, -5.85527406e-01, -6.65272796e-01,\n",
       "       -7.72163389e-02, -1.15984191e+00, -4.59370476e-01,  8.65676612e-02,\n",
       "       -1.37260704e-01, -1.15551729e-01, -8.59929591e-01,  1.26310082e-01,\n",
       "       -1.12230275e+00, -1.43628311e-01, -2.54776264e+00,  8.41134279e-01,\n",
       "        8.29270281e-01,  1.35372787e+00, -1.37017003e+00, -1.83959169e-01,\n",
       "       -2.29538689e-01,  4.55917122e-02, -7.73388383e-01,  1.75119127e+00,\n",
       "        5.57954119e-01, -1.01171498e+00,  5.05906753e-01, -5.49001286e-01,\n",
       "        3.09578048e-01, -1.09676709e+00, -8.52664952e-01,  4.16193303e-01,\n",
       "        1.78237947e-02, -8.86481215e-01, -7.56136696e-01,  5.23059577e-01,\n",
       "        1.64710028e+00,  8.82408544e-01,  6.00010951e-01, -8.08053611e-01,\n",
       "       -7.14767292e-01,  5.14512200e-01,  1.62026217e-01,  1.45230773e+00,\n",
       "        1.56733707e+00,  5.01647893e-01,  2.81813443e+00, -1.92612308e+00,\n",
       "        1.32047114e+00,  1.44196449e+00,  2.71877542e-01,  1.18106854e+00,\n",
       "        8.85075554e-01,  8.04335173e-01, -1.06106603e+00, -6.83855194e-01,\n",
       "       -3.43269836e-01, -1.19733275e+00,  1.52176262e-02,  1.77689220e-01,\n",
       "        2.86871640e-01,  1.09005510e+00, -1.52633781e-01, -9.99514549e-01,\n",
       "        2.80365653e-01,  7.71326446e-01, -4.27327584e-01, -1.10793094e+00,\n",
       "       -9.81899826e-01,  1.13346585e+00, -1.24561284e+00, -2.24229412e-01,\n",
       "        1.10309288e+00, -5.06581421e-01,  1.35633223e+00,  6.82159675e-01,\n",
       "        5.00108042e-01,  3.90756817e-01, -5.89529342e-02,  2.87811770e-03,\n",
       "       -7.34065582e-01,  1.00755603e+00,  6.13257036e-01,  1.33078976e-01,\n",
       "        3.17786097e-01,  3.14702657e-02,  2.43859785e+00, -2.16618704e-01,\n",
       "       -3.01334922e-01,  2.72738586e-01,  4.21349668e-01, -1.04171612e-01,\n",
       "       -8.91924756e-01,  1.27592548e+00, -1.51867178e+00, -1.54545675e-01,\n",
       "        5.78239865e-01,  2.12635693e-02, -1.74092253e+00,  1.06818981e+00,\n",
       "       -2.55721585e+00, -5.52403663e-01, -1.58396510e+00, -4.95822380e-01,\n",
       "        6.64471706e-01, -1.43344637e+00, -2.08553430e+00, -2.87565273e-02,\n",
       "       -8.86843892e-01,  3.11026448e-01,  2.54528426e-01,  7.94672314e-01,\n",
       "        1.62109489e+00,  2.16374703e-01, -9.45635953e-01,  9.32189568e-01,\n",
       "        4.35202133e-01,  8.58355563e-03, -1.04936489e+00,  1.01020916e+00,\n",
       "        8.17211148e-01,  8.42752647e-01,  2.93785203e-01, -3.21980098e-01,\n",
       "       -1.67085517e+00,  1.80463687e+00,  1.17394983e+00, -1.70064694e+00,\n",
       "       -1.15461108e+00, -6.72564185e-01,  5.24016118e-01,  4.03949819e-01,\n",
       "       -1.61995789e+00,  7.05277404e-01,  7.68756450e-01, -1.14549670e-01,\n",
       "       -5.59614258e-01, -8.20217231e-02, -1.01936496e+00,  1.16128730e+00,\n",
       "        1.49584376e+00,  1.47998701e-02, -1.85748848e-01, -1.24349576e+00,\n",
       "        1.14577548e+00,  6.08999052e-01, -1.80469025e+00,  1.68062259e+00,\n",
       "        1.88719474e-01, -4.75158578e-01,  1.66584492e+00, -1.21912254e+00,\n",
       "       -1.58069416e+00,  1.25909564e-01,  4.19651629e-01,  4.30404346e-02,\n",
       "       -2.11746732e-01, -1.30419376e-01, -1.32979314e+00, -2.22474349e-01,\n",
       "       -5.50898207e-02, -2.04144512e+00,  2.15052616e-01,  1.43730630e+00,\n",
       "       -1.23739282e-01,  5.61204769e-01, -1.25514444e-01, -2.18387908e+00,\n",
       "       -1.36923737e+00,  9.70707469e-01, -7.25408288e-01, -2.30944251e-02,\n",
       "       -4.73179941e-01, -3.73721494e-01,  1.21495106e+00, -9.46347688e-02,\n",
       "       -4.08590360e-01, -7.45366448e-01,  3.54795939e-01,  5.93848158e-01,\n",
       "        3.97951747e-02, -3.61116696e-01, -5.44338269e-02,  8.00705759e-01,\n",
       "       -2.03295984e+00,  1.56300943e+00, -4.62767889e-01,  1.87375271e-01,\n",
       "        1.19021201e-01,  2.02927062e+00,  5.88354229e-01,  1.18610729e+00,\n",
       "        4.42133162e-01, -1.88399952e-01, -1.14339307e+00, -3.18134325e-01,\n",
       "        2.90966985e+00,  6.29737006e-01, -6.04291086e-01, -1.40216956e+00,\n",
       "       -6.37648744e-01, -1.56153374e+00, -8.04555327e-01,  1.05226347e-01,\n",
       "       -7.35762788e-01,  4.83909237e-01,  5.35547804e-01, -5.78253395e-01,\n",
       "        5.14872686e-01,  2.56337390e+00, -5.90413684e-01,  6.67212900e-01,\n",
       "       -8.32316258e-01,  1.19257571e+00,  1.05762699e-02, -1.21569249e+00,\n",
       "       -2.93150136e-01, -6.16903851e-01,  2.18725332e+00, -5.35988237e-01,\n",
       "        1.94985380e-01,  1.73329557e-01,  5.76994529e-01, -5.69098405e-01,\n",
       "       -8.87971388e-01, -7.67894363e-01, -1.60680838e-01,  1.63307309e+00,\n",
       "       -4.89426889e-01, -4.92721624e-01, -7.24896662e-01,  1.41647481e+00,\n",
       "        8.02399196e-01, -1.30192242e-01, -1.09907931e-01, -1.72389337e+00,\n",
       "       -2.96952956e-01,  1.65286672e+00, -1.04073008e+00,  5.38441025e-01,\n",
       "        8.57319393e-04, -9.40922467e-01, -6.94873984e-01,  1.88737013e+00,\n",
       "       -4.87572703e-01,  2.67308426e+00,  6.64048805e-01,  1.35466407e-02,\n",
       "       -1.36567517e+00,  2.57835566e-01,  1.11174772e+00, -7.62434703e-02,\n",
       "       -7.08953487e-01,  5.21456048e-03, -4.88895884e-01, -1.42926319e-01,\n",
       "        1.49498035e+00, -6.23253890e-01,  3.97407688e-01,  6.02555332e-01,\n",
       "       -1.34723904e-01,  2.25875451e-01,  4.66497439e-01,  1.63804231e+00,\n",
       "        9.43516261e-01, -1.16497400e+00,  5.67819515e-01, -1.52618931e+00,\n",
       "        1.15565170e+00,  4.51296496e-01, -1.59829685e+00,  1.39923706e+00,\n",
       "       -1.97175884e-01, -1.17895888e-01,  4.53694725e-01,  7.45627101e-01,\n",
       "       -2.73152230e+00, -1.22640287e+00, -8.62595004e-01, -2.67479961e-01,\n",
       "       -1.72918253e+00,  5.47027530e-01, -2.18427067e-01, -1.04920401e+00,\n",
       "       -5.10471504e-01, -1.90214307e-01,  1.44489956e+00, -1.49139512e+00,\n",
       "       -5.32686444e-02, -5.32970716e-01, -2.78607965e-01, -9.76994526e-01,\n",
       "        4.80716655e-01,  1.46961841e+00,  7.36494501e-01,  3.06912384e-01,\n",
       "        7.77028002e-01,  2.33298503e-01,  9.01123445e-01,  9.77203862e-01,\n",
       "        1.10646818e+00, -2.90620361e-01,  1.73431350e+00, -2.64307415e+00,\n",
       "       -4.03075927e-01,  1.83282653e+00,  1.24894195e+00,  1.66223938e+00,\n",
       "        9.51324418e-02,  2.22071513e+00, -2.71049549e-01,  3.76253216e-01,\n",
       "       -4.93478380e-01,  9.77588310e-01, -6.49248911e-01, -2.90379729e-01,\n",
       "        1.45559975e+00,  1.15547188e+00, -3.62475498e-01,  2.31034826e-02,\n",
       "        5.72186812e-01,  3.17676882e-01, -8.47536467e-01, -1.04318657e+00,\n",
       "        2.30938011e-01,  1.35513570e+00, -1.09817806e+00, -6.10693753e-01,\n",
       "       -2.36566502e-01, -3.28598765e+00,  6.27404982e-01, -1.61619155e-01,\n",
       "       -4.50098808e-01,  1.44398484e-01,  1.21144721e+00,  6.80703870e-01,\n",
       "        1.22527430e+00, -5.28058369e-01, -1.52042041e+00,  1.43581572e+00,\n",
       "       -1.05573333e+00,  4.07502342e-01,  1.34300301e+00,  2.63707790e-01,\n",
       "       -8.29386887e-01,  3.75143848e-01,  5.20992569e-01, -4.52036401e-01,\n",
       "       -5.44671833e-01,  8.61870161e-02,  1.51763541e+00,  7.84450351e-01,\n",
       "        1.33247258e-01,  5.64319485e-01,  3.43366791e-01,  9.09702269e-01,\n",
       "       -1.67375067e+00, -7.02048286e-01,  1.38929387e+00, -6.31007781e-01,\n",
       "        6.53360009e-01, -8.15230010e-01,  9.30595186e-01, -2.22925934e-02,\n",
       "        3.48797721e-02, -1.16904377e+00, -1.20936578e+00, -4.28714251e-01,\n",
       "        2.02221439e+00,  1.68539847e+00,  1.35391691e+00,  1.52800596e+00,\n",
       "        2.22173497e-01,  8.70266638e-01, -9.22486563e-01, -5.52308085e-02,\n",
       "        5.12994261e-01, -5.39312734e-02, -4.93074162e-01, -8.36600277e-02,\n",
       "       -5.06524953e-01,  1.90820571e+00, -2.03112752e+00,  1.59846309e+00,\n",
       "        1.50151525e+00, -1.26669691e+00, -2.03015549e+00, -9.46648078e-01,\n",
       "        2.62375820e+00,  1.08451026e-02, -8.82339816e-01, -3.27665926e+00,\n",
       "        6.65433096e-01, -1.34940536e+00,  7.28931384e-01,  3.47160559e-01,\n",
       "       -1.13504381e+00,  4.52582213e-01,  5.99676492e-02, -8.00315850e-01,\n",
       "       -1.13353650e+00,  5.48185616e-01, -1.19359983e-01, -2.82215734e-01,\n",
       "        3.38299481e-01, -2.54312376e-01, -1.15190053e+00,  4.57042789e-01,\n",
       "       -4.28641025e-01,  9.72492487e-01, -1.07910141e+00,  1.45274291e-01,\n",
       "        1.43683340e+00, -5.95645933e-01,  1.10343303e+00, -1.41200108e+00,\n",
       "       -1.85750552e+00,  8.72634424e-01,  8.40340491e-01, -1.53311588e-01,\n",
       "       -4.06289767e-01, -8.83931560e-01,  7.76742316e-01,  5.98564329e-04,\n",
       "       -1.96053776e+00,  1.82342360e+00,  8.60775888e-01, -7.83291982e-01,\n",
       "        2.55281325e-01,  1.42611494e+00, -1.48639456e+00, -1.68134206e-01,\n",
       "       -9.68210777e-01, -1.19458233e+00,  1.00985019e+00,  4.34548535e-01,\n",
       "        4.18653312e-01,  1.88096674e-01, -7.23965837e-01, -6.74361525e-01,\n",
       "       -4.96724106e-01,  1.23547868e+00,  1.96520616e-01, -5.56504714e-01,\n",
       "        1.18365670e+00, -1.16854512e+00, -3.29725229e-01, -4.28546656e-01,\n",
       "       -4.56144339e-01,  1.26959196e+00, -9.10665155e-01,  8.88176900e-03,\n",
       "        6.31438328e-01,  4.75449377e-01,  7.27144589e-02,  7.01291038e-01,\n",
       "       -3.51855748e-01,  7.18941426e-01, -3.21485483e-01,  7.08257908e-01,\n",
       "       -8.26090722e-01, -4.06264298e-01,  1.12592147e+00,  1.06487864e+00,\n",
       "        5.04508353e-01, -3.14494515e-01, -2.22569522e+00, -1.02374803e+00,\n",
       "        7.64741626e-01, -2.73814270e-01, -1.02689674e+00,  4.81720105e-01,\n",
       "       -1.50248695e-01, -1.49582126e+00, -3.51951935e-02,  5.18940443e-01,\n",
       "       -1.11422622e-01, -1.93295268e+00,  1.54641161e-03,  8.18103370e-01,\n",
       "       -7.44017217e-01,  1.47056626e-01, -4.09356537e-01,  1.81077385e+00,\n",
       "       -1.66504356e-02, -1.95465032e+00,  1.91160467e+00, -5.68853400e-01,\n",
       "       -2.67703896e-01, -1.97858597e+00,  1.06094346e+00, -6.07054439e-01,\n",
       "        6.27553536e-01, -7.35532892e-01, -1.78618404e-01,  1.85518721e+00,\n",
       "        9.46798163e-01, -2.30745190e+00,  1.30891261e+00, -1.06267189e+00,\n",
       "       -6.67477627e-02, -2.93758269e-01, -1.41599099e+00, -3.58251321e-01,\n",
       "        2.48328806e-01, -1.51524624e+00,  1.38599663e-01,  1.04653351e+00,\n",
       "        1.42939852e+00,  2.68696849e-01,  1.04313491e+00,  4.42007176e-01,\n",
       "       -5.16865536e-01,  1.85417309e+00, -1.31347925e+00,  1.31668298e+00,\n",
       "        1.13442096e+00, -5.20572502e-01,  1.90014059e+00, -2.41921075e+00])"
      ]
     },
     "execution_count": 15,
     "metadata": {},
     "output_type": "execute_result"
    }
   ],
   "source": [
    "temp4 = np.random.randn(1000)\n",
    "temp4"
   ]
  },
  {
   "cell_type": "code",
   "execution_count": 16,
   "metadata": {},
   "outputs": [
    {
     "data": {
      "text/plain": [
       "array([[5, 7, 5, 5],\n",
       "       [5, 6, 8, 5]])"
      ]
     },
     "execution_count": 16,
     "metadata": {},
     "output_type": "execute_result"
    }
   ],
   "source": [
    "temp5 = np.random.randint(5, 10, size = (2, 4))\n",
    "temp5"
   ]
  },
  {
   "cell_type": "code",
   "execution_count": 17,
   "metadata": {},
   "outputs": [
    {
     "data": {
      "text/plain": [
       "array([0, 0, 0, 0, 0, 0, 0, 0, 0, 0])"
      ]
     },
     "execution_count": 17,
     "metadata": {},
     "output_type": "execute_result"
    }
   ],
   "source": [
    "temp6 = np.random.randint(1, size = 10)\n",
    "temp6"
   ]
  },
  {
   "cell_type": "code",
   "execution_count": 18,
   "metadata": {},
   "outputs": [
    {
     "data": {
      "text/plain": [
       "array([-68, -95, -51,   9, -26,  36, -30, -18, -22, -87])"
      ]
     },
     "execution_count": 18,
     "metadata": {},
     "output_type": "execute_result"
    }
   ],
   "source": [
    "temp7 = np.random.randint(-100, 100, size = 10)\n",
    "temp7"
   ]
  },
  {
   "cell_type": "markdown",
   "metadata": {},
   "source": [
    "# Array 인덱싱"
   ]
  },
  {
   "cell_type": "markdown",
   "metadata": {},
   "source": [
    "1차원 구조"
   ]
  },
  {
   "cell_type": "code",
   "execution_count": 19,
   "metadata": {},
   "outputs": [
    {
     "data": {
      "text/plain": [
       "array([0, 1, 2, 3, 4, 5, 6, 7, 8, 9])"
      ]
     },
     "execution_count": 19,
     "metadata": {},
     "output_type": "execute_result"
    }
   ],
   "source": [
    "tempArr1 = np.arange(10)\n",
    "tempArr1"
   ]
  },
  {
   "cell_type": "code",
   "execution_count": 20,
   "metadata": {},
   "outputs": [
    {
     "data": {
      "text/plain": [
       "0"
      ]
     },
     "execution_count": 20,
     "metadata": {},
     "output_type": "execute_result"
    }
   ],
   "source": [
    "# 0번째 요소의 값\n",
    "tempArr1[0]"
   ]
  },
  {
   "cell_type": "code",
   "execution_count": 21,
   "metadata": {},
   "outputs": [
    {
     "data": {
      "text/plain": [
       "7"
      ]
     },
     "execution_count": 21,
     "metadata": {},
     "output_type": "execute_result"
    }
   ],
   "source": [
    "# 7번째 요소의 값\n",
    "tempArr1[7]"
   ]
  },
  {
   "cell_type": "code",
   "execution_count": 22,
   "metadata": {},
   "outputs": [
    {
     "data": {
      "text/plain": [
       "array([3, 4, 5, 6, 7])"
      ]
     },
     "execution_count": 22,
     "metadata": {},
     "output_type": "execute_result"
    }
   ],
   "source": [
    "# 범위의 값(3에서 7까지)을 추출\n",
    "tempArr1[3:8] # 인덱스 8을 포함하지 않는다."
   ]
  },
  {
   "cell_type": "code",
   "execution_count": 23,
   "metadata": {},
   "outputs": [
    {
     "data": {
      "text/plain": [
       "array([0, 1, 2, 3, 4, 5, 6, 7, 8, 9])"
      ]
     },
     "execution_count": 23,
     "metadata": {},
     "output_type": "execute_result"
    }
   ],
   "source": [
    "# 모든 요소의 값을 추출한다.\n",
    "tempArr1[:] # [시작 인덱스:끝인 인덱스]"
   ]
  },
  {
   "cell_type": "markdown",
   "metadata": {},
   "source": [
    "2차원 구조"
   ]
  },
  {
   "cell_type": "code",
   "execution_count": 24,
   "metadata": {},
   "outputs": [
    {
     "data": {
      "text/plain": [
       "array([[ 1,  2,  3,  4],\n",
       "       [ 5,  6,  7,  8],\n",
       "       [ 9, 10, 11, 12]])"
      ]
     },
     "execution_count": 24,
     "metadata": {},
     "output_type": "execute_result"
    }
   ],
   "source": [
    "# 3*4의 구조를 갖는 2차원 행렬\n",
    "tempArr2 = np.array([\n",
    "    [1,2,3,4],\n",
    "    [5,6,7,8],\n",
    "    [9,10,11,12]\n",
    "])\n",
    "tempArr2"
   ]
  },
  {
   "cell_type": "code",
   "execution_count": 25,
   "metadata": {},
   "outputs": [
    {
     "data": {
      "text/plain": [
       "2"
      ]
     },
     "execution_count": 25,
     "metadata": {},
     "output_type": "execute_result"
    }
   ],
   "source": [
    "tempArr2.ndim # 객체.TAB 사용하면 명령어 목록표시"
   ]
  },
  {
   "cell_type": "code",
   "execution_count": 26,
   "metadata": {},
   "outputs": [
    {
     "data": {
      "text/plain": [
       "(3, 4)"
      ]
     },
     "execution_count": 26,
     "metadata": {},
     "output_type": "execute_result"
    }
   ],
   "source": [
    "tempArr2.shape"
   ]
  },
  {
   "cell_type": "code",
   "execution_count": 27,
   "metadata": {},
   "outputs": [
    {
     "data": {
      "text/plain": [
       "12"
      ]
     },
     "execution_count": 27,
     "metadata": {},
     "output_type": "execute_result"
    }
   ],
   "source": [
    "tempArr2.size"
   ]
  },
  {
   "cell_type": "code",
   "execution_count": 36,
   "metadata": {},
   "outputs": [
    {
     "data": {
      "text/plain": [
       "array([[5, 6, 7, 8]])"
      ]
     },
     "execution_count": 36,
     "metadata": {},
     "output_type": "execute_result"
    }
   ],
   "source": [
    "tempArr2[1,2] #[행 인덱스, 열 인덱스]"
   ]
  },
  {
   "cell_type": "code",
   "execution_count": 43,
   "metadata": {},
   "outputs": [
    {
     "data": {
      "text/plain": [
       "array([ 9, 10, 11, 12])"
      ]
     },
     "execution_count": 43,
     "metadata": {},
     "output_type": "execute_result"
    }
   ],
   "source": [
    "# 3행 요소의 값을 추출\n",
    "tempArr2[2, :] # tempArr2[행범위, 열범위] → [(행)시작인덱스:종료인덱스 , (열)시작인덱스:종료인덱스]"
   ]
  },
  {
   "cell_type": "code",
   "execution_count": 45,
   "metadata": {},
   "outputs": [
    {
     "data": {
      "text/plain": [
       "array([ 4,  8, 12])"
      ]
     },
     "execution_count": 45,
     "metadata": {},
     "output_type": "execute_result"
    }
   ],
   "source": [
    "# 4열 요소의 값을 추출\n",
    "tempArr2[:, 3]"
   ]
  },
  {
   "cell_type": "code",
   "execution_count": 48,
   "metadata": {},
   "outputs": [
    {
     "data": {
      "text/plain": [
       "array([[ 5,  6],\n",
       "       [ 9, 10]])"
      ]
     },
     "execution_count": 48,
     "metadata": {},
     "output_type": "execute_result"
    }
   ],
   "source": [
    "tempArr2[1:3, 0:2]"
   ]
  },
  {
   "cell_type": "code",
   "execution_count": 50,
   "metadata": {},
   "outputs": [
    {
     "data": {
      "text/plain": [
       "array([[3, 4],\n",
       "       [7, 8]])"
      ]
     },
     "execution_count": 50,
     "metadata": {},
     "output_type": "execute_result"
    }
   ],
   "source": [
    "tempArr2[0:2, 2:]"
   ]
  },
  {
   "cell_type": "markdown",
   "metadata": {},
   "source": [
    "# Array boolean 인덱싱(마스크)"
   ]
  },
  {
   "cell_type": "code",
   "execution_count": 4,
   "metadata": {},
   "outputs": [],
   "source": [
    "import numpy as np"
   ]
  },
  {
   "cell_type": "code",
   "execution_count": 15,
   "metadata": {},
   "outputs": [
    {
     "data": {
      "text/plain": [
       "array(['Beomwoo', 'Beomwoo', 'Kim', 'Joan', 'Lee', 'Beomwoo', 'Park',\n",
       "       'Beomwoo'], dtype='<U7')"
      ]
     },
     "execution_count": 15,
     "metadata": {},
     "output_type": "execute_result"
    }
   ],
   "source": [
    "names = np.array(['Beomwoo', 'Beomwoo', 'Kim', 'Joan', 'Lee', 'Beomwoo', 'Park', 'Beomwoo'])\n",
    "names"
   ]
  },
  {
   "cell_type": "code",
   "execution_count": 6,
   "metadata": {},
   "outputs": [
    {
     "data": {
      "text/plain": [
       "(8,)"
      ]
     },
     "execution_count": 6,
     "metadata": {},
     "output_type": "execute_result"
    }
   ],
   "source": [
    "names.shape"
   ]
  },
  {
   "cell_type": "code",
   "execution_count": 7,
   "metadata": {},
   "outputs": [
    {
     "data": {
      "text/plain": [
       "1"
      ]
     },
     "execution_count": 7,
     "metadata": {},
     "output_type": "execute_result"
    }
   ],
   "source": [
    "names.ndim"
   ]
  },
  {
   "cell_type": "code",
   "execution_count": 8,
   "metadata": {},
   "outputs": [
    {
     "data": {
      "text/plain": [
       "8"
      ]
     },
     "execution_count": 8,
     "metadata": {},
     "output_type": "execute_result"
    }
   ],
   "source": [
    "names.size"
   ]
  },
  {
   "cell_type": "code",
   "execution_count": 9,
   "metadata": {},
   "outputs": [
    {
     "data": {
      "text/plain": [
       "dtype('<U8')"
      ]
     },
     "execution_count": 9,
     "metadata": {},
     "output_type": "execute_result"
    }
   ],
   "source": [
    "names.dtype"
   ]
  },
  {
   "cell_type": "code",
   "execution_count": 11,
   "metadata": {},
   "outputs": [
    {
     "data": {
      "text/plain": [
       "array([[ 0.18022751, -2.03730243, -0.95623842,  0.76627266],\n",
       "       [ 1.22016795, -1.10706712,  0.14567852,  1.25607042],\n",
       "       [-0.17875859, -0.14779166, -0.28296069, -0.95131269],\n",
       "       [ 2.71759675, -0.39016564, -0.90424889, -1.61769749],\n",
       "       [-0.28483957,  0.36710196,  1.60831984,  1.34197303],\n",
       "       [ 1.05398858,  1.04223957,  1.12742135,  1.51390078],\n",
       "       [-0.3776159 ,  0.20796033, -1.06101978,  0.69703253],\n",
       "       [-0.61175559, -0.58188118,  0.77997181, -1.11661521]])"
      ]
     },
     "execution_count": 11,
     "metadata": {},
     "output_type": "execute_result"
    }
   ],
   "source": [
    "data = np.random.randn(8, 4)\n",
    "data"
   ]
  },
  {
   "cell_type": "code",
   "execution_count": 12,
   "metadata": {},
   "outputs": [
    {
     "data": {
      "text/plain": [
       "(8, 4)"
      ]
     },
     "execution_count": 12,
     "metadata": {},
     "output_type": "execute_result"
    }
   ],
   "source": [
    "data.shape"
   ]
  },
  {
   "cell_type": "code",
   "execution_count": 17,
   "metadata": {},
   "outputs": [
    {
     "data": {
      "text/plain": [
       "array(['Beomwoo', 'Beomwoo', 'Kim', 'Joan', 'Lee', 'Beomwoo', 'Park',\n",
       "       'Beomwoo'], dtype='<U7')"
      ]
     },
     "execution_count": 17,
     "metadata": {},
     "output_type": "execute_result"
    }
   ],
   "source": [
    "names"
   ]
  },
  {
   "cell_type": "code",
   "execution_count": 18,
   "metadata": {},
   "outputs": [
    {
     "data": {
      "text/plain": [
       "array([ True,  True, False, False, False,  True, False,  True])"
      ]
     },
     "execution_count": 18,
     "metadata": {},
     "output_type": "execute_result"
    }
   ],
   "source": [
    "names_Beomwoo_mask = (names == 'Beomwoo')\n",
    "names_Beomwoo_mask"
   ]
  },
  {
   "cell_type": "code",
   "execution_count": 19,
   "metadata": {},
   "outputs": [
    {
     "data": {
      "text/plain": [
       "array([[ 0.18022751, -2.03730243, -0.95623842,  0.76627266],\n",
       "       [ 1.22016795, -1.10706712,  0.14567852,  1.25607042],\n",
       "       [-0.17875859, -0.14779166, -0.28296069, -0.95131269],\n",
       "       [ 2.71759675, -0.39016564, -0.90424889, -1.61769749],\n",
       "       [-0.28483957,  0.36710196,  1.60831984,  1.34197303],\n",
       "       [ 1.05398858,  1.04223957,  1.12742135,  1.51390078],\n",
       "       [-0.3776159 ,  0.20796033, -1.06101978,  0.69703253],\n",
       "       [-0.61175559, -0.58188118,  0.77997181, -1.11661521]])"
      ]
     },
     "execution_count": 19,
     "metadata": {},
     "output_type": "execute_result"
    }
   ],
   "source": [
    "data"
   ]
  },
  {
   "cell_type": "code",
   "execution_count": 23,
   "metadata": {},
   "outputs": [
    {
     "data": {
      "text/plain": [
       "[array([False, False,  True, False, False, False, False, False])]"
      ]
     },
     "execution_count": 23,
     "metadata": {},
     "output_type": "execute_result"
    }
   ],
   "source": [
    "temp = [names == 'Kim']\n",
    "temp"
   ]
  },
  {
   "cell_type": "code",
   "execution_count": 24,
   "metadata": {},
   "outputs": [
    {
     "data": {
      "text/plain": [
       "array([[-0.17875859, -0.14779166, -0.28296069, -0.95131269]])"
      ]
     },
     "execution_count": 24,
     "metadata": {},
     "output_type": "execute_result"
    }
   ],
   "source": [
    "data[names == 'Kim'] # 위의 논리형 배열의 값을 data배열에 인덱스로 사용하는 문법"
   ]
  },
  {
   "cell_type": "code",
   "execution_count": 25,
   "metadata": {},
   "outputs": [
    {
     "data": {
      "text/plain": [
       "array(['Beomwoo', 'Beomwoo', 'Kim', 'Joan', 'Lee', 'Beomwoo', 'Park',\n",
       "       'Beomwoo'], dtype='<U7')"
      ]
     },
     "execution_count": 25,
     "metadata": {},
     "output_type": "execute_result"
    }
   ],
   "source": [
    "names"
   ]
  },
  {
   "cell_type": "code",
   "execution_count": 28,
   "metadata": {},
   "outputs": [
    {
     "data": {
      "text/plain": [
       "[array([False, False,  True, False, False, False,  True, False])]"
      ]
     },
     "execution_count": 28,
     "metadata": {},
     "output_type": "execute_result"
    }
   ],
   "source": [
    "tempNames = [(names == 'Kim') | (names == 'Park')]\n",
    "tempNames"
   ]
  },
  {
   "cell_type": "code",
   "execution_count": 29,
   "metadata": {},
   "outputs": [
    {
     "data": {
      "text/plain": [
       "list"
      ]
     },
     "execution_count": 29,
     "metadata": {},
     "output_type": "execute_result"
    }
   ],
   "source": [
    "type(tempNames)"
   ]
  },
  {
   "cell_type": "code",
   "execution_count": 30,
   "metadata": {},
   "outputs": [
    {
     "data": {
      "text/plain": [
       "array([[-0.17875859, -0.14779166, -0.28296069, -0.95131269],\n",
       "       [-0.3776159 ,  0.20796033, -1.06101978,  0.69703253]])"
      ]
     },
     "execution_count": 30,
     "metadata": {},
     "output_type": "execute_result"
    }
   ],
   "source": [
    "data[(names == 'Kim') | (names == 'Park')]"
   ]
  },
  {
   "cell_type": "code",
   "execution_count": 31,
   "metadata": {},
   "outputs": [
    {
     "data": {
      "text/plain": [
       "array([[ 0.18022751, -2.03730243, -0.95623842,  0.76627266],\n",
       "       [ 1.22016795, -1.10706712,  0.14567852,  1.25607042],\n",
       "       [-0.17875859, -0.14779166, -0.28296069, -0.95131269],\n",
       "       [ 2.71759675, -0.39016564, -0.90424889, -1.61769749],\n",
       "       [-0.28483957,  0.36710196,  1.60831984,  1.34197303],\n",
       "       [ 1.05398858,  1.04223957,  1.12742135,  1.51390078],\n",
       "       [-0.3776159 ,  0.20796033, -1.06101978,  0.69703253],\n",
       "       [-0.61175559, -0.58188118,  0.77997181, -1.11661521]])"
      ]
     },
     "execution_count": 31,
     "metadata": {},
     "output_type": "execute_result"
    }
   ],
   "source": [
    "data"
   ]
  },
  {
   "cell_type": "code",
   "execution_count": 33,
   "metadata": {},
   "outputs": [
    {
     "data": {
      "text/plain": [
       "array([ 0.18022751,  1.22016795, -0.17875859,  2.71759675, -0.28483957,\n",
       "        1.05398858, -0.3776159 , -0.61175559])"
      ]
     },
     "execution_count": 33,
     "metadata": {},
     "output_type": "execute_result"
    }
   ],
   "source": [
    "data[:, 0] # 1열의 모든 데이터"
   ]
  },
  {
   "cell_type": "code",
   "execution_count": 37,
   "metadata": {},
   "outputs": [
    {
     "data": {
      "text/plain": [
       "array([False, False,  True, False,  True, False,  True,  True])"
      ]
     },
     "execution_count": 37,
     "metadata": {},
     "output_type": "execute_result"
    }
   ],
   "source": [
    "data[:, 0] < 0 # 1열의 모든 데이터가 0보다 작은 정보를 구하라."
   ]
  },
  {
   "cell_type": "code",
   "execution_count": 40,
   "metadata": {},
   "outputs": [
    {
     "data": {
      "text/plain": [
       "array([[-0.17875859, -0.14779166, -0.28296069, -0.95131269],\n",
       "       [-0.28483957,  0.36710196,  1.60831984,  1.34197303],\n",
       "       [-0.3776159 ,  0.20796033, -1.06101978,  0.69703253],\n",
       "       [-0.61175559, -0.58188118,  0.77997181, -1.11661521]])"
      ]
     },
     "execution_count": 40,
     "metadata": {},
     "output_type": "execute_result"
    }
   ],
   "source": [
    "data[data[:, 0] < 0, :]"
   ]
  },
  {
   "cell_type": "code",
   "execution_count": 41,
   "metadata": {},
   "outputs": [
    {
     "data": {
      "text/plain": [
       "array([[-0.28296069, -0.95131269],\n",
       "       [ 1.60831984,  1.34197303],\n",
       "       [-1.06101978,  0.69703253],\n",
       "       [ 0.77997181, -1.11661521]])"
      ]
     },
     "execution_count": 41,
     "metadata": {},
     "output_type": "execute_result"
    }
   ],
   "source": [
    "data[data[:, 0] < 0, 2:4]"
   ]
  },
  {
   "cell_type": "code",
   "execution_count": 43,
   "metadata": {},
   "outputs": [
    {
     "data": {
      "text/plain": [
       "array([[ 0.18022751, -2.03730243, -0.95623842,  0.76627266],\n",
       "       [ 1.22016795, -1.10706712,  0.14567852,  1.25607042],\n",
       "       [-0.17875859, -0.14779166,  0.        ,  0.        ],\n",
       "       [ 2.71759675, -0.39016564, -0.90424889, -1.61769749],\n",
       "       [-0.28483957,  0.36710196,  0.        ,  0.        ],\n",
       "       [ 1.05398858,  1.04223957,  1.12742135,  1.51390078],\n",
       "       [-0.3776159 ,  0.20796033,  0.        ,  0.        ],\n",
       "       [-0.61175559, -0.58188118,  0.        ,  0.        ]])"
      ]
     },
     "execution_count": 43,
     "metadata": {},
     "output_type": "execute_result"
    }
   ],
   "source": [
    "data[data[:, 0] < 0, 2:4] = 0\n",
    "data"
   ]
  },
  {
   "cell_type": "code",
   "execution_count": 45,
   "metadata": {},
   "outputs": [
    {
     "data": {
      "text/plain": [
       "array([[ 0.38327312, -1.33749695,  0.46440675],\n",
       "       [ 1.17332266,  0.89059328, -1.04326296],\n",
       "       [ 1.17853675,  0.15978423,  1.18063525],\n",
       "       [ 0.45982582, -0.13337599, -0.91525426],\n",
       "       [-0.93225402, -1.07027563,  1.67813491]])"
      ]
     },
     "execution_count": 45,
     "metadata": {},
     "output_type": "execute_result"
    }
   ],
   "source": [
    "arr1 = np.random.randn(5, 3) # 정규분포\n",
    "arr1"
   ]
  },
  {
   "cell_type": "code",
   "execution_count": 46,
   "metadata": {},
   "outputs": [
    {
     "data": {
      "text/plain": [
       "array([[0.38327312, 1.33749695, 0.46440675],\n",
       "       [1.17332266, 0.89059328, 1.04326296],\n",
       "       [1.17853675, 0.15978423, 1.18063525],\n",
       "       [0.45982582, 0.13337599, 0.91525426],\n",
       "       [0.93225402, 1.07027563, 1.67813491]])"
      ]
     },
     "execution_count": 46,
     "metadata": {},
     "output_type": "execute_result"
    }
   ],
   "source": [
    "np.abs(arr1) # 절대값 반환"
   ]
  },
  {
   "cell_type": "code",
   "execution_count": 47,
   "metadata": {},
   "outputs": [
    {
     "name": "stderr",
     "output_type": "stream",
     "text": [
      "<ipython-input-47-31bdbbe4b4c3>:1: RuntimeWarning: invalid value encountered in sqrt\n",
      "  np.sqrt(arr1)\n"
     ]
    },
    {
     "data": {
      "text/plain": [
       "array([[0.61909056,        nan, 0.68147395],\n",
       "       [1.08320019, 0.9437125 ,        nan],\n",
       "       [1.08560433, 0.3997302 , 1.08657041],\n",
       "       [0.67810458,        nan,        nan],\n",
       "       [       nan,        nan, 1.29542847]])"
      ]
     },
     "execution_count": 47,
     "metadata": {},
     "output_type": "execute_result"
    }
   ],
   "source": [
    "np.sqrt(arr1) # 요소의 제곱근 계산하기 (arr1 ** 05.)"
   ]
  },
  {
   "cell_type": "code",
   "execution_count": 48,
   "metadata": {},
   "outputs": [
    {
     "data": {
      "text/plain": [
       "array([[0.14689829, 1.78889808, 0.21567363],\n",
       "       [1.37668606, 0.79315638, 1.08839761],\n",
       "       [1.38894888, 0.025531  , 1.3938996 ],\n",
       "       [0.21143979, 0.01778915, 0.83769036],\n",
       "       [0.86909756, 1.14548993, 2.81613678]])"
      ]
     },
     "execution_count": 48,
     "metadata": {},
     "output_type": "execute_result"
    }
   ],
   "source": [
    "np.square(arr1) # 요소의 제곱 계산하기"
   ]
  },
  {
   "cell_type": "code",
   "execution_count": 49,
   "metadata": {},
   "outputs": [
    {
     "data": {
      "text/plain": [
       "array([[ 1., -1.,  1.],\n",
       "       [ 1.,  1., -1.],\n",
       "       [ 1.,  1.,  1.],\n",
       "       [ 1., -1., -1.],\n",
       "       [-1., -1.,  1.]])"
      ]
     },
     "execution_count": 49,
     "metadata": {},
     "output_type": "execute_result"
    }
   ],
   "source": [
    "np.sign(arr1) # 각 요소 값의 부호 확인(1 → +, -1 → -, 0 → 0)"
   ]
  },
  {
   "cell_type": "code",
   "execution_count": 50,
   "metadata": {},
   "outputs": [
    {
     "data": {
      "text/plain": [
       "array([[ 1., -1.,  1.],\n",
       "       [ 2.,  1., -1.],\n",
       "       [ 2.,  1.,  2.],\n",
       "       [ 1., -0., -0.],\n",
       "       [-0., -1.,  2.]])"
      ]
     },
     "execution_count": 50,
     "metadata": {},
     "output_type": "execute_result"
    }
   ],
   "source": [
    "np.ceil(arr1) # 요소의 값을 소수점 첫번 째 기준해서 무조건 올림 기능"
   ]
  },
  {
   "cell_type": "code",
   "execution_count": 51,
   "metadata": {},
   "outputs": [
    {
     "data": {
      "text/plain": [
       "array([[ 0., -2.,  0.],\n",
       "       [ 1.,  0., -2.],\n",
       "       [ 1.,  0.,  1.],\n",
       "       [ 0., -1., -1.],\n",
       "       [-1., -2.,  1.]])"
      ]
     },
     "execution_count": 51,
     "metadata": {},
     "output_type": "execute_result"
    }
   ],
   "source": [
    "np.floor(arr1) # 요소의 값을 소수점 첫번 째 기준해서 무조건 내림 기능"
   ]
  },
  {
   "cell_type": "code",
   "execution_count": 52,
   "metadata": {},
   "outputs": [
    {
     "data": {
      "text/plain": [
       "array([[False, False, False],\n",
       "       [False, False, False],\n",
       "       [False, False, False],\n",
       "       [False, False, False],\n",
       "       [False, False, False]])"
      ]
     },
     "execution_count": 52,
     "metadata": {},
     "output_type": "execute_result"
    }
   ],
   "source": [
    "np.isnan(arr1) # 요소가 NaN인 경우를 논리형으로 반환함(True → 숫자가 아님, False → 숫자임)"
   ]
  },
  {
   "cell_type": "markdown",
   "metadata": {},
   "source": [
    "### 배열의 연산. +, -, *, /"
   ]
  },
  {
   "cell_type": "code",
   "execution_count": 55,
   "metadata": {},
   "outputs": [],
   "source": [
    "arr1 = np.array([1,2,3,4,5])\n",
    "arr2 = np.array([1,2,3,4,5])"
   ]
  },
  {
   "cell_type": "code",
   "execution_count": 56,
   "metadata": {},
   "outputs": [
    {
     "data": {
      "text/plain": [
       "array([ 2,  4,  6,  8, 10])"
      ]
     },
     "execution_count": 56,
     "metadata": {},
     "output_type": "execute_result"
    }
   ],
   "source": [
    "np.add(arr1, arr2)"
   ]
  },
  {
   "cell_type": "code",
   "execution_count": 57,
   "metadata": {},
   "outputs": [
    {
     "data": {
      "text/plain": [
       "array([ 2,  4,  6,  8, 10])"
      ]
     },
     "execution_count": 57,
     "metadata": {},
     "output_type": "execute_result"
    }
   ],
   "source": [
    "arr1 + arr2"
   ]
  },
  {
   "cell_type": "code",
   "execution_count": 58,
   "metadata": {},
   "outputs": [
    {
     "data": {
      "text/plain": [
       "array([0, 0, 0, 0, 0])"
      ]
     },
     "execution_count": 58,
     "metadata": {},
     "output_type": "execute_result"
    }
   ],
   "source": [
    "np.subtract(arr1, arr2)"
   ]
  },
  {
   "cell_type": "code",
   "execution_count": 59,
   "metadata": {},
   "outputs": [
    {
     "data": {
      "text/plain": [
       "array([0, 0, 0, 0, 0])"
      ]
     },
     "execution_count": 59,
     "metadata": {},
     "output_type": "execute_result"
    }
   ],
   "source": [
    "arr1 - arr2"
   ]
  },
  {
   "cell_type": "code",
   "execution_count": 60,
   "metadata": {},
   "outputs": [
    {
     "data": {
      "text/plain": [
       "array([ 1,  4,  9, 16, 25])"
      ]
     },
     "execution_count": 60,
     "metadata": {},
     "output_type": "execute_result"
    }
   ],
   "source": [
    "np.multiply(arr1, arr2)"
   ]
  },
  {
   "cell_type": "code",
   "execution_count": 61,
   "metadata": {},
   "outputs": [
    {
     "data": {
      "text/plain": [
       "array([ 1,  4,  9, 16, 25])"
      ]
     },
     "execution_count": 61,
     "metadata": {},
     "output_type": "execute_result"
    }
   ],
   "source": [
    "arr1 * arr2"
   ]
  },
  {
   "cell_type": "markdown",
   "metadata": {},
   "source": [
    "### 통계함수"
   ]
  },
  {
   "cell_type": "code",
   "execution_count": 65,
   "metadata": {},
   "outputs": [],
   "source": [
    "# 4*3의 2차원 구조 배열\n",
    "arr1 = np.array([\n",
    "    [1,2,3],\n",
    "    [4,5,6],\n",
    "    [7,8,9],\n",
    "    [10,11,12]\n",
    "])"
   ]
  },
  {
   "cell_type": "code",
   "execution_count": 66,
   "metadata": {},
   "outputs": [
    {
     "data": {
      "text/plain": [
       "78"
      ]
     },
     "execution_count": 66,
     "metadata": {},
     "output_type": "execute_result"
    }
   ],
   "source": [
    "# 전체 요소의 합계\n",
    "np.sum(arr1)"
   ]
  },
  {
   "cell_type": "code",
   "execution_count": 67,
   "metadata": {},
   "outputs": [
    {
     "data": {
      "text/plain": [
       "array([ 6, 15, 24, 33])"
      ]
     },
     "execution_count": 67,
     "metadata": {},
     "output_type": "execute_result"
    }
   ],
   "source": [
    "# 열 간의 합계\n",
    "np.sum(arr1, axis=1)"
   ]
  },
  {
   "cell_type": "code",
   "execution_count": 69,
   "metadata": {},
   "outputs": [
    {
     "data": {
      "text/plain": [
       "array([22, 26, 30])"
      ]
     },
     "execution_count": 69,
     "metadata": {},
     "output_type": "execute_result"
    }
   ],
   "source": [
    "# 행 간의 합계\n",
    "np.sum(arr1, axis=0)"
   ]
  },
  {
   "cell_type": "code",
   "execution_count": 70,
   "metadata": {},
   "outputs": [
    {
     "data": {
      "text/plain": [
       "array([ 2.,  5.,  8., 11.])"
      ]
     },
     "execution_count": 70,
     "metadata": {},
     "output_type": "execute_result"
    }
   ],
   "source": [
    "# 열 기준의 평균\n",
    "np.mean(arr1, axis=1)"
   ]
  },
  {
   "cell_type": "code",
   "execution_count": 71,
   "metadata": {},
   "outputs": [
    {
     "data": {
      "text/plain": [
       "array([5.5, 6.5, 7.5])"
      ]
     },
     "execution_count": 71,
     "metadata": {},
     "output_type": "execute_result"
    }
   ],
   "source": [
    "# 행 기준의 평균\n",
    "np.mean(arr1, axis=0)"
   ]
  },
  {
   "cell_type": "code",
   "execution_count": 72,
   "metadata": {},
   "outputs": [
    {
     "data": {
      "text/plain": [
       "1"
      ]
     },
     "execution_count": 72,
     "metadata": {},
     "output_type": "execute_result"
    }
   ],
   "source": [
    "# 최소값, 최대값, 표준편차, 분산\n",
    "np.min(arr1)"
   ]
  },
  {
   "cell_type": "code",
   "execution_count": 73,
   "metadata": {},
   "outputs": [
    {
     "data": {
      "text/plain": [
       "12"
      ]
     },
     "execution_count": 73,
     "metadata": {},
     "output_type": "execute_result"
    }
   ],
   "source": [
    "np.max(arr1)"
   ]
  },
  {
   "cell_type": "code",
   "execution_count": 74,
   "metadata": {},
   "outputs": [
    {
     "data": {
      "text/plain": [
       "array([ 1,  4,  7, 10])"
      ]
     },
     "execution_count": 74,
     "metadata": {},
     "output_type": "execute_result"
    }
   ],
   "source": [
    "np.min(arr1, axis=1)"
   ]
  },
  {
   "cell_type": "code",
   "execution_count": 75,
   "metadata": {},
   "outputs": [
    {
     "data": {
      "text/plain": [
       "array([ 3,  6,  9, 12])"
      ]
     },
     "execution_count": 75,
     "metadata": {},
     "output_type": "execute_result"
    }
   ],
   "source": [
    "np.max(arr1, axis=1)"
   ]
  },
  {
   "cell_type": "code",
   "execution_count": 76,
   "metadata": {},
   "outputs": [
    {
     "data": {
      "text/plain": [
       "array([1, 2, 3])"
      ]
     },
     "execution_count": 76,
     "metadata": {},
     "output_type": "execute_result"
    }
   ],
   "source": [
    "np.min(arr1, axis=0)"
   ]
  },
  {
   "cell_type": "code",
   "execution_count": 77,
   "metadata": {},
   "outputs": [
    {
     "data": {
      "text/plain": [
       "3.452052529534663"
      ]
     },
     "execution_count": 77,
     "metadata": {},
     "output_type": "execute_result"
    }
   ],
   "source": [
    "np.std(arr1)"
   ]
  },
  {
   "cell_type": "markdown",
   "metadata": {},
   "source": [
    "### 기타함수"
   ]
  },
  {
   "cell_type": "code",
   "execution_count": 78,
   "metadata": {},
   "outputs": [
    {
     "data": {
      "text/plain": [
       "array([[-0.27888491, -0.53148947, -0.62611028],\n",
       "       [ 0.98851305,  0.7129356 , -1.43157918],\n",
       "       [ 0.62169185, -0.81958544,  0.56768952],\n",
       "       [ 0.10968147,  0.47466148, -0.16859217],\n",
       "       [ 1.08554391,  0.50688615,  0.43958414]])"
      ]
     },
     "execution_count": 78,
     "metadata": {},
     "output_type": "execute_result"
    }
   ],
   "source": [
    "arr1 = np.random.randn(5, 3) # 정규분포\n",
    "arr1"
   ]
  },
  {
   "cell_type": "code",
   "execution_count": 79,
   "metadata": {},
   "outputs": [
    {
     "data": {
      "text/plain": [
       "array([[-0.62611028, -0.53148947, -0.27888491],\n",
       "       [-1.43157918,  0.7129356 ,  0.98851305],\n",
       "       [-0.81958544,  0.56768952,  0.62169185],\n",
       "       [-0.16859217,  0.10968147,  0.47466148],\n",
       "       [ 0.43958414,  0.50688615,  1.08554391]])"
      ]
     },
     "execution_count": 79,
     "metadata": {},
     "output_type": "execute_result"
    }
   ],
   "source": [
    "# 전체 요소에 대하여 오름차순 정렬\n",
    "np.sort(arr1)"
   ]
  },
  {
   "cell_type": "code",
   "execution_count": 80,
   "metadata": {},
   "outputs": [
    {
     "data": {
      "text/plain": [
       "array([[ 0.43958414,  0.50688615,  1.08554391],\n",
       "       [-0.16859217,  0.10968147,  0.47466148],\n",
       "       [-0.81958544,  0.56768952,  0.62169185],\n",
       "       [-1.43157918,  0.7129356 ,  0.98851305],\n",
       "       [-0.62611028, -0.53148947, -0.27888491]])"
      ]
     },
     "execution_count": 80,
     "metadata": {},
     "output_type": "execute_result"
    }
   ],
   "source": [
    "# 내림차순 정렬\n",
    "np.sort(arr1)[::-1]"
   ]
  },
  {
   "cell_type": "code",
   "execution_count": 81,
   "metadata": {},
   "outputs": [
    {
     "data": {
      "text/plain": [
       "array([[-0.27888491, -0.81958544, -1.43157918],\n",
       "       [ 0.10968147, -0.53148947, -0.62611028],\n",
       "       [ 0.62169185,  0.47466148, -0.16859217],\n",
       "       [ 0.98851305,  0.50688615,  0.43958414],\n",
       "       [ 1.08554391,  0.7129356 ,  0.56768952]])"
      ]
     },
     "execution_count": 81,
     "metadata": {},
     "output_type": "execute_result"
    }
   ],
   "source": [
    "np.sort(arr1, axis=0) # 행 방향으로 오름차순 정렬"
   ]
  }
 ],
 "metadata": {
  "kernelspec": {
   "display_name": "Python 3",
   "language": "python",
   "name": "python3"
  },
  "language_info": {
   "codemirror_mode": {
    "name": "ipython",
    "version": 3
   },
   "file_extension": ".py",
   "mimetype": "text/x-python",
   "name": "python",
   "nbconvert_exporter": "python",
   "pygments_lexer": "ipython3",
   "version": "3.8.3"
  }
 },
 "nbformat": 4,
 "nbformat_minor": 4
}
