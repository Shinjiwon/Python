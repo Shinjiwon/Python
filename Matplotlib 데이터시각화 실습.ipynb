{
 "cells": [
  {
   "cell_type": "code",
   "execution_count": 1,
   "metadata": {},
   "outputs": [],
   "source": [
    "# 데이터 시각화 라이브러리는 종류가 많다.\n",
    "# Matplotlib: Numpy, Pandas의 데이터구조를 시각화하는 작업이 편한 특징을 갖고있다.\n",
    "\n",
    "import matplotlib\n",
    "import matplotlib.pyplot as plt"
   ]
  },
  {
   "cell_type": "code",
   "execution_count": 2,
   "metadata": {},
   "outputs": [],
   "source": [
    "# magic command: jupyter notebook에서 사용하는 명령어\n",
    "%magic # magic command의 모든 명령어를 볼 수 있다."
   ]
  },
  {
   "cell_type": "code",
   "execution_count": 3,
   "metadata": {},
   "outputs": [
    {
     "name": "stderr",
     "output_type": "stream",
     "text": [
      "UsageError: unrecognized arguments: # jupyter notebook에서 데이터시각화 작업 시 이 명령어를 사용하여, 자동으로 차트를 그려준다.\n"
     ]
    }
   ],
   "source": [
    "%matplotlib inline # jupyter notebook에서 데이터시각화 작업 시 이 명령어를 사용하여, 자동으로 차트를 그려준다."
   ]
  },
  {
   "cell_type": "code",
   "execution_count": 4,
   "metadata": {},
   "outputs": [],
   "source": [
    "import numpy as np\n",
    "import pandas as pd"
   ]
  },
  {
   "cell_type": "markdown",
   "metadata": {},
   "source": [
    "### Plot의 종류\n",
    "#### Line plot 그리기"
   ]
  },
  {
   "cell_type": "code",
   "execution_count": 5,
   "metadata": {},
   "outputs": [
    {
     "data": {
      "text/plain": [
       "0     0.133354\n",
       "10    0.285507\n",
       "20    0.467504\n",
       "30    1.317894\n",
       "40    1.493903\n",
       "50    1.970964\n",
       "60    2.341739\n",
       "70    2.535015\n",
       "80    3.355508\n",
       "90    3.811483\n",
       "dtype: float64"
      ]
     },
     "execution_count": 5,
     "metadata": {},
     "output_type": "execute_result"
    }
   ],
   "source": [
    "# Series데이터를 통한 line plot 그리기\n",
    "s = pd.Series(np.random.rand(10).cumsum(), index=np.arange(0, 100, 10)) # cumsum(): 각 요소의 합을 순차적으로 누적\n",
    "s"
   ]
  },
  {
   "cell_type": "code",
   "execution_count": 6,
   "metadata": {},
   "outputs": [
    {
     "data": {
      "text/plain": [
       "<matplotlib.axes._subplots.AxesSubplot at 0x1f604c6c190>"
      ]
     },
     "execution_count": 6,
     "metadata": {},
     "output_type": "execute_result"
    },
    {
     "data": {
      "image/png": "[encoded data removed]",
      "text/plain": [
       "<Figure size 432x288 with 1 Axes>"
      ]
     },
     "metadata": {
      "needs_background": "light"
     },
     "output_type": "display_data"
    }
   ],
   "source": [
    "# Pandas에서 데이터시각화 작업이 가능하다. (내부적으로 matplotlib 라이브러리를 참조한다.)\n",
    "\n",
    "s.plot()"
   ]
  },
  {
   "cell_type": "code",
   "execution_count": 7,
   "metadata": {},
   "outputs": [
    {
     "data": {
      "text/html": [
       "<div>\n",
       "<style scoped>\n",
       "    .dataframe tbody tr th:only-of-type {\n",
       "        vertical-align: middle;\n",
       "    }\n",
       "\n",
       "    .dataframe tbody tr th {\n",
       "        vertical-align: top;\n",
       "    }\n",
       "\n",
       "    .dataframe thead th {\n",
       "        text-align: right;\n",
       "    }\n",
       "</style>\n",
       "<table border=\"1\" class=\"dataframe\">\n",
       "  <thead>\n",
       "    <tr style=\"text-align: right;\">\n",
       "      <th></th>\n",
       "      <th>A</th>\n",
       "      <th>B</th>\n",
       "      <th>C</th>\n",
       "      <th>D</th>\n",
       "    </tr>\n",
       "  </thead>\n",
       "  <tbody>\n",
       "    <tr>\n",
       "      <th>0</th>\n",
       "      <td>0.858932</td>\n",
       "      <td>0.682992</td>\n",
       "      <td>0.260971</td>\n",
       "      <td>0.767042</td>\n",
       "    </tr>\n",
       "    <tr>\n",
       "      <th>10</th>\n",
       "      <td>0.870160</td>\n",
       "      <td>1.596861</td>\n",
       "      <td>0.567736</td>\n",
       "      <td>1.073807</td>\n",
       "    </tr>\n",
       "    <tr>\n",
       "      <th>20</th>\n",
       "      <td>1.628109</td>\n",
       "      <td>2.310907</td>\n",
       "      <td>0.597910</td>\n",
       "      <td>1.330598</td>\n",
       "    </tr>\n",
       "    <tr>\n",
       "      <th>30</th>\n",
       "      <td>2.131285</td>\n",
       "      <td>3.199717</td>\n",
       "      <td>0.842705</td>\n",
       "      <td>1.870209</td>\n",
       "    </tr>\n",
       "    <tr>\n",
       "      <th>40</th>\n",
       "      <td>2.311610</td>\n",
       "      <td>3.666119</td>\n",
       "      <td>1.054145</td>\n",
       "      <td>2.126748</td>\n",
       "    </tr>\n",
       "    <tr>\n",
       "      <th>50</th>\n",
       "      <td>2.755737</td>\n",
       "      <td>4.416254</td>\n",
       "      <td>1.994983</td>\n",
       "      <td>2.722837</td>\n",
       "    </tr>\n",
       "    <tr>\n",
       "      <th>60</th>\n",
       "      <td>3.751506</td>\n",
       "      <td>4.448446</td>\n",
       "      <td>2.444384</td>\n",
       "      <td>3.235291</td>\n",
       "    </tr>\n",
       "    <tr>\n",
       "      <th>70</th>\n",
       "      <td>4.148960</td>\n",
       "      <td>4.851974</td>\n",
       "      <td>3.157695</td>\n",
       "      <td>3.619304</td>\n",
       "    </tr>\n",
       "    <tr>\n",
       "      <th>80</th>\n",
       "      <td>4.762396</td>\n",
       "      <td>5.274475</td>\n",
       "      <td>3.318283</td>\n",
       "      <td>3.846711</td>\n",
       "    </tr>\n",
       "    <tr>\n",
       "      <th>90</th>\n",
       "      <td>4.815963</td>\n",
       "      <td>6.023863</td>\n",
       "      <td>4.279289</td>\n",
       "      <td>4.135524</td>\n",
       "    </tr>\n",
       "  </tbody>\n",
       "</table>\n",
       "</div>"
      ],
      "text/plain": [
       "           A         B         C         D\n",
       "0   0.858932  0.682992  0.260971  0.767042\n",
       "10  0.870160  1.596861  0.567736  1.073807\n",
       "20  1.628109  2.310907  0.597910  1.330598\n",
       "30  2.131285  3.199717  0.842705  1.870209\n",
       "40  2.311610  3.666119  1.054145  2.126748\n",
       "50  2.755737  4.416254  1.994983  2.722837\n",
       "60  3.751506  4.448446  2.444384  3.235291\n",
       "70  4.148960  4.851974  3.157695  3.619304\n",
       "80  4.762396  5.274475  3.318283  3.846711\n",
       "90  4.815963  6.023863  4.279289  4.135524"
      ]
     },
     "execution_count": 7,
     "metadata": {},
     "output_type": "execute_result"
    }
   ],
   "source": [
    "# DataFrame을 통한 line plot 그리기\n",
    "\n",
    "df = pd.DataFrame(np.random.rand(10, 4).cumsum(axis=0),\n",
    "                 columns=[\"A\", \"B\", \"C\", \"D\"],\n",
    "                 index=np.arange(0, 100, 10)\n",
    "                 )\n",
    "df"
   ]
  },
  {
   "cell_type": "code",
   "execution_count": 8,
   "metadata": {},
   "outputs": [
    {
     "data": {
      "text/plain": [
       "<matplotlib.axes._subplots.AxesSubplot at 0x1f6053b7880>"
      ]
     },
     "execution_count": 8,
     "metadata": {},
     "output_type": "execute_result"
    },
    {
     "data": {
      "image/png": "[encoded data removed]",
      "text/plain": [
       "<Figure size 432x288 with 1 Axes>"
      ]
     },
     "metadata": {
      "needs_background": "light"
     },
     "output_type": "display_data"
    }
   ],
   "source": [
    "df.plot()"
   ]
  },
  {
   "cell_type": "code",
   "execution_count": 9,
   "metadata": {},
   "outputs": [
    {
     "data": {
      "text/plain": [
       "<matplotlib.axes._subplots.AxesSubplot at 0x1f605469e50>"
      ]
     },
     "execution_count": 9,
     "metadata": {},
     "output_type": "execute_result"
    },
    {
     "data": {
      "image/png": "[encoded data removed]",
      "text/plain": [
       "<Figure size 432x288 with 1 Axes>"
      ]
     },
     "metadata": {
      "needs_background": "light"
     },
     "output_type": "display_data"
    }
   ],
   "source": [
    "# 데이터프레임의 열을 참조하여 작업이 가능하다.\n",
    "df[\"D\"].plot()"
   ]
  },
  {
   "cell_type": "markdown",
   "metadata": {},
   "source": [
    "#### Bar plot 그리기"
   ]
  },
  {
   "cell_type": "code",
   "execution_count": 32,
   "metadata": {},
   "outputs": [
    {
     "data": {
      "text/plain": [
       "a    0.982222\n",
       "b    0.282073\n",
       "c    0.156043\n",
       "d    0.746929\n",
       "e    0.569818\n",
       "f    0.370536\n",
       "g    0.927026\n",
       "h    0.605726\n",
       "i    0.478385\n",
       "j    0.720389\n",
       "k    0.649920\n",
       "l    0.083289\n",
       "m    0.559231\n",
       "n    0.498318\n",
       "o    0.906678\n",
       "p    0.526126\n",
       "dtype: float64"
      ]
     },
     "execution_count": 32,
     "metadata": {},
     "output_type": "execute_result"
    }
   ],
   "source": [
    "s2 = pd.Series(np.random.rand(16), index=list(\"abcdefghijklmnop\"))\n",
    "s2"
   ]
  },
  {
   "cell_type": "code",
   "execution_count": 33,
   "metadata": {},
   "outputs": [
    {
     "data": {
      "text/plain": [
       "<matplotlib.axes._subplots.AxesSubplot at 0x1f65d187f40>"
      ]
     },
     "execution_count": 33,
     "metadata": {},
     "output_type": "execute_result"
    },
    {
     "data": {
      "image/png": "[encoded data removed]",
      "text/plain": [
       "<Figure size 432x288 with 1 Axes>"
      ]
     },
     "metadata": {
      "needs_background": "light"
     },
     "output_type": "display_data"
    }
   ],
   "source": [
    "s2.plot()"
   ]
  },
  {
   "cell_type": "code",
   "execution_count": 34,
   "metadata": {},
   "outputs": [
    {
     "data": {
      "text/plain": [
       "<matplotlib.axes._subplots.AxesSubplot at 0x1f65d574ca0>"
      ]
     },
     "execution_count": 34,
     "metadata": {},
     "output_type": "execute_result"
    },
    {
     "data": {
      "image/png": "[encoded data removed]",
      "text/plain": [
       "<Figure size 432x288 with 1 Axes>"
      ]
     },
     "metadata": {
      "needs_background": "light"
     },
     "output_type": "display_data"
    }
   ],
   "source": [
    "s2.plot(kind='bar') # 수직막대그래프"
   ]
  },
  {
   "cell_type": "code",
   "execution_count": 35,
   "metadata": {},
   "outputs": [
    {
     "data": {
      "text/plain": [
       "<matplotlib.axes._subplots.AxesSubplot at 0x1f65cd3d1f0>"
      ]
     },
     "execution_count": 35,
     "metadata": {},
     "output_type": "execute_result"
    },
    {
     "data": {
      "image/png": "[encoded data removed]",
      "text/plain": [
       "<Figure size 432x288 with 1 Axes>"
      ]
     },
     "metadata": {
      "needs_background": "light"
     },
     "output_type": "display_data"
    }
   ],
   "source": [
    "s2.plot(kind='barh') # 수평막대그래프"
   ]
  },
  {
   "cell_type": "code",
   "execution_count": 36,
   "metadata": {},
   "outputs": [
    {
     "data": {
      "text/html": [
       "<div>\n",
       "<style scoped>\n",
       "    .dataframe tbody tr th:only-of-type {\n",
       "        vertical-align: middle;\n",
       "    }\n",
       "\n",
       "    .dataframe tbody tr th {\n",
       "        vertical-align: top;\n",
       "    }\n",
       "\n",
       "    .dataframe thead th {\n",
       "        text-align: right;\n",
       "    }\n",
       "</style>\n",
       "<table border=\"1\" class=\"dataframe\">\n",
       "  <thead>\n",
       "    <tr style=\"text-align: right;\">\n",
       "      <th>Genus</th>\n",
       "      <th>A</th>\n",
       "      <th>B</th>\n",
       "      <th>C</th>\n",
       "      <th>D</th>\n",
       "    </tr>\n",
       "  </thead>\n",
       "  <tbody>\n",
       "    <tr>\n",
       "      <th>one</th>\n",
       "      <td>0.598070</td>\n",
       "      <td>0.640015</td>\n",
       "      <td>0.812736</td>\n",
       "      <td>0.840883</td>\n",
       "    </tr>\n",
       "    <tr>\n",
       "      <th>two</th>\n",
       "      <td>0.200634</td>\n",
       "      <td>0.887960</td>\n",
       "      <td>0.752852</td>\n",
       "      <td>0.777809</td>\n",
       "    </tr>\n",
       "    <tr>\n",
       "      <th>three</th>\n",
       "      <td>0.517326</td>\n",
       "      <td>0.942496</td>\n",
       "      <td>0.707804</td>\n",
       "      <td>0.814952</td>\n",
       "    </tr>\n",
       "    <tr>\n",
       "      <th>four</th>\n",
       "      <td>0.821030</td>\n",
       "      <td>0.232452</td>\n",
       "      <td>0.881107</td>\n",
       "      <td>0.772855</td>\n",
       "    </tr>\n",
       "    <tr>\n",
       "      <th>five</th>\n",
       "      <td>0.731299</td>\n",
       "      <td>0.223462</td>\n",
       "      <td>0.208304</td>\n",
       "      <td>0.819710</td>\n",
       "    </tr>\n",
       "    <tr>\n",
       "      <th>six</th>\n",
       "      <td>0.188489</td>\n",
       "      <td>0.017070</td>\n",
       "      <td>0.657497</td>\n",
       "      <td>0.028143</td>\n",
       "    </tr>\n",
       "  </tbody>\n",
       "</table>\n",
       "</div>"
      ],
      "text/plain": [
       "Genus         A         B         C         D\n",
       "one    0.598070  0.640015  0.812736  0.840883\n",
       "two    0.200634  0.887960  0.752852  0.777809\n",
       "three  0.517326  0.942496  0.707804  0.814952\n",
       "four   0.821030  0.232452  0.881107  0.772855\n",
       "five   0.731299  0.223462  0.208304  0.819710\n",
       "six    0.188489  0.017070  0.657497  0.028143"
      ]
     },
     "execution_count": 36,
     "metadata": {},
     "output_type": "execute_result"
    }
   ],
   "source": [
    "# name=\"Genus\" → 범례제목\n",
    "df2 = pd.DataFrame(np.random.rand(6,4),\n",
    "                  index=[\"one\", \"two\", \"three\", \"four\", \"five\", \"six\"],\n",
    "                  columns=pd.Index([\"A\", \"B\", \"C\", \"D\"], name=\"Genus\")\n",
    "                  )\n",
    "df2"
   ]
  },
  {
   "cell_type": "code",
   "execution_count": 37,
   "metadata": {},
   "outputs": [
    {
     "data": {
      "text/plain": [
       "<matplotlib.axes._subplots.AxesSubplot at 0x1f65c795df0>"
      ]
     },
     "execution_count": 37,
     "metadata": {},
     "output_type": "execute_result"
    },
    {
     "data": {
      "image/png": "[encoded data removed]",
      "text/plain": [
       "<Figure size 432x288 with 1 Axes>"
      ]
     },
     "metadata": {
      "needs_background": "light"
     },
     "output_type": "display_data"
    }
   ],
   "source": [
    "df2.plot(kind='bar')"
   ]
  },
  {
   "cell_type": "code",
   "execution_count": 38,
   "metadata": {},
   "outputs": [
    {
     "data": {
      "text/plain": [
       "<matplotlib.axes._subplots.AxesSubplot at 0x1f65d7706a0>"
      ]
     },
     "execution_count": 38,
     "metadata": {},
     "output_type": "execute_result"
    },
    {
     "data": {
      "image/png": "[encoded data removed]",
      "text/plain": [
       "<Figure size 432x288 with 1 Axes>"
      ]
     },
     "metadata": {
      "needs_background": "light"
     },
     "output_type": "display_data"
    }
   ],
   "source": [
    "# 하나의 인덱스에 각 열의 값을 한 줄로 표현\n",
    "df2.plot(kind='barh', stacked=True)"
   ]
  },
  {
   "cell_type": "markdown",
   "metadata": {},
   "source": [
    "#### Histogram 그리기"
   ]
  },
  {
   "cell_type": "code",
   "execution_count": 39,
   "metadata": {},
   "outputs": [
    {
     "data": {
      "text/plain": [
       "0     -0.744331\n",
       "1     -0.600086\n",
       "2      0.150867\n",
       "3      1.151835\n",
       "4     -0.487594\n",
       "         ...   \n",
       "195   -0.678778\n",
       "196   -1.156921\n",
       "197    0.473725\n",
       "198   -0.888345\n",
       "199   -0.542443\n",
       "Length: 200, dtype: float64"
      ]
     },
     "execution_count": 39,
     "metadata": {},
     "output_type": "execute_result"
    }
   ],
   "source": [
    "# Histogram은 인덱스가 필요없다.\n",
    "s3 = pd.Series(np.random.normal(0,1, size=200))\n",
    "s3"
   ]
  },
  {
   "cell_type": "code",
   "execution_count": 40,
   "metadata": {},
   "outputs": [
    {
     "data": {
      "text/plain": [
       "<matplotlib.axes._subplots.AxesSubplot at 0x1f65d8ab730>"
      ]
     },
     "execution_count": 40,
     "metadata": {},
     "output_type": "execute_result"
    },
    {
     "data": {
      "image/png": "[encoded data removed]",
      "text/plain": [
       "<Figure size 432x288 with 1 Axes>"
      ]
     },
     "metadata": {
      "needs_background": "light"
     },
     "output_type": "display_data"
    }
   ],
   "source": [
    "s3.hist()"
   ]
  },
  {
   "cell_type": "code",
   "execution_count": 41,
   "metadata": {},
   "outputs": [
    {
     "data": {
      "text/plain": [
       "<matplotlib.axes._subplots.AxesSubplot at 0x1f65d9885e0>"
      ]
     },
     "execution_count": 41,
     "metadata": {},
     "output_type": "execute_result"
    },
    {
     "data": {
      "image/png": "[encoded data removed]",
      "text/plain": [
       "<Figure size 432x288 with 1 Axes>"
      ]
     },
     "metadata": {
      "needs_background": "light"
     },
     "output_type": "display_data"
    }
   ],
   "source": [
    "# x축의 구간 개수를 bin이라고 한다.\n",
    "s3.hist(bins=100)"
   ]
  },
  {
   "cell_type": "markdown",
   "metadata": {},
   "source": [
    "### 산점도"
   ]
  },
  {
   "cell_type": "code",
   "execution_count": 42,
   "metadata": {},
   "outputs": [
    {
     "data": {
      "text/plain": [
       "array([[  0.09806269,  -2.11838921],\n",
       "       [  0.32542695,   7.60656664],\n",
       "       [  0.50841375,  -4.46983221],\n",
       "       [ -0.84164372,   3.14370349],\n",
       "       [  0.13331351,   5.48592203],\n",
       "       [  0.37014142,  -2.05721845],\n",
       "       [  0.95655541,  -2.40559867],\n",
       "       [  1.91045693,  -4.25552171],\n",
       "       [  0.37436921,  -0.6683143 ],\n",
       "       [  2.0509632 ,  -1.80381498],\n",
       "       [  0.99218607,  -5.53190503],\n",
       "       [ -0.38238186,  -4.4920668 ],\n",
       "       [  1.0194606 ,  -1.29686538],\n",
       "       [  0.16056237,  -1.83780999],\n",
       "       [  0.08028157,  -5.04950697],\n",
       "       [  1.20495343,  -6.2821252 ],\n",
       "       [  0.9053797 ,  -5.35461002],\n",
       "       [  1.20085887,  -1.06711823],\n",
       "       [  1.13951286,   6.14067772],\n",
       "       [  1.17901832,   1.66434443],\n",
       "       [  1.77168796,   1.73097822],\n",
       "       [  0.53555768,   1.2814449 ],\n",
       "       [  2.10434248,   0.2422788 ],\n",
       "       [  0.72996063, -13.03978082],\n",
       "       [  3.48650781,  -6.94270847],\n",
       "       [  0.95086483,   3.33024942],\n",
       "       [ -1.16765916,  -8.04651797],\n",
       "       [  0.62800953,  -0.27088198],\n",
       "       [  2.60260603,   2.58004656],\n",
       "       [  0.79644242,   4.09365498],\n",
       "       [  1.69569112,  -5.17963759],\n",
       "       [ -0.78908151,  -3.09293145],\n",
       "       [ -0.69617565,   0.11423144],\n",
       "       [  2.31800047,   6.6373502 ],\n",
       "       [  1.28673825,  -0.87092155],\n",
       "       [  0.34835245,   2.92469351],\n",
       "       [  1.63953433,  -1.85436808],\n",
       "       [  0.12947114,   1.74295705],\n",
       "       [  2.22829215,  -4.8186701 ],\n",
       "       [  0.27635147,   0.71092008],\n",
       "       [  1.03941577,   3.6090584 ],\n",
       "       [ -0.27268861,   1.05270917],\n",
       "       [  0.45937416,  -3.13886926],\n",
       "       [  0.14487491,   4.38287627],\n",
       "       [  2.57940375,   5.40467791],\n",
       "       [  1.74259329,  -0.48015478],\n",
       "       [  0.26429999,  -0.45464346],\n",
       "       [ -0.94074357,  -1.40582849],\n",
       "       [  0.64974692,  -3.54150065],\n",
       "       [  0.28151761,  -3.20664785],\n",
       "       [  0.53411355,  -3.80339828],\n",
       "       [  0.85217965,  -5.35324896],\n",
       "       [ -0.43606273,  -5.27171941],\n",
       "       [ -1.24942144,  -2.92445989],\n",
       "       [  1.11346285,  -3.68321833],\n",
       "       [ -0.17210777,  -5.97334988],\n",
       "       [  0.73977042,  -2.25712415],\n",
       "       [  0.57018656,  -3.66497835],\n",
       "       [  1.29661665,  -1.02626574],\n",
       "       [  2.03403425,  -1.15654647],\n",
       "       [  1.62302089,   3.91142933],\n",
       "       [  1.50056012,  -3.70684595],\n",
       "       [  2.33701474,  -5.49489875],\n",
       "       [  1.50654722,   4.46528149],\n",
       "       [  0.4432448 ,   0.92610126],\n",
       "       [  1.70272706,  -3.54939004],\n",
       "       [  1.1945258 ,  -4.85404419],\n",
       "       [  2.04772001,   0.98200153],\n",
       "       [  0.64519716,  -1.79883197],\n",
       "       [  1.74482106,  -5.62228611],\n",
       "       [  0.50983886,  -3.9379312 ],\n",
       "       [  2.26293752,  -4.48607422],\n",
       "       [  1.62940577,  -5.09261931],\n",
       "       [  0.66693331,  -3.69358911],\n",
       "       [  2.01532475,  -3.49663759],\n",
       "       [  0.43580432,  -3.87318858],\n",
       "       [  2.40980116,  -0.08627613],\n",
       "       [  0.60494647,   2.48894804],\n",
       "       [  1.36649471,  -7.07412048],\n",
       "       [  2.65389329,  -1.78565353],\n",
       "       [  1.33177738,   0.89424446],\n",
       "       [  0.06944008,  -8.27715753],\n",
       "       [  1.0425899 ,  -8.83412625],\n",
       "       [  1.28246133,  -0.30472035],\n",
       "       [  3.06435231,  -7.62657892],\n",
       "       [ -0.14195233,  -5.48458654],\n",
       "       [  1.36462928, -10.73228877],\n",
       "       [  0.18673377,  -2.57925204],\n",
       "       [  0.37864197,  -0.72013996],\n",
       "       [  0.89532615,  -6.34802018],\n",
       "       [  0.94765997,  -5.67890878],\n",
       "       [  1.39813635,   5.97679469],\n",
       "       [  0.68774657,  -7.05302602],\n",
       "       [  1.78984737,   0.73165655],\n",
       "       [  1.38519684,  -2.3895499 ],\n",
       "       [  1.44844343,   6.2065502 ],\n",
       "       [  2.20224016,  -5.01725602],\n",
       "       [  2.46886293,  -7.58928154],\n",
       "       [  1.95473396,   6.2042136 ],\n",
       "       [  1.48317418,  -2.83972197]])"
      ]
     },
     "execution_count": 42,
     "metadata": {},
     "output_type": "execute_result"
    }
   ],
   "source": [
    "x1 = np.random.normal(1, 1, size=(100, 1))\n",
    "x2 = np.random.normal(-2, 4, size=(100, 1))\n",
    "x = np.concatenate((x1, x2), axis=1)\n",
    "x"
   ]
  },
  {
   "cell_type": "code",
   "execution_count": 43,
   "metadata": {},
   "outputs": [
    {
     "data": {
      "text/html": [
       "<div>\n",
       "<style scoped>\n",
       "    .dataframe tbody tr th:only-of-type {\n",
       "        vertical-align: middle;\n",
       "    }\n",
       "\n",
       "    .dataframe tbody tr th {\n",
       "        vertical-align: top;\n",
       "    }\n",
       "\n",
       "    .dataframe thead th {\n",
       "        text-align: right;\n",
       "    }\n",
       "</style>\n",
       "<table border=\"1\" class=\"dataframe\">\n",
       "  <thead>\n",
       "    <tr style=\"text-align: right;\">\n",
       "      <th></th>\n",
       "      <th>x1</th>\n",
       "      <th>x2</th>\n",
       "    </tr>\n",
       "  </thead>\n",
       "  <tbody>\n",
       "    <tr>\n",
       "      <th>0</th>\n",
       "      <td>0.098063</td>\n",
       "      <td>-2.118389</td>\n",
       "    </tr>\n",
       "    <tr>\n",
       "      <th>1</th>\n",
       "      <td>0.325427</td>\n",
       "      <td>7.606567</td>\n",
       "    </tr>\n",
       "    <tr>\n",
       "      <th>2</th>\n",
       "      <td>0.508414</td>\n",
       "      <td>-4.469832</td>\n",
       "    </tr>\n",
       "    <tr>\n",
       "      <th>3</th>\n",
       "      <td>-0.841644</td>\n",
       "      <td>3.143703</td>\n",
       "    </tr>\n",
       "    <tr>\n",
       "      <th>4</th>\n",
       "      <td>0.133314</td>\n",
       "      <td>5.485922</td>\n",
       "    </tr>\n",
       "    <tr>\n",
       "      <th>...</th>\n",
       "      <td>...</td>\n",
       "      <td>...</td>\n",
       "    </tr>\n",
       "    <tr>\n",
       "      <th>95</th>\n",
       "      <td>1.448443</td>\n",
       "      <td>6.206550</td>\n",
       "    </tr>\n",
       "    <tr>\n",
       "      <th>96</th>\n",
       "      <td>2.202240</td>\n",
       "      <td>-5.017256</td>\n",
       "    </tr>\n",
       "    <tr>\n",
       "      <th>97</th>\n",
       "      <td>2.468863</td>\n",
       "      <td>-7.589282</td>\n",
       "    </tr>\n",
       "    <tr>\n",
       "      <th>98</th>\n",
       "      <td>1.954734</td>\n",
       "      <td>6.204214</td>\n",
       "    </tr>\n",
       "    <tr>\n",
       "      <th>99</th>\n",
       "      <td>1.483174</td>\n",
       "      <td>-2.839722</td>\n",
       "    </tr>\n",
       "  </tbody>\n",
       "</table>\n",
       "<p>100 rows × 2 columns</p>\n",
       "</div>"
      ],
      "text/plain": [
       "          x1        x2\n",
       "0   0.098063 -2.118389\n",
       "1   0.325427  7.606567\n",
       "2   0.508414 -4.469832\n",
       "3  -0.841644  3.143703\n",
       "4   0.133314  5.485922\n",
       "..       ...       ...\n",
       "95  1.448443  6.206550\n",
       "96  2.202240 -5.017256\n",
       "97  2.468863 -7.589282\n",
       "98  1.954734  6.204214\n",
       "99  1.483174 -2.839722\n",
       "\n",
       "[100 rows x 2 columns]"
      ]
     },
     "execution_count": 43,
     "metadata": {},
     "output_type": "execute_result"
    }
   ],
   "source": [
    "df3 = pd.DataFrame(x, columns=['x1', 'x2'])\n",
    "df3"
   ]
  },
  {
   "cell_type": "code",
   "execution_count": 44,
   "metadata": {},
   "outputs": [
    {
     "data": {
      "text/plain": [
       "<matplotlib.collections.PathCollection at 0x1f65cf85220>"
      ]
     },
     "execution_count": 44,
     "metadata": {},
     "output_type": "execute_result"
    },
    {
     "data": {
      "image/png": "[encoded data removed]",
      "text/plain": [
       "<Figure size 432x288 with 1 Axes>"
      ]
     },
     "metadata": {
      "needs_background": "light"
     },
     "output_type": "display_data"
    }
   ],
   "source": [
    "plt.scatter(df3['x1'], df3['x2'])"
   ]
  },
  {
   "cell_type": "markdown",
   "metadata": {},
   "source": [
    "### Plot모양 변형하기"
   ]
  },
  {
   "cell_type": "markdown",
   "metadata": {},
   "source": [
    "#### figure 객체 구성\n",
    "##### figure 객체 구성하는 방법 1"
   ]
  },
  {
   "cell_type": "code",
   "execution_count": 10,
   "metadata": {},
   "outputs": [
    {
     "data": {
      "text/plain": [
       "(array([ 1.,  0.,  0.,  2.,  1.,  5.,  3., 10.,  7.,  7.,  8., 16., 10.,\n",
       "        13.,  5.,  2.,  5.,  2.,  2.,  1.]),\n",
       " array([-3.18861645, -2.89442547, -2.60023449, -2.30604351, -2.01185253,\n",
       "        -1.71766155, -1.42347057, -1.12927959, -0.83508861, -0.54089763,\n",
       "        -0.24670665,  0.04748433,  0.34167531,  0.63586629,  0.93005728,\n",
       "         1.22424826,  1.51843924,  1.81263022,  2.1068212 ,  2.40101218,\n",
       "         2.69520316]),\n",
       " <a list of 20 Patch objects>)"
      ]
     },
     "execution_count": 10,
     "metadata": {},
     "output_type": "execute_result"
    },
    {
     "data": {
      "image/png": "[encoded data removed]",
      "text/plain": [
       "<Figure size 432x288 with 4 Axes>"
      ]
     },
     "metadata": {
      "needs_background": "light"
     },
     "output_type": "display_data"
    }
   ],
   "source": [
    "# figure 차트 그래프를 그리기 위한 공간, 컨테이너\n",
    "\n",
    "fig = plt.figure() # 캔버스라는 공간에 빈 영역으로 구성을 한 상태\n",
    "ax1 = fig.add_subplot(2,2,1) # 2행 2열의 첫 번 째 위치를 나타냄\n",
    "ax2 = fig.add_subplot(2,2,2) # 2행 2열의 두 번 째 위치를 나타냄\n",
    "ax3 = fig.add_subplot(2,2,3) # 2행 2열의 세 번 째 위치를 나타냄\n",
    "ax4 = fig.add_subplot(2,2,4) # 2행 2열의 네 번 째 위치를 나타냄\n",
    "ax2.hist(np.random.randn(100), bins=20)\n",
    "#plt.show() %matplotlib inline 명령을 사용하면 plt.show()생략해도 그래프 표시된다."
   ]
  },
  {
   "cell_type": "code",
   "execution_count": null,
   "metadata": {},
   "outputs": [],
   "source": [
    "ax5 = fig.add_subplot(2,2,5) # 5번 째 참조하는 위치의 영역이 존재하지 않아 에러발생"
   ]
  },
  {
   "cell_type": "code",
   "execution_count": 51,
   "metadata": {},
   "outputs": [
    {
     "data": {
      "text/plain": [
       "<matplotlib.collections.PathCollection at 0x1f65eaf2c70>"
      ]
     },
     "execution_count": 51,
     "metadata": {},
     "output_type": "execute_result"
    }
   ],
   "source": [
    "ax2.scatter(np.arange(30), np.arange(30) + 3 * np.random.randn(30))"
   ]
  },
  {
   "cell_type": "markdown",
   "metadata": {},
   "source": [
    "##### figure 객체 구성하는 방법 2"
   ]
  },
  {
   "cell_type": "code",
   "execution_count": 52,
   "metadata": {},
   "outputs": [
    {
     "data": {
      "image/png": "[encoded data removed]",
      "text/plain": [
       "<Figure size 432x288 with 6 Axes>"
      ]
     },
     "metadata": {
      "needs_background": "light"
     },
     "output_type": "display_data"
    }
   ],
   "source": [
    "# fig, figure객체(캔버스)\n",
    "# axes: 축\n",
    "fig, axes = plt.subplots(2,3) # 리턴값으로 파라미터 2개를 반환한다."
   ]
  },
  {
   "cell_type": "code",
   "execution_count": 53,
   "metadata": {},
   "outputs": [
    {
     "data": {
      "text/plain": [
       "array([[<matplotlib.axes._subplots.AxesSubplot object at 0x000001F65EB1FAC0>,\n",
       "        <matplotlib.axes._subplots.AxesSubplot object at 0x000001F65CCC8370>,\n",
       "        <matplotlib.axes._subplots.AxesSubplot object at 0x000001F65D4B3F40>],\n",
       "       [<matplotlib.axes._subplots.AxesSubplot object at 0x000001F65D7BA730>,\n",
       "        <matplotlib.axes._subplots.AxesSubplot object at 0x000001F65D976E50>,\n",
       "        <matplotlib.axes._subplots.AxesSubplot object at 0x000001F65CF912B0>]],\n",
       "      dtype=object)"
      ]
     },
     "execution_count": 53,
     "metadata": {},
     "output_type": "execute_result"
    }
   ],
   "source": [
    "axes"
   ]
  },
  {
   "cell_type": "markdown",
   "metadata": {},
   "source": [
    "### Plot모양 꾸미기"
   ]
  },
  {
   "cell_type": "code",
   "execution_count": 54,
   "metadata": {},
   "outputs": [
    {
     "data": {
      "text/plain": [
       "[<matplotlib.lines.Line2D at 0x1f65ebed760>]"
      ]
     },
     "execution_count": 54,
     "metadata": {},
     "output_type": "execute_result"
    },
    {
     "data": {
      "image/png": "[encoded data removed]",
      "text/plain": [
       "<Figure size 432x288 with 1 Axes>"
      ]
     },
     "metadata": {
      "needs_background": "light"
     },
     "output_type": "display_data"
    }
   ],
   "source": [
    "# random 모듈을 사용하는 이유는 임시 데이터를 빠르게 작성하기 위하여\n",
    "plt.plot(np.random.randn(50), color=\"orange\", marker = 'o', linestyle='--') # color, marker, linestyle 3가지 각각 사용"
   ]
  },
  {
   "cell_type": "code",
   "execution_count": 55,
   "metadata": {},
   "outputs": [
    {
     "data": {
      "text/plain": [
       "[<matplotlib.lines.Line2D at 0x1f65ec25700>]"
      ]
     },
     "execution_count": 55,
     "metadata": {},
     "output_type": "execute_result"
    },
    {
     "data": {
      "image/png": "[encoded data removed]",
      "text/plain": [
       "<Figure size 432x288 with 1 Axes>"
      ]
     },
     "metadata": {
      "needs_background": "light"
     },
     "output_type": "display_data"
    }
   ],
   "source": [
    "plt.plot(np.random.randn(30), \"k,-\") # color, marker, linestyle 3가지 한번에 사용"
   ]
  },
  {
   "cell_type": "code",
   "execution_count": 17,
   "metadata": {},
   "outputs": [
    {
     "data": {
      "text/plain": [
       "<matplotlib.axes._subplots.AxesSubplot at 0x1778070e340>"
      ]
     },
     "execution_count": 17,
     "metadata": {},
     "output_type": "execute_result"
    },
    {
     "data": {
      "image/png": "[encoded data removed]",
      "text/plain": [
       "<Figure size 432x288 with 2 Axes>"
      ]
     },
     "metadata": {
      "needs_background": "light"
     },
     "output_type": "display_data"
    }
   ],
   "source": [
    "# figure, subplot을 사용\n",
    "fig, axes = plt.subplots(2, 1) # 2행 1열에 해당하는 figure(캔버스 영역)이 생성됨\n",
    "# 차트에 사용할 Series 데이터 생성\n",
    "data = pd.Series(np.random.rand(16), index=list('abcdefghijklmnop'))\n",
    "data.plot(kind='bar', ax=axes[1], color='k', alpha=0.7)"
   ]
  },
  {
   "cell_type": "code",
   "execution_count": 59,
   "metadata": {},
   "outputs": [
    {
     "data": {
      "text/plain": [
       "<matplotlib.axes._subplots.AxesSubplot at 0x1f65ec58a00>"
      ]
     },
     "execution_count": 59,
     "metadata": {},
     "output_type": "execute_result"
    }
   ],
   "source": [
    "data.plot(kind='barh', ax=axes[1], color='g', alpha=0.3)"
   ]
  },
  {
   "cell_type": "code",
   "execution_count": 60,
   "metadata": {},
   "outputs": [
    {
     "data": {
      "text/plain": [
       "<Figure size 432x288 with 0 Axes>"
      ]
     },
     "metadata": {},
     "output_type": "display_data"
    }
   ],
   "source": [
    "fig = plt.figure()"
   ]
  },
  {
   "cell_type": "code",
   "execution_count": 61,
   "metadata": {},
   "outputs": [],
   "source": [
    "ax = fig.add_subplot(1,1,1) # 1행 1열의 첫번 째 위치를 가리킴"
   ]
  },
  {
   "cell_type": "code",
   "execution_count": 62,
   "metadata": {},
   "outputs": [
    {
     "data": {
      "text/plain": [
       "[<matplotlib.axis.XTick at 0x1f65ece8dc0>,\n",
       " <matplotlib.axis.XTick at 0x1f65ece8d90>,\n",
       " <matplotlib.axis.XTick at 0x1f65ece39a0>,\n",
       " <matplotlib.axis.XTick at 0x1f65ed01880>,\n",
       " <matplotlib.axis.XTick at 0x1f65ed01c40>]"
      ]
     },
     "execution_count": 62,
     "metadata": {},
     "output_type": "execute_result"
    }
   ],
   "source": [
    "ax.set_xticks([0, 250, 500, 750, 1000])"
   ]
  },
  {
   "cell_type": "code",
   "execution_count": 63,
   "metadata": {},
   "outputs": [],
   "source": [
    "# 눈금을 문자로 대체하기\n",
    "labels = ax.set_xlabel(['one', 'two','three', 'four', 'five'], rotation=30)"
   ]
  },
  {
   "cell_type": "code",
   "execution_count": 64,
   "metadata": {},
   "outputs": [
    {
     "data": {
      "text/plain": [
       "Text(0.5, 1.0, 'random walk plot')"
      ]
     },
     "execution_count": 64,
     "metadata": {},
     "output_type": "execute_result"
    }
   ],
   "source": [
    "# 제목 달기\n",
    "ax.set_title('random walk plot')"
   ]
  },
  {
   "cell_type": "code",
   "execution_count": 65,
   "metadata": {},
   "outputs": [
    {
     "data": {
      "text/plain": [
       "Text(0, 0.5, 'Yalues')"
      ]
     },
     "execution_count": 65,
     "metadata": {},
     "output_type": "execute_result"
    }
   ],
   "source": [
    "# 라벨 달기\n",
    "ax.set_xlabel('Stages')\n",
    "ax.set_ylabel('Yalues')"
   ]
  },
  {
   "cell_type": "code",
   "execution_count": 66,
   "metadata": {},
   "outputs": [
    {
     "data": {
      "image/png": "[encoded data removed]",
      "text/plain": [
       "<Figure size 432x288 with 1 Axes>"
      ]
     },
     "metadata": {
      "needs_background": "light"
     },
     "output_type": "display_data"
    }
   ],
   "source": [
    "fig = plt.figure()\n",
    "ax = fig.add_subplot(1,1,1)"
   ]
  }
 ],
 "metadata": {
  "kernelspec": {
   "display_name": "Python 3",
   "language": "python",
   "name": "python3"
  },
  "language_info": {
   "codemirror_mode": {
    "name": "ipython",
    "version": 3
   },
   "file_extension": ".py",
   "mimetype": "text/x-python",
   "name": "python",
   "nbconvert_exporter": "python",
   "pygments_lexer": "ipython3",
   "version": "3.8.3"
  }
 },
 "nbformat": 4,
 "nbformat_minor": 4
}
